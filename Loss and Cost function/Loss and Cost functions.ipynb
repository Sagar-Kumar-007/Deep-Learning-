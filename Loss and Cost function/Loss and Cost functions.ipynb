{
 "cells": [
  {
   "cell_type": "markdown",
   "metadata": {},
   "source": [
    "***Loss Function vs Cost Function:***<br>\n",
    "Loss functions are used to define **the error** between the predicted values and the actual values. Whereas, the **cost function is the average of all the losses for a given dataset.** Example: In linear regression, the loss function is directlty proportional to the square of difference of the predicted value and the actual value and its cost function is the average of all the losses i.e., it is the sum of squares of the difference between the actual values and the predicted values divided by the total number of values."
   ]
  },
  {
   "cell_type": "markdown",
   "metadata": {},
   "source": [
    "***Loss Functions:***<br>\n",
    "1. MSE (Mean Squared Error) and MAE (Mean Absolute Error):<br>\n",
    "Mean Absolute Error (MAE): This measures the absolute average distance between the real data and the predicted data, but it fails to punish large errors in prediction.<br>\n",
    "Mean Square Error (MSE): This measures the squared average distance between the real data and the predicted data. Here, larger errors are well noted (better than MAE). But the disadvantage is that it also squares up the units of data as well. So, evaluation with different units is not at all justified.<br>\n",
    "**MSE helps Gradient Descent to converge in a better way and thus training will be better when compared to MAE.**<br>\n",
    "Note that MSE do not have the units of the error and hence Root Mean Squared Error is used for training in linear regressions, random forests etc but again, it is necessary for us to try every method to get the best model.<br>\n",
    "2. Log Loss or Binary Cross Entropy:<br>\n",
    "<img src='binary_entropy.jpg' width=500><br>\n",
    "***For Logistic Regression, we use binary cross entropy and not MSE.*** For more information, click on the [link](https://towardsdatascience.com/why-not-mse-as-a-loss-function-for-logistic-regression-589816b5e03c)"
   ]
  },
  {
   "cell_type": "markdown",
   "metadata": {},
   "source": [
    "**Note that cost function is avg of all the losses.**"
   ]
  },
  {
   "cell_type": "markdown",
   "metadata": {},
   "source": [
    "***Epoch and Forward Passing:***<br>Consider a dataset in which you need to predict whether a person buys insurance or not based on the input such as age and affordability.<br> First, you need to select a loss function which will be used to calculate all the individual losses and then find the average of it. The forward process in training is called ***Forward Passing.*** Forward Passing of all the samples for one time is called ***One Epoch.***"
   ]
  },
  {
   "cell_type": "code",
   "execution_count": 1,
   "metadata": {
    "ExecuteTime": {
     "end_time": "2020-10-06T13:45:34.906561Z",
     "start_time": "2020-10-06T13:45:34.898554Z"
    }
   },
   "outputs": [],
   "source": [
    "# Implementing Loss functions:"
   ]
  },
  {
   "cell_type": "code",
   "execution_count": 2,
   "metadata": {
    "ExecuteTime": {
     "end_time": "2020-10-06T13:45:44.079515Z",
     "start_time": "2020-10-06T13:45:43.543995Z"
    }
   },
   "outputs": [],
   "source": [
    "import numpy as np"
   ]
  },
  {
   "cell_type": "code",
   "execution_count": 22,
   "metadata": {
    "ExecuteTime": {
     "end_time": "2020-10-06T13:59:25.864779Z",
     "start_time": "2020-10-06T13:59:25.854310Z"
    }
   },
   "outputs": [],
   "source": [
    "y_predicted=np.array([1,1,0,0,1])\n",
    "y_true=np.array([0.3,0.7,1,0,0.5])"
   ]
  },
  {
   "cell_type": "code",
   "execution_count": 4,
   "metadata": {
    "ExecuteTime": {
     "end_time": "2020-10-06T13:47:06.956601Z",
     "start_time": "2020-10-06T13:47:06.946127Z"
    }
   },
   "outputs": [],
   "source": [
    "# MAE (using for loop):"
   ]
  },
  {
   "cell_type": "code",
   "execution_count": 7,
   "metadata": {
    "ExecuteTime": {
     "end_time": "2020-10-06T13:50:35.248348Z",
     "start_time": "2020-10-06T13:50:35.232233Z"
    }
   },
   "outputs": [],
   "source": [
    "def MAE(y_true,y_predicted):\n",
    "    total=0\n",
    "    for y_pred,y_tr in zip(y_predicted,y_true): # Zip function allows to iterate multiple arrays in a single loop\n",
    "        total+=abs(y_pred-y_tr)\n",
    "    mae=total/len(y_true)\n",
    "    return mae"
   ]
  },
  {
   "cell_type": "code",
   "execution_count": 8,
   "metadata": {
    "ExecuteTime": {
     "end_time": "2020-10-06T13:50:35.667176Z",
     "start_time": "2020-10-06T13:50:35.656450Z"
    }
   },
   "outputs": [
    {
     "data": {
      "text/plain": [
       "0.5"
      ]
     },
     "execution_count": 8,
     "metadata": {},
     "output_type": "execute_result"
    }
   ],
   "source": [
    "MAE(y_true,y_predicted)"
   ]
  },
  {
   "cell_type": "code",
   "execution_count": 9,
   "metadata": {
    "ExecuteTime": {
     "end_time": "2020-10-06T13:50:57.020467Z",
     "start_time": "2020-10-06T13:50:57.009540Z"
    }
   },
   "outputs": [],
   "source": [
    "# MAE using numpy:"
   ]
  },
  {
   "cell_type": "code",
   "execution_count": 12,
   "metadata": {
    "ExecuteTime": {
     "end_time": "2020-10-06T13:51:45.736988Z",
     "start_time": "2020-10-06T13:51:45.717294Z"
    }
   },
   "outputs": [
    {
     "data": {
      "text/plain": [
       "0.5"
      ]
     },
     "execution_count": 12,
     "metadata": {},
     "output_type": "execute_result"
    }
   ],
   "source": [
    "mae=np.mean(np.abs(y_true-y_predicted))\n",
    "mae"
   ]
  },
  {
   "cell_type": "code",
   "execution_count": 13,
   "metadata": {
    "ExecuteTime": {
     "end_time": "2020-10-06T13:52:05.502513Z",
     "start_time": "2020-10-06T13:52:05.497395Z"
    }
   },
   "outputs": [],
   "source": [
    "# Similarly you can do for MSE."
   ]
  },
  {
   "cell_type": "code",
   "execution_count": 14,
   "metadata": {
    "ExecuteTime": {
     "end_time": "2020-10-06T13:52:46.851997Z",
     "start_time": "2020-10-06T13:52:46.837404Z"
    }
   },
   "outputs": [],
   "source": [
    "# Binary Cross Entropy:"
   ]
  },
  {
   "cell_type": "code",
   "execution_count": 15,
   "metadata": {
    "ExecuteTime": {
     "end_time": "2020-10-06T13:56:11.095371Z",
     "start_time": "2020-10-06T13:56:11.081371Z"
    }
   },
   "outputs": [],
   "source": [
    "# Since the binary cross entropy uses values like 'y_pred' and '1-y_pred' and the logarithm of it with y as 0 or 1 gives you\n",
    "# infinite, we need to to change the value 0 to near zero like 10^-15 and change the value 1 to near one like 1-10^-15"
   ]
  },
  {
   "cell_type": "code",
   "execution_count": 17,
   "metadata": {
    "ExecuteTime": {
     "end_time": "2020-10-06T13:57:06.650888Z",
     "start_time": "2020-10-06T13:57:06.626421Z"
    }
   },
   "outputs": [
    {
     "data": {
      "text/plain": [
       "array([1, 1, 0, 0, 1])"
      ]
     },
     "execution_count": 17,
     "metadata": {},
     "output_type": "execute_result"
    }
   ],
   "source": [
    "y_predicted"
   ]
  },
  {
   "cell_type": "code",
   "execution_count": 18,
   "metadata": {
    "ExecuteTime": {
     "end_time": "2020-10-06T13:57:36.754049Z",
     "start_time": "2020-10-06T13:57:36.738480Z"
    }
   },
   "outputs": [
    {
     "data": {
      "text/plain": [
       "1e-15"
      ]
     },
     "execution_count": 18,
     "metadata": {},
     "output_type": "execute_result"
    }
   ],
   "source": [
    "# Define a variable with value 10^-15\n",
    "x=1e-15\n",
    "x"
   ]
  },
  {
   "cell_type": "code",
   "execution_count": 23,
   "metadata": {
    "ExecuteTime": {
     "end_time": "2020-10-06T13:59:29.959058Z",
     "start_time": "2020-10-06T13:59:29.945076Z"
    }
   },
   "outputs": [
    {
     "data": {
      "text/plain": [
       "[1, 1, 1e-15, 1e-15, 1]"
      ]
     },
     "execution_count": 23,
     "metadata": {},
     "output_type": "execute_result"
    }
   ],
   "source": [
    "y_predicted=[max(i,x) for i in y_predicted]\n",
    "y_predicted"
   ]
  },
  {
   "cell_type": "code",
   "execution_count": 24,
   "metadata": {
    "ExecuteTime": {
     "end_time": "2020-10-06T13:59:30.961397Z",
     "start_time": "2020-10-06T13:59:30.949245Z"
    }
   },
   "outputs": [
    {
     "data": {
      "text/plain": [
       "[0.999999999999999, 0.999999999999999, 1e-15, 1e-15, 0.999999999999999]"
      ]
     },
     "execution_count": 24,
     "metadata": {},
     "output_type": "execute_result"
    }
   ],
   "source": [
    "y_predicted=[min(i,1-x) for i in y_predicted]\n",
    "y_predicted"
   ]
  },
  {
   "cell_type": "code",
   "execution_count": 25,
   "metadata": {
    "ExecuteTime": {
     "end_time": "2020-10-06T14:00:49.339841Z",
     "start_time": "2020-10-06T14:00:49.323673Z"
    }
   },
   "outputs": [],
   "source": [
    "# Now that you converted the predicted array, we can implement the formula to calculate the binary entropy loss"
   ]
  },
  {
   "cell_type": "code",
   "execution_count": 29,
   "metadata": {
    "ExecuteTime": {
     "end_time": "2020-10-06T14:03:34.484662Z",
     "start_time": "2020-10-06T14:03:34.467491Z"
    }
   },
   "outputs": [
    {
     "data": {
      "text/plain": [
       "17.2696280766844"
      ]
     },
     "execution_count": 29,
     "metadata": {},
     "output_type": "execute_result"
    }
   ],
   "source": [
    "binary_entropy_loss=-np.mean(y_true*np.log(y_predicted)+(np.ones(len(y_true))-y_true)*np.log(np.ones(len(y_true))-y_predicted))\n",
    "binary_entropy_loss"
   ]
  },
  {
   "cell_type": "markdown",
   "metadata": {},
   "source": [
    "***use Binary cross entropy in case of Binary classification only. In multi class classification we need to use categorical cross entropy or sparse categorical entropy.***"
   ]
  },
  {
   "cell_type": "code",
   "execution_count": null,
   "metadata": {},
   "outputs": [],
   "source": []
  }
 ],
 "metadata": {
  "kernelspec": {
   "display_name": "Python 3",
   "language": "python",
   "name": "python3"
  },
  "language_info": {
   "codemirror_mode": {
    "name": "ipython",
    "version": 3
   },
   "file_extension": ".py",
   "mimetype": "text/x-python",
   "name": "python",
   "nbconvert_exporter": "python",
   "pygments_lexer": "ipython3",
   "version": "3.7.7"
  },
  "toc": {
   "base_numbering": 1,
   "nav_menu": {},
   "number_sections": true,
   "sideBar": true,
   "skip_h1_title": false,
   "title_cell": "Table of Contents",
   "title_sidebar": "Contents",
   "toc_cell": false,
   "toc_position": {},
   "toc_section_display": true,
   "toc_window_display": false
  }
 },
 "nbformat": 4,
 "nbformat_minor": 4
}
