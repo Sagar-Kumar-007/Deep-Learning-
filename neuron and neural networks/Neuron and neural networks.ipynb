{
 "cells": [
  {
   "cell_type": "markdown",
   "metadata": {},
   "source": [
    "[Understanding Neural Networks and Neuron](https://becominghuman.ai/understanding-neural-networks-1-the-concept-of-neurons-287be36d40f#:~:text=Neural%20network%20is%20a%20set,function%20to%20the%20other%20neurons.)"
   ]
  },
  {
   "cell_type": "markdown",
   "metadata": {},
   "source": [
    "Neuron is a structure where passing a data (independent) converts it into a linear equation (for example) and then passes it through a activation function (say sigmoid/ logit function) and outputs the probability of its occurence\n",
    "<img src=\"neuron.png\" width=500>"
   ]
  },
  {
   "cell_type": "markdown",
   "metadata": {},
   "source": [
    "Here age is passed as a independent variable which will be used for predicting if the person buys insurance. The oval structure is called a neuron which consists of two parts. The one on the left is a linear equation with coefficients (also called as weights). Tuning these weights changes the accuracy of the model. The one on the right is an activation function (sigmoid function in this case). The linear equation (weighted sum) is put as a parameter in the activation function and then it calculates the probability of its occurence. This probability is the output of the neuron."
   ]
  },
  {
   "cell_type": "markdown",
   "metadata": {},
   "source": [
    "The age can also be called as a feature. In this case we have used only a single feature. You can have multiple features\n",
    "<br><img src=\"features.png\" width=500>"
   ]
  },
  {
   "cell_type": "markdown",
   "metadata": {},
   "source": [
    "Here w1, w2, w3,... are called weights; x1,x2,x3... are called features and b is called bias.\n",
    "Reperesentation of the neuron would be like this:\n",
    "<br><img src=\"neuron2.png\" width=500>"
   ]
  },
  {
   "cell_type": "markdown",
   "metadata": {},
   "source": [
    "[Neural Networks Explaination](https://www.youtube.com/watch?v=ER2It2mIagI&list=PLeo1K3hjS3uvCeTYTeyfe0-rN5r8zn9rw&index=41)"
   ]
  },
  {
   "cell_type": "code",
   "execution_count": 8,
   "metadata": {
    "ExecuteTime": {
     "end_time": "2020-10-04T05:13:44.799553Z",
     "start_time": "2020-10-04T05:13:44.783563Z"
    }
   },
   "outputs": [],
   "source": [
    "# Note that prominent features are given more weightage."
   ]
  },
  {
   "cell_type": "code",
   "execution_count": 9,
   "metadata": {
    "ExecuteTime": {
     "end_time": "2020-10-04T05:19:54.717797Z",
     "start_time": "2020-10-04T05:19:54.714828Z"
    }
   },
   "outputs": [],
   "source": [
    "# While training a neural network, the neurons randomly fit its weights and give a score (through x_train) \n",
    "# by which a category is predicted. Then it compares that with the y_train and checks whether it is correct. If wrong, it\n",
    "# backward propagates through the neural networks and adjusts the weights and again repeats the process. This process is \n",
    "# called Backward Error Propagation."
   ]
  },
  {
   "cell_type": "markdown",
   "metadata": {},
   "source": [
    "<img src=\"neural_networks.png\" width=500>"
   ]
  },
  {
   "cell_type": "markdown",
   "metadata": {},
   "source": [
    "This is a neural network. It consists of a bunch of layers of neurons. First layer is called the Input layer, the last one is the Output layer and the ones in the middle are the hidden layers."
   ]
  },
  {
   "cell_type": "markdown",
   "metadata": {},
   "source": [
    "You may see that the number \"9\" represented in a 2D array of numbers is converted into a 1D array by flattening it"
   ]
  },
  {
   "cell_type": "markdown",
   "metadata": {},
   "source": [
    "Training the number \"9\" in this case can be as detecting the arcs and the straight lines of the number 9 in each individual layers and then joining them."
   ]
  },
  {
   "cell_type": "code",
   "execution_count": null,
   "metadata": {},
   "outputs": [],
   "source": []
  }
 ],
 "metadata": {
  "kernelspec": {
   "display_name": "Python 3",
   "language": "python",
   "name": "python3"
  },
  "language_info": {
   "codemirror_mode": {
    "name": "ipython",
    "version": 3
   },
   "file_extension": ".py",
   "mimetype": "text/x-python",
   "name": "python",
   "nbconvert_exporter": "python",
   "pygments_lexer": "ipython3",
   "version": "3.7.7"
  },
  "toc": {
   "base_numbering": 1,
   "nav_menu": {},
   "number_sections": true,
   "sideBar": true,
   "skip_h1_title": false,
   "title_cell": "Table of Contents",
   "title_sidebar": "Contents",
   "toc_cell": false,
   "toc_position": {},
   "toc_section_display": true,
   "toc_window_display": false
  }
 },
 "nbformat": 4,
 "nbformat_minor": 4
}
