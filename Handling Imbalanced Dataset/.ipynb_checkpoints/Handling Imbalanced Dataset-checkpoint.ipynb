{
 "cells": [
  {
   "cell_type": "markdown",
   "metadata": {},
   "source": [
    "Situations where one faces the problem of Imbalanced Datasets:<br>\n",
    "1. You may notice that only one out of every 1000 transactions fraud and hence you get an imbalanced dataset.\n",
    "2. Customer Churn rate.\n",
    "3. Device Failure.\n",
    "4. Cancer Prediction etc."
   ]
  },
  {
   "cell_type": "markdown",
   "metadata": {},
   "source": [
    "Why do we bother about imbalanced datasets?<br>\n",
    "Consider the transaction example. Suppose that you have a dataset of thousand rows with only one row having the fraud transaction and other 999 rows with transactions that have not fraud. Now suppose that you have created a function like the one below<br><br>\n",
    "function transaction(row_number):\n",
    "<br>&nbsp;&nbsp;&nbsp;&nbsp; return True<br>\n",
    "<br> The function returns true regardless of the parameters given to the function. Hence you pass all the row numbers to the function and you will get 999 times that the transaction is not fraud and only once that the transaction was fraud. This is certainly a problem because it would not be correct to use this function in real life."
   ]
  },
  {
   "cell_type": "markdown",
   "metadata": {},
   "source": [
    "***Note: The problem of Imbalanced Dataset is observed in Classification Problems.***"
   ]
  },
  {
   "cell_type": "markdown",
   "metadata": {},
   "source": [
    "### Techniques to handle Imbalanced Datasets:<br>\n",
    "1.***Under Sampling Majority Class:***<br>\n",
    "<img src='undersample.jpg' width=500><br>\n",
    "Suppose that you have 99000 samples where the transactions were not fraud and 1000 samples where the transactions were fraud. **In Under Sampling, you randomly take samples from the majority class that are equal in number to the number of samples in the minority class.** In this example, you take 1000 random samples from the class 'Not fraud' and all the 1000 samples from the class 'Fraud' and then you train the model and make predictions. **This is surely not the best way to tackle imbalanced datasets because you remove huge amount of data from the dataset.***"
   ]
  },
  {
   "cell_type": "markdown",
   "metadata": {},
   "source": [
    "2. ***Over Sampling the minority class by duplication:***<br>\n",
    "<img src='duplication.jpg' width=500><br>\n",
    "In Over Sampling of minority class, you create the same number of copies as that of the major class by duplicating the minor class. In this case, you will make 99 copies of the minor sample (i.e., 1000*99=99000 samples) and then train your model. There are chances that this may also lead to overfitting of data because we simply copied our minority class multiple times.While this works, we could do something in a better way."
   ]
  },
  {
   "cell_type": "markdown",
   "metadata": {},
   "source": [
    "3. ***Over Sampling the minority class using SMOTE:***<br>\n",
    "SMOTE: Synthetic Minority Over Sampling Technique<br>\n",
    "We use K Nearest Neighbors algorithm and try to produce synthetic samples from the minority class.<br>[Smote](https://www.youtube.com/watch?v=FheTDyCwRdE)<br>\n",
    "Steps to create synthetic samples:<br>\n",
    "We take the minority class and plot a scatter plot. We then join each of the nearest neighbors to their respective points making an imaginary line and take a random point from the line. We repeat this process for all the minority class samples. Hence the points taken from the line can be said as Synthetic Samples and now you can use these synthetic samples into your minority class to reduce the imbalance.<br><img src='smote.jpg' width=500>"
   ]
  },
  {
   "cell_type": "markdown",
   "metadata": {},
   "source": [
    "4. ***Ensemble:***<br>\n",
    "Suppose you have 3000 samples in the majority class and 1000 samples in the minority class. In Ensemble technique, you divide the number of samples in the majority class to the number of samples in the minority class and the division gives you the number of models to create. You take each batch of the majority class having the same number of samples as that of the minority class and train the model. Since you have many models, you perform predictions take the one with the majority vote. In this case, you make a model for each 1000 samples of the major class and all the samples of the minor class and then you train your models and perform predictions. The outcome would be the one that has been predicted by most of the models.<br><img src='ensemble.jpg' width=500>"
   ]
  },
  {
   "cell_type": "markdown",
   "metadata": {},
   "source": [
    "5. ***Focal Loss:***<br>\n",
    "[Link](https://medium.com/analytics-vidhya/how-focal-loss-fixes-the-class-imbalance-problem-in-object-detection-3d2e1c4da8d7#:~:text=Focal%20loss%20is%20very%20useful,is%20simple%20and%20highly%20effective)"
   ]
  },
  {
   "cell_type": "code",
   "execution_count": 1,
   "metadata": {
    "ExecuteTime": {
     "end_time": "2020-10-18T10:30:48.202839Z",
     "start_time": "2020-10-18T10:30:47.503755Z"
    }
   },
   "outputs": [],
   "source": [
    "import pandas as pd\n",
    "import matplotlib.pyplot as plt\n",
    "import numpy as np"
   ]
  },
  {
   "cell_type": "code",
   "execution_count": 2,
   "metadata": {
    "ExecuteTime": {
     "end_time": "2020-10-18T10:30:55.002629Z",
     "start_time": "2020-10-18T10:30:54.928133Z"
    }
   },
   "outputs": [
    {
     "data": {
      "text/html": [
       "<div>\n",
       "<style scoped>\n",
       "    .dataframe tbody tr th:only-of-type {\n",
       "        vertical-align: middle;\n",
       "    }\n",
       "\n",
       "    .dataframe tbody tr th {\n",
       "        vertical-align: top;\n",
       "    }\n",
       "\n",
       "    .dataframe thead th {\n",
       "        text-align: right;\n",
       "    }\n",
       "</style>\n",
       "<table border=\"1\" class=\"dataframe\">\n",
       "  <thead>\n",
       "    <tr style=\"text-align: right;\">\n",
       "      <th></th>\n",
       "      <th>customerID</th>\n",
       "      <th>gender</th>\n",
       "      <th>SeniorCitizen</th>\n",
       "      <th>Partner</th>\n",
       "      <th>Dependents</th>\n",
       "      <th>tenure</th>\n",
       "      <th>PhoneService</th>\n",
       "      <th>MultipleLines</th>\n",
       "      <th>InternetService</th>\n",
       "      <th>OnlineSecurity</th>\n",
       "      <th>...</th>\n",
       "      <th>DeviceProtection</th>\n",
       "      <th>TechSupport</th>\n",
       "      <th>StreamingTV</th>\n",
       "      <th>StreamingMovies</th>\n",
       "      <th>Contract</th>\n",
       "      <th>PaperlessBilling</th>\n",
       "      <th>PaymentMethod</th>\n",
       "      <th>MonthlyCharges</th>\n",
       "      <th>TotalCharges</th>\n",
       "      <th>Churn</th>\n",
       "    </tr>\n",
       "  </thead>\n",
       "  <tbody>\n",
       "    <tr>\n",
       "      <th>0</th>\n",
       "      <td>7590-VHVEG</td>\n",
       "      <td>Female</td>\n",
       "      <td>0</td>\n",
       "      <td>Yes</td>\n",
       "      <td>No</td>\n",
       "      <td>1</td>\n",
       "      <td>No</td>\n",
       "      <td>No phone service</td>\n",
       "      <td>DSL</td>\n",
       "      <td>No</td>\n",
       "      <td>...</td>\n",
       "      <td>No</td>\n",
       "      <td>No</td>\n",
       "      <td>No</td>\n",
       "      <td>No</td>\n",
       "      <td>Month-to-month</td>\n",
       "      <td>Yes</td>\n",
       "      <td>Electronic check</td>\n",
       "      <td>29.85</td>\n",
       "      <td>29.85</td>\n",
       "      <td>No</td>\n",
       "    </tr>\n",
       "    <tr>\n",
       "      <th>1</th>\n",
       "      <td>5575-GNVDE</td>\n",
       "      <td>Male</td>\n",
       "      <td>0</td>\n",
       "      <td>No</td>\n",
       "      <td>No</td>\n",
       "      <td>34</td>\n",
       "      <td>Yes</td>\n",
       "      <td>No</td>\n",
       "      <td>DSL</td>\n",
       "      <td>Yes</td>\n",
       "      <td>...</td>\n",
       "      <td>Yes</td>\n",
       "      <td>No</td>\n",
       "      <td>No</td>\n",
       "      <td>No</td>\n",
       "      <td>One year</td>\n",
       "      <td>No</td>\n",
       "      <td>Mailed check</td>\n",
       "      <td>56.95</td>\n",
       "      <td>1889.5</td>\n",
       "      <td>No</td>\n",
       "    </tr>\n",
       "    <tr>\n",
       "      <th>2</th>\n",
       "      <td>3668-QPYBK</td>\n",
       "      <td>Male</td>\n",
       "      <td>0</td>\n",
       "      <td>No</td>\n",
       "      <td>No</td>\n",
       "      <td>2</td>\n",
       "      <td>Yes</td>\n",
       "      <td>No</td>\n",
       "      <td>DSL</td>\n",
       "      <td>Yes</td>\n",
       "      <td>...</td>\n",
       "      <td>No</td>\n",
       "      <td>No</td>\n",
       "      <td>No</td>\n",
       "      <td>No</td>\n",
       "      <td>Month-to-month</td>\n",
       "      <td>Yes</td>\n",
       "      <td>Mailed check</td>\n",
       "      <td>53.85</td>\n",
       "      <td>108.15</td>\n",
       "      <td>Yes</td>\n",
       "    </tr>\n",
       "    <tr>\n",
       "      <th>3</th>\n",
       "      <td>7795-CFOCW</td>\n",
       "      <td>Male</td>\n",
       "      <td>0</td>\n",
       "      <td>No</td>\n",
       "      <td>No</td>\n",
       "      <td>45</td>\n",
       "      <td>No</td>\n",
       "      <td>No phone service</td>\n",
       "      <td>DSL</td>\n",
       "      <td>Yes</td>\n",
       "      <td>...</td>\n",
       "      <td>Yes</td>\n",
       "      <td>Yes</td>\n",
       "      <td>No</td>\n",
       "      <td>No</td>\n",
       "      <td>One year</td>\n",
       "      <td>No</td>\n",
       "      <td>Bank transfer (automatic)</td>\n",
       "      <td>42.30</td>\n",
       "      <td>1840.75</td>\n",
       "      <td>No</td>\n",
       "    </tr>\n",
       "    <tr>\n",
       "      <th>4</th>\n",
       "      <td>9237-HQITU</td>\n",
       "      <td>Female</td>\n",
       "      <td>0</td>\n",
       "      <td>No</td>\n",
       "      <td>No</td>\n",
       "      <td>2</td>\n",
       "      <td>Yes</td>\n",
       "      <td>No</td>\n",
       "      <td>Fiber optic</td>\n",
       "      <td>No</td>\n",
       "      <td>...</td>\n",
       "      <td>No</td>\n",
       "      <td>No</td>\n",
       "      <td>No</td>\n",
       "      <td>No</td>\n",
       "      <td>Month-to-month</td>\n",
       "      <td>Yes</td>\n",
       "      <td>Electronic check</td>\n",
       "      <td>70.70</td>\n",
       "      <td>151.65</td>\n",
       "      <td>Yes</td>\n",
       "    </tr>\n",
       "  </tbody>\n",
       "</table>\n",
       "<p>5 rows × 21 columns</p>\n",
       "</div>"
      ],
      "text/plain": [
       "   customerID  gender  SeniorCitizen Partner Dependents  tenure PhoneService  \\\n",
       "0  7590-VHVEG  Female              0     Yes         No       1           No   \n",
       "1  5575-GNVDE    Male              0      No         No      34          Yes   \n",
       "2  3668-QPYBK    Male              0      No         No       2          Yes   \n",
       "3  7795-CFOCW    Male              0      No         No      45           No   \n",
       "4  9237-HQITU  Female              0      No         No       2          Yes   \n",
       "\n",
       "      MultipleLines InternetService OnlineSecurity  ... DeviceProtection  \\\n",
       "0  No phone service             DSL             No  ...               No   \n",
       "1                No             DSL            Yes  ...              Yes   \n",
       "2                No             DSL            Yes  ...               No   \n",
       "3  No phone service             DSL            Yes  ...              Yes   \n",
       "4                No     Fiber optic             No  ...               No   \n",
       "\n",
       "  TechSupport StreamingTV StreamingMovies        Contract PaperlessBilling  \\\n",
       "0          No          No              No  Month-to-month              Yes   \n",
       "1          No          No              No        One year               No   \n",
       "2          No          No              No  Month-to-month              Yes   \n",
       "3         Yes          No              No        One year               No   \n",
       "4          No          No              No  Month-to-month              Yes   \n",
       "\n",
       "               PaymentMethod MonthlyCharges  TotalCharges Churn  \n",
       "0           Electronic check          29.85         29.85    No  \n",
       "1               Mailed check          56.95        1889.5    No  \n",
       "2               Mailed check          53.85        108.15   Yes  \n",
       "3  Bank transfer (automatic)          42.30       1840.75    No  \n",
       "4           Electronic check          70.70        151.65   Yes  \n",
       "\n",
       "[5 rows x 21 columns]"
      ]
     },
     "execution_count": 2,
     "metadata": {},
     "output_type": "execute_result"
    }
   ],
   "source": [
    "df=pd.read_csv(\"churn.csv\")\n",
    "df.head()"
   ]
  },
  {
   "cell_type": "code",
   "execution_count": 3,
   "metadata": {
    "ExecuteTime": {
     "end_time": "2020-10-18T10:31:06.123416Z",
     "start_time": "2020-10-18T10:31:06.119398Z"
    }
   },
   "outputs": [],
   "source": [
    "# tenure means the number of years/months the person is with the service.\n",
    "# churn Yes ==> Customers are leaving the service and vice versa."
   ]
  },
  {
   "cell_type": "code",
   "execution_count": 4,
   "metadata": {
    "ExecuteTime": {
     "end_time": "2020-10-18T10:31:22.487947Z",
     "start_time": "2020-10-18T10:31:22.448229Z"
    }
   },
   "outputs": [
    {
     "data": {
      "text/html": [
       "<div>\n",
       "<style scoped>\n",
       "    .dataframe tbody tr th:only-of-type {\n",
       "        vertical-align: middle;\n",
       "    }\n",
       "\n",
       "    .dataframe tbody tr th {\n",
       "        vertical-align: top;\n",
       "    }\n",
       "\n",
       "    .dataframe thead th {\n",
       "        text-align: right;\n",
       "    }\n",
       "</style>\n",
       "<table border=\"1\" class=\"dataframe\">\n",
       "  <thead>\n",
       "    <tr style=\"text-align: right;\">\n",
       "      <th></th>\n",
       "      <th>gender</th>\n",
       "      <th>SeniorCitizen</th>\n",
       "      <th>Partner</th>\n",
       "      <th>Dependents</th>\n",
       "      <th>tenure</th>\n",
       "      <th>PhoneService</th>\n",
       "      <th>MultipleLines</th>\n",
       "      <th>InternetService</th>\n",
       "      <th>OnlineSecurity</th>\n",
       "      <th>OnlineBackup</th>\n",
       "      <th>DeviceProtection</th>\n",
       "      <th>TechSupport</th>\n",
       "      <th>StreamingTV</th>\n",
       "      <th>StreamingMovies</th>\n",
       "      <th>Contract</th>\n",
       "      <th>PaperlessBilling</th>\n",
       "      <th>PaymentMethod</th>\n",
       "      <th>MonthlyCharges</th>\n",
       "      <th>TotalCharges</th>\n",
       "      <th>Churn</th>\n",
       "    </tr>\n",
       "  </thead>\n",
       "  <tbody>\n",
       "    <tr>\n",
       "      <th>0</th>\n",
       "      <td>Female</td>\n",
       "      <td>0</td>\n",
       "      <td>Yes</td>\n",
       "      <td>No</td>\n",
       "      <td>1</td>\n",
       "      <td>No</td>\n",
       "      <td>No phone service</td>\n",
       "      <td>DSL</td>\n",
       "      <td>No</td>\n",
       "      <td>Yes</td>\n",
       "      <td>No</td>\n",
       "      <td>No</td>\n",
       "      <td>No</td>\n",
       "      <td>No</td>\n",
       "      <td>Month-to-month</td>\n",
       "      <td>Yes</td>\n",
       "      <td>Electronic check</td>\n",
       "      <td>29.85</td>\n",
       "      <td>29.85</td>\n",
       "      <td>No</td>\n",
       "    </tr>\n",
       "    <tr>\n",
       "      <th>1</th>\n",
       "      <td>Male</td>\n",
       "      <td>0</td>\n",
       "      <td>No</td>\n",
       "      <td>No</td>\n",
       "      <td>34</td>\n",
       "      <td>Yes</td>\n",
       "      <td>No</td>\n",
       "      <td>DSL</td>\n",
       "      <td>Yes</td>\n",
       "      <td>No</td>\n",
       "      <td>Yes</td>\n",
       "      <td>No</td>\n",
       "      <td>No</td>\n",
       "      <td>No</td>\n",
       "      <td>One year</td>\n",
       "      <td>No</td>\n",
       "      <td>Mailed check</td>\n",
       "      <td>56.95</td>\n",
       "      <td>1889.5</td>\n",
       "      <td>No</td>\n",
       "    </tr>\n",
       "    <tr>\n",
       "      <th>2</th>\n",
       "      <td>Male</td>\n",
       "      <td>0</td>\n",
       "      <td>No</td>\n",
       "      <td>No</td>\n",
       "      <td>2</td>\n",
       "      <td>Yes</td>\n",
       "      <td>No</td>\n",
       "      <td>DSL</td>\n",
       "      <td>Yes</td>\n",
       "      <td>Yes</td>\n",
       "      <td>No</td>\n",
       "      <td>No</td>\n",
       "      <td>No</td>\n",
       "      <td>No</td>\n",
       "      <td>Month-to-month</td>\n",
       "      <td>Yes</td>\n",
       "      <td>Mailed check</td>\n",
       "      <td>53.85</td>\n",
       "      <td>108.15</td>\n",
       "      <td>Yes</td>\n",
       "    </tr>\n",
       "    <tr>\n",
       "      <th>3</th>\n",
       "      <td>Male</td>\n",
       "      <td>0</td>\n",
       "      <td>No</td>\n",
       "      <td>No</td>\n",
       "      <td>45</td>\n",
       "      <td>No</td>\n",
       "      <td>No phone service</td>\n",
       "      <td>DSL</td>\n",
       "      <td>Yes</td>\n",
       "      <td>No</td>\n",
       "      <td>Yes</td>\n",
       "      <td>Yes</td>\n",
       "      <td>No</td>\n",
       "      <td>No</td>\n",
       "      <td>One year</td>\n",
       "      <td>No</td>\n",
       "      <td>Bank transfer (automatic)</td>\n",
       "      <td>42.30</td>\n",
       "      <td>1840.75</td>\n",
       "      <td>No</td>\n",
       "    </tr>\n",
       "    <tr>\n",
       "      <th>4</th>\n",
       "      <td>Female</td>\n",
       "      <td>0</td>\n",
       "      <td>No</td>\n",
       "      <td>No</td>\n",
       "      <td>2</td>\n",
       "      <td>Yes</td>\n",
       "      <td>No</td>\n",
       "      <td>Fiber optic</td>\n",
       "      <td>No</td>\n",
       "      <td>No</td>\n",
       "      <td>No</td>\n",
       "      <td>No</td>\n",
       "      <td>No</td>\n",
       "      <td>No</td>\n",
       "      <td>Month-to-month</td>\n",
       "      <td>Yes</td>\n",
       "      <td>Electronic check</td>\n",
       "      <td>70.70</td>\n",
       "      <td>151.65</td>\n",
       "      <td>Yes</td>\n",
       "    </tr>\n",
       "  </tbody>\n",
       "</table>\n",
       "</div>"
      ],
      "text/plain": [
       "   gender  SeniorCitizen Partner Dependents  tenure PhoneService  \\\n",
       "0  Female              0     Yes         No       1           No   \n",
       "1    Male              0      No         No      34          Yes   \n",
       "2    Male              0      No         No       2          Yes   \n",
       "3    Male              0      No         No      45           No   \n",
       "4  Female              0      No         No       2          Yes   \n",
       "\n",
       "      MultipleLines InternetService OnlineSecurity OnlineBackup  \\\n",
       "0  No phone service             DSL             No          Yes   \n",
       "1                No             DSL            Yes           No   \n",
       "2                No             DSL            Yes          Yes   \n",
       "3  No phone service             DSL            Yes           No   \n",
       "4                No     Fiber optic             No           No   \n",
       "\n",
       "  DeviceProtection TechSupport StreamingTV StreamingMovies        Contract  \\\n",
       "0               No          No          No              No  Month-to-month   \n",
       "1              Yes          No          No              No        One year   \n",
       "2               No          No          No              No  Month-to-month   \n",
       "3              Yes         Yes          No              No        One year   \n",
       "4               No          No          No              No  Month-to-month   \n",
       "\n",
       "  PaperlessBilling              PaymentMethod  MonthlyCharges TotalCharges  \\\n",
       "0              Yes           Electronic check           29.85        29.85   \n",
       "1               No               Mailed check           56.95       1889.5   \n",
       "2              Yes               Mailed check           53.85       108.15   \n",
       "3               No  Bank transfer (automatic)           42.30      1840.75   \n",
       "4              Yes           Electronic check           70.70       151.65   \n",
       "\n",
       "  Churn  \n",
       "0    No  \n",
       "1    No  \n",
       "2   Yes  \n",
       "3    No  \n",
       "4   Yes  "
      ]
     },
     "execution_count": 4,
     "metadata": {},
     "output_type": "execute_result"
    }
   ],
   "source": [
    "# You may see that customer id is not necessary.\n",
    "df.drop(columns='customerID',inplace=True)\n",
    "df.head()"
   ]
  },
  {
   "cell_type": "code",
   "execution_count": 5,
   "metadata": {
    "ExecuteTime": {
     "end_time": "2020-10-18T10:31:47.839618Z",
     "start_time": "2020-10-18T10:31:47.809700Z"
    }
   },
   "outputs": [
    {
     "name": "stdout",
     "output_type": "stream",
     "text": [
      "<class 'pandas.core.frame.DataFrame'>\n",
      "RangeIndex: 7043 entries, 0 to 7042\n",
      "Data columns (total 20 columns):\n",
      " #   Column            Non-Null Count  Dtype  \n",
      "---  ------            --------------  -----  \n",
      " 0   gender            7043 non-null   object \n",
      " 1   SeniorCitizen     7043 non-null   int64  \n",
      " 2   Partner           7043 non-null   object \n",
      " 3   Dependents        7043 non-null   object \n",
      " 4   tenure            7043 non-null   int64  \n",
      " 5   PhoneService      7043 non-null   object \n",
      " 6   MultipleLines     7043 non-null   object \n",
      " 7   InternetService   7043 non-null   object \n",
      " 8   OnlineSecurity    7043 non-null   object \n",
      " 9   OnlineBackup      7043 non-null   object \n",
      " 10  DeviceProtection  7043 non-null   object \n",
      " 11  TechSupport       7043 non-null   object \n",
      " 12  StreamingTV       7043 non-null   object \n",
      " 13  StreamingMovies   7043 non-null   object \n",
      " 14  Contract          7043 non-null   object \n",
      " 15  PaperlessBilling  7043 non-null   object \n",
      " 16  PaymentMethod     7043 non-null   object \n",
      " 17  MonthlyCharges    7043 non-null   float64\n",
      " 18  TotalCharges      7043 non-null   object \n",
      " 19  Churn             7043 non-null   object \n",
      "dtypes: float64(1), int64(2), object(17)\n",
      "memory usage: 1.1+ MB\n"
     ]
    }
   ],
   "source": [
    "# Lets have a look at the datatypes.\n",
    "df.info()"
   ]
  },
  {
   "cell_type": "code",
   "execution_count": 6,
   "metadata": {
    "ExecuteTime": {
     "end_time": "2020-10-18T10:32:11.278524Z",
     "start_time": "2020-10-18T10:32:11.267524Z"
    }
   },
   "outputs": [],
   "source": [
    "# You see that total charges is of object datatype and not float"
   ]
  },
  {
   "cell_type": "code",
   "execution_count": 7,
   "metadata": {
    "ExecuteTime": {
     "end_time": "2020-10-18T10:32:12.290654Z",
     "start_time": "2020-10-18T10:32:12.277690Z"
    }
   },
   "outputs": [
    {
     "data": {
      "text/plain": [
       "array(['29.85', '1889.5', '108.15', ..., '346.45', '306.6', '6844.5'],\n",
       "      dtype=object)"
      ]
     },
     "execution_count": 7,
     "metadata": {},
     "output_type": "execute_result"
    }
   ],
   "source": [
    "df.TotalCharges.values"
   ]
  },
  {
   "cell_type": "code",
   "execution_count": 9,
   "metadata": {
    "ExecuteTime": {
     "end_time": "2020-10-18T10:34:31.842901Z",
     "start_time": "2020-10-18T10:34:31.817462Z"
    }
   },
   "outputs": [
    {
     "ename": "ValueError",
     "evalue": "Unable to parse string \" \" at position 488",
     "output_type": "error",
     "traceback": [
      "\u001b[1;31m---------------------------------------------------------------------------\u001b[0m",
      "\u001b[1;31mValueError\u001b[0m                                Traceback (most recent call last)",
      "\u001b[1;32mpandas\\_libs\\lib.pyx\u001b[0m in \u001b[0;36mpandas._libs.lib.maybe_convert_numeric\u001b[1;34m()\u001b[0m\n",
      "\u001b[1;31mValueError\u001b[0m: Unable to parse string \" \"",
      "\nDuring handling of the above exception, another exception occurred:\n",
      "\u001b[1;31mValueError\u001b[0m                                Traceback (most recent call last)",
      "\u001b[1;32m<ipython-input-9-fa814fb10150>\u001b[0m in \u001b[0;36m<module>\u001b[1;34m\u001b[0m\n\u001b[0;32m      2\u001b[0m \u001b[1;31m# df['TotalCharges'].apply(lambda x: float(x)) this is not working indicating that there are some other values other than float\u001b[0m\u001b[1;33m\u001b[0m\u001b[1;33m\u001b[0m\u001b[1;33m\u001b[0m\u001b[0m\n\u001b[0;32m      3\u001b[0m \u001b[1;31m# Another way to convert string to float is to_numeric method\u001b[0m\u001b[1;33m\u001b[0m\u001b[1;33m\u001b[0m\u001b[1;33m\u001b[0m\u001b[0m\n\u001b[1;32m----> 4\u001b[1;33m \u001b[0mpd\u001b[0m\u001b[1;33m.\u001b[0m\u001b[0mto_numeric\u001b[0m\u001b[1;33m(\u001b[0m\u001b[0mdf\u001b[0m\u001b[1;33m.\u001b[0m\u001b[0mTotalCharges\u001b[0m\u001b[1;33m)\u001b[0m\u001b[1;33m\u001b[0m\u001b[1;33m\u001b[0m\u001b[0m\n\u001b[0m",
      "\u001b[1;32m~\\anaconda3\\envs\\tensorflow\\lib\\site-packages\\pandas\\core\\tools\\numeric.py\u001b[0m in \u001b[0;36mto_numeric\u001b[1;34m(arg, errors, downcast)\u001b[0m\n\u001b[0;32m    151\u001b[0m         \u001b[1;32mtry\u001b[0m\u001b[1;33m:\u001b[0m\u001b[1;33m\u001b[0m\u001b[1;33m\u001b[0m\u001b[0m\n\u001b[0;32m    152\u001b[0m             values = lib.maybe_convert_numeric(\n\u001b[1;32m--> 153\u001b[1;33m                 \u001b[0mvalues\u001b[0m\u001b[1;33m,\u001b[0m \u001b[0mset\u001b[0m\u001b[1;33m(\u001b[0m\u001b[1;33m)\u001b[0m\u001b[1;33m,\u001b[0m \u001b[0mcoerce_numeric\u001b[0m\u001b[1;33m=\u001b[0m\u001b[0mcoerce_numeric\u001b[0m\u001b[1;33m\u001b[0m\u001b[1;33m\u001b[0m\u001b[0m\n\u001b[0m\u001b[0;32m    154\u001b[0m             )\n\u001b[0;32m    155\u001b[0m         \u001b[1;32mexcept\u001b[0m \u001b[1;33m(\u001b[0m\u001b[0mValueError\u001b[0m\u001b[1;33m,\u001b[0m \u001b[0mTypeError\u001b[0m\u001b[1;33m)\u001b[0m\u001b[1;33m:\u001b[0m\u001b[1;33m\u001b[0m\u001b[1;33m\u001b[0m\u001b[0m\n",
      "\u001b[1;32mpandas\\_libs\\lib.pyx\u001b[0m in \u001b[0;36mpandas._libs.lib.maybe_convert_numeric\u001b[1;34m()\u001b[0m\n",
      "\u001b[1;31mValueError\u001b[0m: Unable to parse string \" \" at position 488"
     ]
    }
   ],
   "source": [
    "# The dtype of it is string, so we need to convert it into float\n",
    "# df['TotalCharges'].apply(lambda x: float(x)) this is not working indicating that there are some other values other than float\n",
    "# Another way to convert string to float is to_numeric method\n",
    "pd.to_numeric(df.TotalCharges)"
   ]
  },
  {
   "cell_type": "code",
   "execution_count": 10,
   "metadata": {
    "ExecuteTime": {
     "end_time": "2020-10-18T10:34:49.515414Z",
     "start_time": "2020-10-18T10:34:49.507890Z"
    }
   },
   "outputs": [
    {
     "data": {
      "text/plain": [
       "' '"
      ]
     },
     "execution_count": 10,
     "metadata": {},
     "output_type": "execute_result"
    }
   ],
   "source": [
    "# There is an error at pos 488.\n",
    "(df['TotalCharges'])[488]"
   ]
  },
  {
   "cell_type": "code",
   "execution_count": 11,
   "metadata": {
    "ExecuteTime": {
     "end_time": "2020-10-18T10:35:05.954527Z",
     "start_time": "2020-10-18T10:35:05.932848Z"
    }
   },
   "outputs": [],
   "source": [
    "# You can see that the field is empty. Lets replace the missing values with Nan. You can do this by initializing the\n",
    "# error paramter of the pd.to_numeric() method to coerce\n",
    "df['TotalCharges']=pd.to_numeric(df.TotalCharges,errors='coerce')"
   ]
  },
  {
   "cell_type": "code",
   "execution_count": 12,
   "metadata": {
    "ExecuteTime": {
     "end_time": "2020-10-18T10:35:24.570114Z",
     "start_time": "2020-10-18T10:35:24.556578Z"
    }
   },
   "outputs": [
    {
     "name": "stdout",
     "output_type": "stream",
     "text": [
      "<class 'pandas.core.frame.DataFrame'>\n",
      "RangeIndex: 7043 entries, 0 to 7042\n",
      "Data columns (total 20 columns):\n",
      " #   Column            Non-Null Count  Dtype  \n",
      "---  ------            --------------  -----  \n",
      " 0   gender            7043 non-null   object \n",
      " 1   SeniorCitizen     7043 non-null   int64  \n",
      " 2   Partner           7043 non-null   object \n",
      " 3   Dependents        7043 non-null   object \n",
      " 4   tenure            7043 non-null   int64  \n",
      " 5   PhoneService      7043 non-null   object \n",
      " 6   MultipleLines     7043 non-null   object \n",
      " 7   InternetService   7043 non-null   object \n",
      " 8   OnlineSecurity    7043 non-null   object \n",
      " 9   OnlineBackup      7043 non-null   object \n",
      " 10  DeviceProtection  7043 non-null   object \n",
      " 11  TechSupport       7043 non-null   object \n",
      " 12  StreamingTV       7043 non-null   object \n",
      " 13  StreamingMovies   7043 non-null   object \n",
      " 14  Contract          7043 non-null   object \n",
      " 15  PaperlessBilling  7043 non-null   object \n",
      " 16  PaymentMethod     7043 non-null   object \n",
      " 17  MonthlyCharges    7043 non-null   float64\n",
      " 18  TotalCharges      7032 non-null   float64\n",
      " 19  Churn             7043 non-null   object \n",
      "dtypes: float64(2), int64(2), object(16)\n",
      "memory usage: 1.1+ MB\n"
     ]
    }
   ],
   "source": [
    "df.info()"
   ]
  },
  {
   "cell_type": "code",
   "execution_count": 13,
   "metadata": {
    "ExecuteTime": {
     "end_time": "2020-10-18T10:35:47.155723Z",
     "start_time": "2020-10-18T10:35:47.149740Z"
    }
   },
   "outputs": [
    {
     "data": {
      "text/plain": [
       "11"
      ]
     },
     "execution_count": 13,
     "metadata": {},
     "output_type": "execute_result"
    }
   ],
   "source": [
    "# You can see that TotalCharges is converted into float and the missing values are replaced with Nan\n",
    "df.TotalCharges.isnull().sum()"
   ]
  },
  {
   "cell_type": "code",
   "execution_count": 14,
   "metadata": {
    "ExecuteTime": {
     "end_time": "2020-10-18T10:35:55.617165Z",
     "start_time": "2020-10-18T10:35:55.608085Z"
    }
   },
   "outputs": [
    {
     "data": {
      "text/plain": [
       "(7043, 20)"
      ]
     },
     "execution_count": 14,
     "metadata": {},
     "output_type": "execute_result"
    }
   ],
   "source": [
    "df.shape"
   ]
  },
  {
   "cell_type": "code",
   "execution_count": 15,
   "metadata": {
    "ExecuteTime": {
     "end_time": "2020-10-18T10:36:06.808120Z",
     "start_time": "2020-10-18T10:36:06.788161Z"
    }
   },
   "outputs": [],
   "source": [
    "# We are dropping the null TotalCharges rows because these are only eleven and we are dealing with a dataset that is much\n",
    "# larger (7043 rows).\n",
    "df2=df[~(df.TotalCharges.isnull())]"
   ]
  },
  {
   "cell_type": "code",
   "execution_count": 16,
   "metadata": {
    "ExecuteTime": {
     "end_time": "2020-10-18T10:36:14.694927Z",
     "start_time": "2020-10-18T10:36:14.688940Z"
    }
   },
   "outputs": [
    {
     "data": {
      "text/plain": [
       "(7032, 20)"
      ]
     },
     "execution_count": 16,
     "metadata": {},
     "output_type": "execute_result"
    }
   ],
   "source": [
    "df2.shape"
   ]
  },
  {
   "cell_type": "code",
   "execution_count": 17,
   "metadata": {
    "ExecuteTime": {
     "end_time": "2020-10-18T10:36:30.657214Z",
     "start_time": "2020-10-18T10:36:30.649236Z"
    }
   },
   "outputs": [],
   "source": [
    "# Now we have a dataset with no null total charges rows.\n",
    "# Lets have a look on number of customers leaving the service (churn=yes) vs customers with churn=no tenure (loyality)"
   ]
  },
  {
   "cell_type": "code",
   "execution_count": 18,
   "metadata": {
    "ExecuteTime": {
     "end_time": "2020-10-18T10:36:43.013595Z",
     "start_time": "2020-10-18T10:36:42.993427Z"
    }
   },
   "outputs": [],
   "source": [
    "churn_yes=df2[df2.Churn=='Yes'].tenure\n",
    "churn_no=df2[df2.Churn=='No'].tenure"
   ]
  },
  {
   "cell_type": "code",
   "execution_count": 19,
   "metadata": {
    "ExecuteTime": {
     "end_time": "2020-10-18T10:36:47.291606Z",
     "start_time": "2020-10-18T10:36:47.089104Z"
    }
   },
   "outputs": [
    {
     "data": {
      "text/plain": [
       "<matplotlib.legend.Legend at 0x2a2380b37c8>"
      ]
     },
     "execution_count": 19,
     "metadata": {},
     "output_type": "execute_result"
    },
    {
     "data": {
      "image/png": "[encoded data removed]",
      "text/plain": [
       "<Figure size 432x288 with 1 Axes>"
      ]
     },
     "metadata": {
      "needs_background": "light"
     },
     "output_type": "display_data"
    }
   ],
   "source": [
    "plt.hist([churn_yes,churn_no],color=['red','green'],label=['Yes', 'No'])\n",
    "plt.xlabel(\"tenure\")\n",
    "plt.ylabel(\"Number of customers having the tenure\")\n",
    "plt.legend()"
   ]
  },
  {
   "cell_type": "code",
   "execution_count": 20,
   "metadata": {
    "ExecuteTime": {
     "end_time": "2020-10-18T10:36:55.796494Z",
     "start_time": "2020-10-18T10:36:55.788966Z"
    }
   },
   "outputs": [],
   "source": [
    "# You can see that if the customers tenure is high there are very rare chances that he might leave the service."
   ]
  },
  {
   "cell_type": "code",
   "execution_count": 21,
   "metadata": {
    "ExecuteTime": {
     "end_time": "2020-10-18T10:37:01.649751Z",
     "start_time": "2020-10-18T10:37:01.502029Z"
    }
   },
   "outputs": [
    {
     "data": {
      "text/plain": [
       "<matplotlib.legend.Legend at 0x2a23b898288>"
      ]
     },
     "execution_count": 21,
     "metadata": {},
     "output_type": "execute_result"
    },
    {
     "data": {
      "image/png": "[encoded data removed]",
      "text/plain": [
       "<Figure size 432x288 with 1 Axes>"
      ]
     },
     "metadata": {
      "needs_background": "light"
     },
     "output_type": "display_data"
    }
   ],
   "source": [
    "# Lets analyze the same thing with monthly charges\n",
    "churn_yes_monthly_charges=df2[df2.Churn=='Yes'].MonthlyCharges\n",
    "churn_no_monthly_charges=df2[df2.Churn=='No'].MonthlyCharges\n",
    "plt.hist([churn_yes_monthly_charges,churn_no_monthly_charges],color=['red','green'],label=['Yes', 'No'])\n",
    "plt.xlabel(\"tenure\")\n",
    "plt.ylabel(\"Number of customers having the tenure\")\n",
    "plt.legend()"
   ]
  },
  {
   "cell_type": "code",
   "execution_count": 22,
   "metadata": {
    "ExecuteTime": {
     "end_time": "2020-10-18T10:37:22.475558Z",
     "start_time": "2020-10-18T10:37:22.460030Z"
    }
   },
   "outputs": [
    {
     "name": "stdout",
     "output_type": "stream",
     "text": [
      "gender\n",
      "SeniorCitizen\n",
      "Partner\n",
      "Dependents\n",
      "tenure\n",
      "PhoneService\n",
      "MultipleLines\n",
      "InternetService\n",
      "OnlineSecurity\n",
      "OnlineBackup\n",
      "DeviceProtection\n",
      "TechSupport\n",
      "StreamingTV\n",
      "StreamingMovies\n",
      "Contract\n",
      "PaperlessBilling\n",
      "PaymentMethod\n",
      "MonthlyCharges\n",
      "TotalCharges\n",
      "Churn\n"
     ]
    }
   ],
   "source": [
    "# We can run a for loop for all the columns like the one below\n",
    "for column in df2:\n",
    "    print(column)"
   ]
  },
  {
   "cell_type": "code",
   "execution_count": 23,
   "metadata": {
    "ExecuteTime": {
     "end_time": "2020-10-18T10:37:32.590113Z",
     "start_time": "2020-10-18T10:37:32.577591Z"
    }
   },
   "outputs": [],
   "source": [
    "# Lets find all the unique values in the dataframe and make it a function.\n",
    "def unique_col_values(data):\n",
    "    for col in data:\n",
    "            print(f\"{col}: {data[col].unique()}\")"
   ]
  },
  {
   "cell_type": "code",
   "execution_count": 24,
   "metadata": {
    "ExecuteTime": {
     "end_time": "2020-10-18T10:37:45.233626Z",
     "start_time": "2020-10-18T10:37:45.217671Z"
    }
   },
   "outputs": [
    {
     "name": "stdout",
     "output_type": "stream",
     "text": [
      "gender: ['Female' 'Male']\n",
      "SeniorCitizen: [0 1]\n",
      "Partner: ['Yes' 'No']\n",
      "Dependents: ['No' 'Yes']\n",
      "tenure: [ 1 34  2 45  8 22 10 28 62 13 16 58 49 25 69 52 71 21 12 30 47 72 17 27\n",
      "  5 46 11 70 63 43 15 60 18 66  9  3 31 50 64 56  7 42 35 48 29 65 38 68\n",
      " 32 55 37 36 41  6  4 33 67 23 57 61 14 20 53 40 59 24 44 19 54 51 26 39]\n",
      "PhoneService: ['No' 'Yes']\n",
      "MultipleLines: ['No phone service' 'No' 'Yes']\n",
      "InternetService: ['DSL' 'Fiber optic' 'No']\n",
      "OnlineSecurity: ['No' 'Yes' 'No internet service']\n",
      "OnlineBackup: ['Yes' 'No' 'No internet service']\n",
      "DeviceProtection: ['No' 'Yes' 'No internet service']\n",
      "TechSupport: ['No' 'Yes' 'No internet service']\n",
      "StreamingTV: ['No' 'Yes' 'No internet service']\n",
      "StreamingMovies: ['No' 'Yes' 'No internet service']\n",
      "Contract: ['Month-to-month' 'One year' 'Two year']\n",
      "PaperlessBilling: ['Yes' 'No']\n",
      "PaymentMethod: ['Electronic check' 'Mailed check' 'Bank transfer (automatic)'\n",
      " 'Credit card (automatic)']\n",
      "MonthlyCharges: [29.85 56.95 53.85 ... 63.1  44.2  78.7 ]\n",
      "TotalCharges: [  29.85 1889.5   108.15 ...  346.45  306.6  6844.5 ]\n",
      "Churn: ['No' 'Yes']\n"
     ]
    }
   ],
   "source": [
    "unique_col_values(df2)"
   ]
  },
  {
   "cell_type": "code",
   "execution_count": 25,
   "metadata": {
    "ExecuteTime": {
     "end_time": "2020-10-18T10:38:04.343114Z",
     "start_time": "2020-10-18T10:38:04.337130Z"
    }
   },
   "outputs": [],
   "source": [
    "# You can see that having no phone service or no internet service means the same as no. So we will replace all these with no"
   ]
  },
  {
   "cell_type": "code",
   "execution_count": 26,
   "metadata": {
    "ExecuteTime": {
     "end_time": "2020-10-18T10:38:15.009765Z",
     "start_time": "2020-10-18T10:38:14.996822Z"
    }
   },
   "outputs": [
    {
     "name": "stderr",
     "output_type": "stream",
     "text": [
      "C:\\Users\\91830\\anaconda3\\envs\\tensorflow\\lib\\site-packages\\pandas\\core\\series.py:4569: SettingWithCopyWarning: \n",
      "A value is trying to be set on a copy of a slice from a DataFrame\n",
      "\n",
      "See the caveats in the documentation: https://pandas.pydata.org/pandas-docs/stable/user_guide/indexing.html#returning-a-view-versus-a-copy\n",
      "  method=method,\n"
     ]
    }
   ],
   "source": [
    "df2.MultipleLines.replace(to_replace='No phone service',value='No',inplace=True)\n",
    "df2.OnlineSecurity.replace(to_replace='No internet service',value='No',inplace=True)\n",
    "df2.DeviceProtection.replace(to_replace='No internet service',value='No',inplace=True)\n",
    "df2.TechSupport.replace(to_replace='No internet service',value='No',inplace=True)\n",
    "df2.StreamingTV.replace(to_replace='No internet service',value='No',inplace=True)\n",
    "df2.StreamingMovies.replace(to_replace='No internet service',value='No',inplace=True)"
   ]
  },
  {
   "cell_type": "code",
   "execution_count": 27,
   "metadata": {
    "ExecuteTime": {
     "end_time": "2020-10-18T10:38:22.967729Z",
     "start_time": "2020-10-18T10:38:22.946780Z"
    }
   },
   "outputs": [
    {
     "name": "stdout",
     "output_type": "stream",
     "text": [
      "gender: ['Female' 'Male']\n",
      "SeniorCitizen: [0 1]\n",
      "Partner: ['Yes' 'No']\n",
      "Dependents: ['No' 'Yes']\n",
      "tenure: [ 1 34  2 45  8 22 10 28 62 13 16 58 49 25 69 52 71 21 12 30 47 72 17 27\n",
      "  5 46 11 70 63 43 15 60 18 66  9  3 31 50 64 56  7 42 35 48 29 65 38 68\n",
      " 32 55 37 36 41  6  4 33 67 23 57 61 14 20 53 40 59 24 44 19 54 51 26 39]\n",
      "PhoneService: ['No' 'Yes']\n",
      "MultipleLines: ['No' 'Yes']\n",
      "InternetService: ['DSL' 'Fiber optic' 'No']\n",
      "OnlineSecurity: ['No' 'Yes']\n",
      "OnlineBackup: ['Yes' 'No' 'No internet service']\n",
      "DeviceProtection: ['No' 'Yes']\n",
      "TechSupport: ['No' 'Yes']\n",
      "StreamingTV: ['No' 'Yes']\n",
      "StreamingMovies: ['No' 'Yes']\n",
      "Contract: ['Month-to-month' 'One year' 'Two year']\n",
      "PaperlessBilling: ['Yes' 'No']\n",
      "PaymentMethod: ['Electronic check' 'Mailed check' 'Bank transfer (automatic)'\n",
      " 'Credit card (automatic)']\n",
      "MonthlyCharges: [29.85 56.95 53.85 ... 63.1  44.2  78.7 ]\n",
      "TotalCharges: [  29.85 1889.5   108.15 ...  346.45  306.6  6844.5 ]\n",
      "Churn: ['No' 'Yes']\n"
     ]
    }
   ],
   "source": [
    "unique_col_values(df2)"
   ]
  },
  {
   "cell_type": "code",
   "execution_count": 28,
   "metadata": {
    "ExecuteTime": {
     "end_time": "2020-10-18T10:38:37.977346Z",
     "start_time": "2020-10-18T10:38:37.962354Z"
    }
   },
   "outputs": [],
   "source": [
    "df2.OnlineBackup.replace(to_replace='No internet service',value='No',inplace=True)"
   ]
  },
  {
   "cell_type": "code",
   "execution_count": 29,
   "metadata": {
    "ExecuteTime": {
     "end_time": "2020-10-18T10:39:04.672243Z",
     "start_time": "2020-10-18T10:39:04.629022Z"
    }
   },
   "outputs": [],
   "source": [
    "# Lets change all the yes and no values with 1 and 0\n",
    "# We are not directly replacing all the columns using the replace because internet service column also has no.\n",
    "columns_yes_no=['Partner','Dependents','PhoneService','MultipleLines','OnlineSecurity','OnlineBackup','DeviceProtection',\n",
    "              'TechSupport','StreamingTV','StreamingMovies','PaperlessBilling','Churn']\n",
    "for col in columns_yes_no:\n",
    "    df2[col].replace({'Yes':1,'No':0},inplace=True)"
   ]
  },
  {
   "cell_type": "code",
   "execution_count": 30,
   "metadata": {
    "ExecuteTime": {
     "end_time": "2020-10-18T10:39:13.932896Z",
     "start_time": "2020-10-18T10:39:13.906519Z"
    }
   },
   "outputs": [
    {
     "name": "stdout",
     "output_type": "stream",
     "text": [
      "gender: ['Female' 'Male']\n",
      "SeniorCitizen: [0 1]\n",
      "Partner: [1 0]\n",
      "Dependents: [0 1]\n",
      "tenure: [ 1 34  2 45  8 22 10 28 62 13 16 58 49 25 69 52 71 21 12 30 47 72 17 27\n",
      "  5 46 11 70 63 43 15 60 18 66  9  3 31 50 64 56  7 42 35 48 29 65 38 68\n",
      " 32 55 37 36 41  6  4 33 67 23 57 61 14 20 53 40 59 24 44 19 54 51 26 39]\n",
      "PhoneService: [0 1]\n",
      "MultipleLines: [0 1]\n",
      "InternetService: ['DSL' 'Fiber optic' 'No']\n",
      "OnlineSecurity: [0 1]\n",
      "OnlineBackup: [1 0]\n",
      "DeviceProtection: [0 1]\n",
      "TechSupport: [0 1]\n",
      "StreamingTV: [0 1]\n",
      "StreamingMovies: [0 1]\n",
      "Contract: ['Month-to-month' 'One year' 'Two year']\n",
      "PaperlessBilling: [1 0]\n",
      "PaymentMethod: ['Electronic check' 'Mailed check' 'Bank transfer (automatic)'\n",
      " 'Credit card (automatic)']\n",
      "MonthlyCharges: [29.85 56.95 53.85 ... 63.1  44.2  78.7 ]\n",
      "TotalCharges: [  29.85 1889.5   108.15 ...  346.45  306.6  6844.5 ]\n",
      "Churn: [0 1]\n"
     ]
    }
   ],
   "source": [
    "unique_col_values(df2)"
   ]
  },
  {
   "cell_type": "code",
   "execution_count": 31,
   "metadata": {
    "ExecuteTime": {
     "end_time": "2020-10-18T10:39:33.789605Z",
     "start_time": "2020-10-18T10:39:33.765654Z"
    }
   },
   "outputs": [
    {
     "name": "stdout",
     "output_type": "stream",
     "text": [
      "gender: [0 1]\n",
      "SeniorCitizen: [0 1]\n",
      "Partner: [1 0]\n",
      "Dependents: [0 1]\n",
      "tenure: [ 1 34  2 45  8 22 10 28 62 13 16 58 49 25 69 52 71 21 12 30 47 72 17 27\n",
      "  5 46 11 70 63 43 15 60 18 66  9  3 31 50 64 56  7 42 35 48 29 65 38 68\n",
      " 32 55 37 36 41  6  4 33 67 23 57 61 14 20 53 40 59 24 44 19 54 51 26 39]\n",
      "PhoneService: [0 1]\n",
      "MultipleLines: [0 1]\n",
      "InternetService: ['DSL' 'Fiber optic' 'No']\n",
      "OnlineSecurity: [0 1]\n",
      "OnlineBackup: [1 0]\n",
      "DeviceProtection: [0 1]\n",
      "TechSupport: [0 1]\n",
      "StreamingTV: [0 1]\n",
      "StreamingMovies: [0 1]\n",
      "Contract: ['Month-to-month' 'One year' 'Two year']\n",
      "PaperlessBilling: [1 0]\n",
      "PaymentMethod: ['Electronic check' 'Mailed check' 'Bank transfer (automatic)'\n",
      " 'Credit card (automatic)']\n",
      "MonthlyCharges: [29.85 56.95 53.85 ... 63.1  44.2  78.7 ]\n",
      "TotalCharges: [  29.85 1889.5   108.15 ...  346.45  306.6  6844.5 ]\n",
      "Churn: [0 1]\n"
     ]
    }
   ],
   "source": [
    "df2.gender.replace({'Male':1,'Female':0},inplace=True)\n",
    "unique_col_values(df2)"
   ]
  },
  {
   "cell_type": "code",
   "execution_count": 32,
   "metadata": {
    "ExecuteTime": {
     "end_time": "2020-10-18T10:39:41.700397Z",
     "start_time": "2020-10-18T10:39:41.685407Z"
    }
   },
   "outputs": [],
   "source": [
    "# We have not used One-hot-encoding till now since we were dealing with categorical columns having two unique values.\n",
    "# Columns like Internet service, contract etc., have more than two unique categorical features and hence we will one-hot \n",
    "# encode these columns."
   ]
  },
  {
   "cell_type": "code",
   "execution_count": 33,
   "metadata": {
    "ExecuteTime": {
     "end_time": "2020-10-18T10:39:49.715910Z",
     "start_time": "2020-10-18T10:39:49.679356Z"
    }
   },
   "outputs": [],
   "source": [
    "df3=pd.get_dummies(df2,drop_first=True)"
   ]
  },
  {
   "cell_type": "code",
   "execution_count": 34,
   "metadata": {
    "ExecuteTime": {
     "end_time": "2020-10-18T10:39:55.732622Z",
     "start_time": "2020-10-18T10:39:55.715559Z"
    }
   },
   "outputs": [
    {
     "data": {
      "text/plain": [
       "Index(['gender', 'SeniorCitizen', 'Partner', 'Dependents', 'tenure',\n",
       "       'PhoneService', 'MultipleLines', 'OnlineSecurity', 'OnlineBackup',\n",
       "       'DeviceProtection', 'TechSupport', 'StreamingTV', 'StreamingMovies',\n",
       "       'PaperlessBilling', 'MonthlyCharges', 'TotalCharges', 'Churn',\n",
       "       'InternetService_Fiber optic', 'InternetService_No',\n",
       "       'Contract_One year', 'Contract_Two year',\n",
       "       'PaymentMethod_Credit card (automatic)',\n",
       "       'PaymentMethod_Electronic check', 'PaymentMethod_Mailed check'],\n",
       "      dtype='object')"
      ]
     },
     "execution_count": 34,
     "metadata": {},
     "output_type": "execute_result"
    }
   ],
   "source": [
    "df3.columns"
   ]
  },
  {
   "cell_type": "code",
   "execution_count": 35,
   "metadata": {
    "ExecuteTime": {
     "end_time": "2020-10-18T10:40:04.332676Z",
     "start_time": "2020-10-18T10:40:04.304677Z"
    }
   },
   "outputs": [
    {
     "name": "stdout",
     "output_type": "stream",
     "text": [
      "<class 'pandas.core.frame.DataFrame'>\n",
      "Int64Index: 7032 entries, 0 to 7042\n",
      "Data columns (total 24 columns):\n",
      " #   Column                                 Non-Null Count  Dtype  \n",
      "---  ------                                 --------------  -----  \n",
      " 0   gender                                 7032 non-null   int64  \n",
      " 1   SeniorCitizen                          7032 non-null   int64  \n",
      " 2   Partner                                7032 non-null   int64  \n",
      " 3   Dependents                             7032 non-null   int64  \n",
      " 4   tenure                                 7032 non-null   int64  \n",
      " 5   PhoneService                           7032 non-null   int64  \n",
      " 6   MultipleLines                          7032 non-null   int64  \n",
      " 7   OnlineSecurity                         7032 non-null   int64  \n",
      " 8   OnlineBackup                           7032 non-null   int64  \n",
      " 9   DeviceProtection                       7032 non-null   int64  \n",
      " 10  TechSupport                            7032 non-null   int64  \n",
      " 11  StreamingTV                            7032 non-null   int64  \n",
      " 12  StreamingMovies                        7032 non-null   int64  \n",
      " 13  PaperlessBilling                       7032 non-null   int64  \n",
      " 14  MonthlyCharges                         7032 non-null   float64\n",
      " 15  TotalCharges                           7032 non-null   float64\n",
      " 16  Churn                                  7032 non-null   int64  \n",
      " 17  InternetService_Fiber optic            7032 non-null   uint8  \n",
      " 18  InternetService_No                     7032 non-null   uint8  \n",
      " 19  Contract_One year                      7032 non-null   uint8  \n",
      " 20  Contract_Two year                      7032 non-null   uint8  \n",
      " 21  PaymentMethod_Credit card (automatic)  7032 non-null   uint8  \n",
      " 22  PaymentMethod_Electronic check         7032 non-null   uint8  \n",
      " 23  PaymentMethod_Mailed check             7032 non-null   uint8  \n",
      "dtypes: float64(2), int64(15), uint8(7)\n",
      "memory usage: 1.0 MB\n"
     ]
    }
   ],
   "source": [
    "df3.info()"
   ]
  },
  {
   "cell_type": "code",
   "execution_count": 36,
   "metadata": {
    "ExecuteTime": {
     "end_time": "2020-10-18T10:40:11.056183Z",
     "start_time": "2020-10-18T10:40:11.051226Z"
    }
   },
   "outputs": [],
   "source": [
    "# Now all datatypes are numbers."
   ]
  },
  {
   "cell_type": "code",
   "execution_count": 37,
   "metadata": {
    "ExecuteTime": {
     "end_time": "2020-10-18T10:40:16.295143Z",
     "start_time": "2020-10-18T10:40:16.268215Z"
    }
   },
   "outputs": [
    {
     "data": {
      "text/html": [
       "<div>\n",
       "<style scoped>\n",
       "    .dataframe tbody tr th:only-of-type {\n",
       "        vertical-align: middle;\n",
       "    }\n",
       "\n",
       "    .dataframe tbody tr th {\n",
       "        vertical-align: top;\n",
       "    }\n",
       "\n",
       "    .dataframe thead th {\n",
       "        text-align: right;\n",
       "    }\n",
       "</style>\n",
       "<table border=\"1\" class=\"dataframe\">\n",
       "  <thead>\n",
       "    <tr style=\"text-align: right;\">\n",
       "      <th></th>\n",
       "      <th>gender</th>\n",
       "      <th>SeniorCitizen</th>\n",
       "      <th>Partner</th>\n",
       "      <th>Dependents</th>\n",
       "      <th>tenure</th>\n",
       "      <th>PhoneService</th>\n",
       "      <th>MultipleLines</th>\n",
       "      <th>OnlineSecurity</th>\n",
       "      <th>OnlineBackup</th>\n",
       "      <th>DeviceProtection</th>\n",
       "      <th>...</th>\n",
       "      <th>MonthlyCharges</th>\n",
       "      <th>TotalCharges</th>\n",
       "      <th>Churn</th>\n",
       "      <th>InternetService_Fiber optic</th>\n",
       "      <th>InternetService_No</th>\n",
       "      <th>Contract_One year</th>\n",
       "      <th>Contract_Two year</th>\n",
       "      <th>PaymentMethod_Credit card (automatic)</th>\n",
       "      <th>PaymentMethod_Electronic check</th>\n",
       "      <th>PaymentMethod_Mailed check</th>\n",
       "    </tr>\n",
       "  </thead>\n",
       "  <tbody>\n",
       "    <tr>\n",
       "      <th>0</th>\n",
       "      <td>0</td>\n",
       "      <td>0</td>\n",
       "      <td>1</td>\n",
       "      <td>0</td>\n",
       "      <td>1</td>\n",
       "      <td>0</td>\n",
       "      <td>0</td>\n",
       "      <td>0</td>\n",
       "      <td>1</td>\n",
       "      <td>0</td>\n",
       "      <td>...</td>\n",
       "      <td>29.85</td>\n",
       "      <td>29.85</td>\n",
       "      <td>0</td>\n",
       "      <td>0</td>\n",
       "      <td>0</td>\n",
       "      <td>0</td>\n",
       "      <td>0</td>\n",
       "      <td>0</td>\n",
       "      <td>1</td>\n",
       "      <td>0</td>\n",
       "    </tr>\n",
       "    <tr>\n",
       "      <th>1</th>\n",
       "      <td>1</td>\n",
       "      <td>0</td>\n",
       "      <td>0</td>\n",
       "      <td>0</td>\n",
       "      <td>34</td>\n",
       "      <td>1</td>\n",
       "      <td>0</td>\n",
       "      <td>1</td>\n",
       "      <td>0</td>\n",
       "      <td>1</td>\n",
       "      <td>...</td>\n",
       "      <td>56.95</td>\n",
       "      <td>1889.50</td>\n",
       "      <td>0</td>\n",
       "      <td>0</td>\n",
       "      <td>0</td>\n",
       "      <td>1</td>\n",
       "      <td>0</td>\n",
       "      <td>0</td>\n",
       "      <td>0</td>\n",
       "      <td>1</td>\n",
       "    </tr>\n",
       "    <tr>\n",
       "      <th>2</th>\n",
       "      <td>1</td>\n",
       "      <td>0</td>\n",
       "      <td>0</td>\n",
       "      <td>0</td>\n",
       "      <td>2</td>\n",
       "      <td>1</td>\n",
       "      <td>0</td>\n",
       "      <td>1</td>\n",
       "      <td>1</td>\n",
       "      <td>0</td>\n",
       "      <td>...</td>\n",
       "      <td>53.85</td>\n",
       "      <td>108.15</td>\n",
       "      <td>1</td>\n",
       "      <td>0</td>\n",
       "      <td>0</td>\n",
       "      <td>0</td>\n",
       "      <td>0</td>\n",
       "      <td>0</td>\n",
       "      <td>0</td>\n",
       "      <td>1</td>\n",
       "    </tr>\n",
       "    <tr>\n",
       "      <th>3</th>\n",
       "      <td>1</td>\n",
       "      <td>0</td>\n",
       "      <td>0</td>\n",
       "      <td>0</td>\n",
       "      <td>45</td>\n",
       "      <td>0</td>\n",
       "      <td>0</td>\n",
       "      <td>1</td>\n",
       "      <td>0</td>\n",
       "      <td>1</td>\n",
       "      <td>...</td>\n",
       "      <td>42.30</td>\n",
       "      <td>1840.75</td>\n",
       "      <td>0</td>\n",
       "      <td>0</td>\n",
       "      <td>0</td>\n",
       "      <td>1</td>\n",
       "      <td>0</td>\n",
       "      <td>0</td>\n",
       "      <td>0</td>\n",
       "      <td>0</td>\n",
       "    </tr>\n",
       "    <tr>\n",
       "      <th>4</th>\n",
       "      <td>0</td>\n",
       "      <td>0</td>\n",
       "      <td>0</td>\n",
       "      <td>0</td>\n",
       "      <td>2</td>\n",
       "      <td>1</td>\n",
       "      <td>0</td>\n",
       "      <td>0</td>\n",
       "      <td>0</td>\n",
       "      <td>0</td>\n",
       "      <td>...</td>\n",
       "      <td>70.70</td>\n",
       "      <td>151.65</td>\n",
       "      <td>1</td>\n",
       "      <td>1</td>\n",
       "      <td>0</td>\n",
       "      <td>0</td>\n",
       "      <td>0</td>\n",
       "      <td>0</td>\n",
       "      <td>1</td>\n",
       "      <td>0</td>\n",
       "    </tr>\n",
       "  </tbody>\n",
       "</table>\n",
       "<p>5 rows × 24 columns</p>\n",
       "</div>"
      ],
      "text/plain": [
       "   gender  SeniorCitizen  Partner  Dependents  tenure  PhoneService  \\\n",
       "0       0              0        1           0       1             0   \n",
       "1       1              0        0           0      34             1   \n",
       "2       1              0        0           0       2             1   \n",
       "3       1              0        0           0      45             0   \n",
       "4       0              0        0           0       2             1   \n",
       "\n",
       "   MultipleLines  OnlineSecurity  OnlineBackup  DeviceProtection  ...  \\\n",
       "0              0               0             1                 0  ...   \n",
       "1              0               1             0                 1  ...   \n",
       "2              0               1             1                 0  ...   \n",
       "3              0               1             0                 1  ...   \n",
       "4              0               0             0                 0  ...   \n",
       "\n",
       "   MonthlyCharges  TotalCharges  Churn  InternetService_Fiber optic  \\\n",
       "0           29.85         29.85      0                            0   \n",
       "1           56.95       1889.50      0                            0   \n",
       "2           53.85        108.15      1                            0   \n",
       "3           42.30       1840.75      0                            0   \n",
       "4           70.70        151.65      1                            1   \n",
       "\n",
       "   InternetService_No  Contract_One year  Contract_Two year  \\\n",
       "0                   0                  0                  0   \n",
       "1                   0                  1                  0   \n",
       "2                   0                  0                  0   \n",
       "3                   0                  1                  0   \n",
       "4                   0                  0                  0   \n",
       "\n",
       "   PaymentMethod_Credit card (automatic)  PaymentMethod_Electronic check  \\\n",
       "0                                      0                               1   \n",
       "1                                      0                               0   \n",
       "2                                      0                               0   \n",
       "3                                      0                               0   \n",
       "4                                      0                               1   \n",
       "\n",
       "   PaymentMethod_Mailed check  \n",
       "0                           0  \n",
       "1                           1  \n",
       "2                           1  \n",
       "3                           0  \n",
       "4                           0  \n",
       "\n",
       "[5 rows x 24 columns]"
      ]
     },
     "execution_count": 37,
     "metadata": {},
     "output_type": "execute_result"
    }
   ],
   "source": [
    "df3.head()"
   ]
  },
  {
   "cell_type": "code",
   "execution_count": 38,
   "metadata": {
    "ExecuteTime": {
     "end_time": "2020-10-18T10:40:23.596695Z",
     "start_time": "2020-10-18T10:40:23.590147Z"
    }
   },
   "outputs": [],
   "source": [
    "# Now we need to scale our data."
   ]
  },
  {
   "cell_type": "code",
   "execution_count": 39,
   "metadata": {
    "ExecuteTime": {
     "end_time": "2020-10-18T10:40:29.292102Z",
     "start_time": "2020-10-18T10:40:29.277127Z"
    }
   },
   "outputs": [],
   "source": [
    "cols_to_scale=['tenure','MonthlyCharges','TotalCharges']"
   ]
  },
  {
   "cell_type": "code",
   "execution_count": 41,
   "metadata": {
    "ExecuteTime": {
     "end_time": "2020-10-18T10:40:57.026777Z",
     "start_time": "2020-10-18T10:40:56.946960Z"
    }
   },
   "outputs": [],
   "source": [
    "from sklearn.preprocessing import MinMaxScaler, RobustScaler\n",
    "import seaborn as sns"
   ]
  },
  {
   "cell_type": "code",
   "execution_count": 42,
   "metadata": {
    "ExecuteTime": {
     "end_time": "2020-10-18T10:41:13.191152Z",
     "start_time": "2020-10-18T10:41:13.182827Z"
    }
   },
   "outputs": [
    {
     "data": {
      "text/plain": [
       "0.23773083190513133"
      ]
     },
     "execution_count": 42,
     "metadata": {},
     "output_type": "execute_result"
    }
   ],
   "source": [
    "df3['tenure'].skew()"
   ]
  },
  {
   "cell_type": "code",
   "execution_count": 43,
   "metadata": {
    "ExecuteTime": {
     "end_time": "2020-10-18T10:41:18.569553Z",
     "start_time": "2020-10-18T10:41:18.558581Z"
    }
   },
   "outputs": [
    {
     "data": {
      "text/plain": [
       "-0.960180204906086"
      ]
     },
     "execution_count": 43,
     "metadata": {},
     "output_type": "execute_result"
    }
   ],
   "source": [
    "# log transformation to remove skewness\n",
    "(np.log(df3['tenure'])).skew()"
   ]
  },
  {
   "cell_type": "code",
   "execution_count": 44,
   "metadata": {
    "ExecuteTime": {
     "end_time": "2020-10-18T10:41:28.246229Z",
     "start_time": "2020-10-18T10:41:28.233128Z"
    }
   },
   "outputs": [
    {
     "data": {
      "text/plain": [
       "-0.23419748987386282"
      ]
     },
     "execution_count": 44,
     "metadata": {},
     "output_type": "execute_result"
    }
   ],
   "source": [
    "# sqrt transformation to remove skewness\n",
    "(np.sqrt(df3['tenure'])).skew()"
   ]
  },
  {
   "cell_type": "code",
   "execution_count": 45,
   "metadata": {
    "ExecuteTime": {
     "end_time": "2020-10-18T10:41:35.361074Z",
     "start_time": "2020-10-18T10:41:35.341989Z"
    }
   },
   "outputs": [],
   "source": [
    "# box-cox transformation to remove skewness\n",
    "from scipy import stats"
   ]
  },
  {
   "cell_type": "code",
   "execution_count": 46,
   "metadata": {
    "ExecuteTime": {
     "end_time": "2020-10-18T10:41:42.459111Z",
     "start_time": "2020-10-18T10:41:42.434058Z"
    }
   },
   "outputs": [
    {
     "data": {
      "text/plain": [
       "-0.28585923548525016"
      ]
     },
     "execution_count": 46,
     "metadata": {},
     "output_type": "execute_result"
    }
   ],
   "source": [
    "tenure_boxcox=stats.boxcox(df3['tenure'])[0]\n",
    "tenure_boxcox=pd.Series(tenure_boxcox)\n",
    "tenure_boxcox.skew()"
   ]
  },
  {
   "cell_type": "markdown",
   "metadata": {},
   "source": [
    "If skewness is less than −1 or greater than +1, the distribution is highly skewed. If skewness is between −1 and −½ or between +½ and +1, the distribution is moderately skewed. If skewness is between −½ and +½, the distribution is approximately symmetric. Hence, in this case there is no need to skew the data."
   ]
  },
  {
   "cell_type": "code",
   "execution_count": 47,
   "metadata": {
    "ExecuteTime": {
     "end_time": "2020-10-18T10:42:04.531078Z",
     "start_time": "2020-10-18T10:42:04.513126Z"
    }
   },
   "outputs": [
    {
     "data": {
      "text/plain": [
       "-0.22210292770166232"
      ]
     },
     "execution_count": 47,
     "metadata": {},
     "output_type": "execute_result"
    }
   ],
   "source": [
    "df3['MonthlyCharges'].skew()"
   ]
  },
  {
   "cell_type": "code",
   "execution_count": 48,
   "metadata": {
    "ExecuteTime": {
     "end_time": "2020-10-18T10:42:09.943894Z",
     "start_time": "2020-10-18T10:42:09.937910Z"
    }
   },
   "outputs": [
    {
     "data": {
      "text/plain": [
       "0.9616424997242504"
      ]
     },
     "execution_count": 48,
     "metadata": {},
     "output_type": "execute_result"
    }
   ],
   "source": [
    "df3['TotalCharges'].skew()"
   ]
  },
  {
   "cell_type": "code",
   "execution_count": 49,
   "metadata": {
    "ExecuteTime": {
     "end_time": "2020-10-18T10:42:17.551354Z",
     "start_time": "2020-10-18T10:42:17.536395Z"
    }
   },
   "outputs": [],
   "source": [
    "# Since its value does not lie between 0 and 1, we must try to reduce its skewness"
   ]
  },
  {
   "cell_type": "code",
   "execution_count": 50,
   "metadata": {
    "ExecuteTime": {
     "end_time": "2020-10-18T10:42:24.162404Z",
     "start_time": "2020-10-18T10:42:24.147415Z"
    }
   },
   "outputs": [
    {
     "data": {
      "text/plain": [
       "-0.7535741253284722"
      ]
     },
     "execution_count": 50,
     "metadata": {},
     "output_type": "execute_result"
    }
   ],
   "source": [
    "# log transformation to remove skewness\n",
    "(np.log(df3['TotalCharges'])).skew()"
   ]
  },
  {
   "cell_type": "code",
   "execution_count": 51,
   "metadata": {
    "ExecuteTime": {
     "end_time": "2020-10-18T10:42:29.468268Z",
     "start_time": "2020-10-18T10:42:29.455289Z"
    }
   },
   "outputs": [
    {
     "data": {
      "text/plain": [
       "0.3089261418986736"
      ]
     },
     "execution_count": 51,
     "metadata": {},
     "output_type": "execute_result"
    }
   ],
   "source": [
    "# sqrt transformation to remove skewness\n",
    "(np.sqrt(df3['TotalCharges'])).skew()"
   ]
  },
  {
   "cell_type": "code",
   "execution_count": 52,
   "metadata": {
    "ExecuteTime": {
     "end_time": "2020-10-18T10:42:47.678982Z",
     "start_time": "2020-10-18T10:42:47.659529Z"
    }
   },
   "outputs": [
    {
     "data": {
      "text/plain": [
       "-0.14575786874026936"
      ]
     },
     "execution_count": 52,
     "metadata": {},
     "output_type": "execute_result"
    }
   ],
   "source": [
    "TotalCharges_boxcox=stats.boxcox(df3['TotalCharges'])[0]\n",
    "TotalCharges_boxcox=pd.Series(TotalCharges_boxcox)\n",
    "TotalCharges_boxcox.skew()"
   ]
  },
  {
   "cell_type": "code",
   "execution_count": 53,
   "metadata": {
    "ExecuteTime": {
     "end_time": "2020-10-18T10:42:55.167242Z",
     "start_time": "2020-10-18T10:42:55.158236Z"
    }
   },
   "outputs": [
    {
     "data": {
      "text/plain": [
       "0        5.399287\n",
       "1       22.900956\n",
       "2        9.018523\n",
       "3       22.722905\n",
       "4       10.182711\n",
       "          ...    \n",
       "7027    23.259217\n",
       "7028    34.010528\n",
       "7029    13.487726\n",
       "7030    12.953998\n",
       "7031    33.311446\n",
       "Length: 7032, dtype: float64"
      ]
     },
     "execution_count": 53,
     "metadata": {},
     "output_type": "execute_result"
    }
   ],
   "source": [
    "TotalCharges_boxcox"
   ]
  },
  {
   "cell_type": "code",
   "execution_count": 54,
   "metadata": {
    "ExecuteTime": {
     "end_time": "2020-10-18T10:43:02.511929Z",
     "start_time": "2020-10-18T10:43:02.321437Z"
    }
   },
   "outputs": [
    {
     "name": "stderr",
     "output_type": "stream",
     "text": [
      "C:\\Users\\91830\\anaconda3\\envs\\tensorflow\\lib\\site-packages\\seaborn\\distributions.py:2551: FutureWarning: `distplot` is a deprecated function and will be removed in a future version. Please adapt your code to use either `displot` (a figure-level function with similar flexibility) or `histplot` (an axes-level function for histograms).\n",
      "  warnings.warn(msg, FutureWarning)\n"
     ]
    },
    {
     "data": {
      "text/plain": [
       "<AxesSubplot:ylabel='Density'>"
      ]
     },
     "execution_count": 54,
     "metadata": {},
     "output_type": "execute_result"
    },
    {
     "data": {
      "image/png": "[encoded data removed]",
      "text/plain": [
       "<Figure size 432x288 with 1 Axes>"
      ]
     },
     "metadata": {
      "needs_background": "light"
     },
     "output_type": "display_data"
    }
   ],
   "source": [
    "# You can see that boxcox transformation is giving us the best result.\n",
    "sns.distplot(TotalCharges_boxcox)"
   ]
  },
  {
   "cell_type": "code",
   "execution_count": 55,
   "metadata": {
    "ExecuteTime": {
     "end_time": "2020-10-18T10:43:09.419290Z",
     "start_time": "2020-10-18T10:43:09.245755Z"
    }
   },
   "outputs": [
    {
     "name": "stderr",
     "output_type": "stream",
     "text": [
      "C:\\Users\\91830\\anaconda3\\envs\\tensorflow\\lib\\site-packages\\seaborn\\distributions.py:2551: FutureWarning: `distplot` is a deprecated function and will be removed in a future version. Please adapt your code to use either `displot` (a figure-level function with similar flexibility) or `histplot` (an axes-level function for histograms).\n",
      "  warnings.warn(msg, FutureWarning)\n"
     ]
    },
    {
     "data": {
      "text/plain": [
       "<AxesSubplot:xlabel='TotalCharges', ylabel='Density'>"
      ]
     },
     "execution_count": 55,
     "metadata": {},
     "output_type": "execute_result"
    },
    {
     "data": {
      "image/png": "[encoded data removed]",
      "text/plain": [
       "<Figure size 432x288 with 1 Axes>"
      ]
     },
     "metadata": {
      "needs_background": "light"
     },
     "output_type": "display_data"
    }
   ],
   "source": [
    "sns.distplot(df3.TotalCharges)"
   ]
  },
  {
   "cell_type": "code",
   "execution_count": 56,
   "metadata": {
    "ExecuteTime": {
     "end_time": "2020-10-18T10:43:16.990823Z",
     "start_time": "2020-10-18T10:43:16.975834Z"
    }
   },
   "outputs": [],
   "source": [
    "df3['TotalCharges']=np.array(TotalCharges_boxcox)"
   ]
  },
  {
   "cell_type": "code",
   "execution_count": 57,
   "metadata": {
    "ExecuteTime": {
     "end_time": "2020-10-18T10:43:21.997424Z",
     "start_time": "2020-10-18T10:43:21.984441Z"
    }
   },
   "outputs": [
    {
     "data": {
      "text/plain": [
       "(7032, 24)"
      ]
     },
     "execution_count": 57,
     "metadata": {},
     "output_type": "execute_result"
    }
   ],
   "source": [
    "df3.shape"
   ]
  },
  {
   "cell_type": "code",
   "execution_count": 58,
   "metadata": {
    "ExecuteTime": {
     "end_time": "2020-10-18T10:43:32.177109Z",
     "start_time": "2020-10-18T10:43:32.156166Z"
    }
   },
   "outputs": [
    {
     "data": {
      "text/plain": [
       "0"
      ]
     },
     "execution_count": 58,
     "metadata": {},
     "output_type": "execute_result"
    }
   ],
   "source": [
    "df3.isnull().sum().sum()"
   ]
  },
  {
   "cell_type": "code",
   "execution_count": 59,
   "metadata": {
    "ExecuteTime": {
     "end_time": "2020-10-18T10:43:38.903967Z",
     "start_time": "2020-10-18T10:43:38.889002Z"
    }
   },
   "outputs": [],
   "source": [
    "# Lets scale the data"
   ]
  },
  {
   "cell_type": "code",
   "execution_count": 60,
   "metadata": {
    "ExecuteTime": {
     "end_time": "2020-10-18T10:43:47.356484Z",
     "start_time": "2020-10-18T10:43:47.328525Z"
    }
   },
   "outputs": [],
   "source": [
    "scale=MinMaxScaler()\n",
    "df3[cols_to_scale]=scale.fit_transform(df3[cols_to_scale])"
   ]
  },
  {
   "cell_type": "code",
   "execution_count": 61,
   "metadata": {
    "ExecuteTime": {
     "end_time": "2020-10-18T10:43:56.657677Z",
     "start_time": "2020-10-18T10:43:56.627755Z"
    }
   },
   "outputs": [
    {
     "name": "stdout",
     "output_type": "stream",
     "text": [
      "gender: [0 1]\n",
      "SeniorCitizen: [0 1]\n",
      "Partner: [1 0]\n",
      "Dependents: [0 1]\n",
      "tenure: [0.         0.46478873 0.01408451 0.61971831 0.09859155 0.29577465\n",
      " 0.12676056 0.38028169 0.85915493 0.16901408 0.21126761 0.8028169\n",
      " 0.67605634 0.33802817 0.95774648 0.71830986 0.98591549 0.28169014\n",
      " 0.15492958 0.4084507  0.64788732 1.         0.22535211 0.36619718\n",
      " 0.05633803 0.63380282 0.14084507 0.97183099 0.87323944 0.5915493\n",
      " 0.1971831  0.83098592 0.23943662 0.91549296 0.11267606 0.02816901\n",
      " 0.42253521 0.69014085 0.88732394 0.77464789 0.08450704 0.57746479\n",
      " 0.47887324 0.66197183 0.3943662  0.90140845 0.52112676 0.94366197\n",
      " 0.43661972 0.76056338 0.50704225 0.49295775 0.56338028 0.07042254\n",
      " 0.04225352 0.45070423 0.92957746 0.30985915 0.78873239 0.84507042\n",
      " 0.18309859 0.26760563 0.73239437 0.54929577 0.81690141 0.32394366\n",
      " 0.6056338  0.25352113 0.74647887 0.70422535 0.35211268 0.53521127]\n",
      "PhoneService: [0 1]\n",
      "MultipleLines: [0 1]\n",
      "OnlineSecurity: [0 1]\n",
      "OnlineBackup: [1 0]\n",
      "DeviceProtection: [0 1]\n",
      "TechSupport: [0 1]\n",
      "StreamingTV: [0 1]\n",
      "StreamingMovies: [0 1]\n",
      "PaperlessBilling: [1 0]\n",
      "MonthlyCharges: [0.11542289 0.38507463 0.35422886 ... 0.44626866 0.25820896 0.60149254]\n",
      "TotalCharges: [0.03312536 0.59269194 0.14884026 ... 0.29173042 0.27466597 0.92553804]\n",
      "Churn: [0 1]\n",
      "InternetService_Fiber optic: [0 1]\n",
      "InternetService_No: [0 1]\n",
      "Contract_One year: [0 1]\n",
      "Contract_Two year: [0 1]\n",
      "PaymentMethod_Credit card (automatic): [0 1]\n",
      "PaymentMethod_Electronic check: [1 0]\n",
      "PaymentMethod_Mailed check: [0 1]\n"
     ]
    }
   ],
   "source": [
    "unique_col_values(df3)"
   ]
  },
  {
   "cell_type": "code",
   "execution_count": 62,
   "metadata": {
    "ExecuteTime": {
     "end_time": "2020-10-18T10:44:03.302120Z",
     "start_time": "2020-10-18T10:44:03.140581Z"
    }
   },
   "outputs": [
    {
     "name": "stderr",
     "output_type": "stream",
     "text": [
      "C:\\Users\\91830\\anaconda3\\envs\\tensorflow\\lib\\site-packages\\seaborn\\distributions.py:2551: FutureWarning: `distplot` is a deprecated function and will be removed in a future version. Please adapt your code to use either `displot` (a figure-level function with similar flexibility) or `histplot` (an axes-level function for histograms).\n",
      "  warnings.warn(msg, FutureWarning)\n"
     ]
    },
    {
     "data": {
      "text/plain": [
       "<AxesSubplot:xlabel='tenure', ylabel='Density'>"
      ]
     },
     "execution_count": 62,
     "metadata": {},
     "output_type": "execute_result"
    },
    {
     "data": {
      "image/png": "[encoded data removed]",
      "text/plain": [
       "<Figure size 432x288 with 1 Axes>"
      ]
     },
     "metadata": {
      "needs_background": "light"
     },
     "output_type": "display_data"
    }
   ],
   "source": [
    "sns.distplot(df3.tenure)"
   ]
  },
  {
   "cell_type": "code",
   "execution_count": 63,
   "metadata": {
    "ExecuteTime": {
     "end_time": "2020-10-18T10:44:09.704693Z",
     "start_time": "2020-10-18T10:44:09.497248Z"
    }
   },
   "outputs": [
    {
     "name": "stderr",
     "output_type": "stream",
     "text": [
      "C:\\Users\\91830\\anaconda3\\envs\\tensorflow\\lib\\site-packages\\seaborn\\distributions.py:2551: FutureWarning: `distplot` is a deprecated function and will be removed in a future version. Please adapt your code to use either `displot` (a figure-level function with similar flexibility) or `histplot` (an axes-level function for histograms).\n",
      "  warnings.warn(msg, FutureWarning)\n"
     ]
    },
    {
     "data": {
      "text/plain": [
       "<AxesSubplot:xlabel='TotalCharges', ylabel='Density'>"
      ]
     },
     "execution_count": 63,
     "metadata": {},
     "output_type": "execute_result"
    },
    {
     "data": {
      "image/png": "[encoded data removed]",
      "text/plain": [
       "<Figure size 432x288 with 1 Axes>"
      ]
     },
     "metadata": {
      "needs_background": "light"
     },
     "output_type": "display_data"
    }
   ],
   "source": [
    "sns.distplot(df3.TotalCharges)"
   ]
  },
  {
   "cell_type": "code",
   "execution_count": 64,
   "metadata": {
    "ExecuteTime": {
     "end_time": "2020-10-18T10:44:18.647690Z",
     "start_time": "2020-10-18T10:44:18.629591Z"
    }
   },
   "outputs": [],
   "source": [
    "# Lets divide the data into independent and dependent variables.\n",
    "X=df3.drop(columns='Churn')\n",
    "y=df3['Churn']"
   ]
  },
  {
   "cell_type": "code",
   "execution_count": 65,
   "metadata": {
    "ExecuteTime": {
     "end_time": "2020-10-18T10:44:24.949218Z",
     "start_time": "2020-10-18T10:44:24.884110Z"
    }
   },
   "outputs": [],
   "source": [
    "# Now we will use train_test_split method to split our data into training and testing samples.\n",
    "from sklearn.model_selection import train_test_split\n",
    "X_train,X_test,y_train,y_test=train_test_split(X,y,test_size=0.2,random_state=51)"
   ]
  },
  {
   "cell_type": "code",
   "execution_count": 66,
   "metadata": {
    "ExecuteTime": {
     "end_time": "2020-10-18T10:44:33.172896Z",
     "start_time": "2020-10-18T10:44:33.168907Z"
    }
   },
   "outputs": [],
   "source": [
    "# Lets create a neural network. Since we are performing Binary classification, we require single neuron in the output layer.\n",
    "# If you were performing multi classification, we would have required 'n' number of neurons where 'n' is the number of\n",
    "# possible outputs."
   ]
  },
  {
   "cell_type": "code",
   "execution_count": 67,
   "metadata": {
    "ExecuteTime": {
     "end_time": "2020-10-18T10:44:44.826892Z",
     "start_time": "2020-10-18T10:44:44.820910Z"
    }
   },
   "outputs": [],
   "source": [
    "import tensorflow as tf\n",
    "from tensorflow import keras"
   ]
  },
  {
   "cell_type": "code",
   "execution_count": 68,
   "metadata": {
    "ExecuteTime": {
     "end_time": "2020-10-18T10:45:40.490216Z",
     "start_time": "2020-10-18T10:44:57.515292Z"
    }
   },
   "outputs": [
    {
     "name": "stdout",
     "output_type": "stream",
     "text": [
      "WARNING:tensorflow:Falling back from v2 loop because of error: Failed to find data adapter that can handle input: <class 'pandas.core.frame.DataFrame'>, <class 'NoneType'>\n",
      "Train on 5625 samples\n",
      "Epoch 1/100\n",
      "5625/5625 [==============================] - 1s 254us/sample - loss: 0.6166 - accuracy: 0.6556\n",
      "Epoch 2/100\n",
      "5625/5625 [==============================] - 0s 65us/sample - loss: 0.4577 - accuracy: 0.7806\n",
      "Epoch 3/100\n",
      "5625/5625 [==============================] - 0s 62us/sample - loss: 0.4330 - accuracy: 0.7932\n",
      "Epoch 4/100\n",
      "5625/5625 [==============================] - 0s 62us/sample - loss: 0.4248 - accuracy: 0.7957\n",
      "Epoch 5/100\n",
      "5625/5625 [==============================] - 0s 64us/sample - loss: 0.4197 - accuracy: 0.8021\n",
      "Epoch 6/100\n",
      "5625/5625 [==============================] - 0s 69us/sample - loss: 0.4166 - accuracy: 0.8041\n",
      "Epoch 7/100\n",
      "5625/5625 [==============================] - 0s 66us/sample - loss: 0.4137 - accuracy: 0.8052\n",
      "Epoch 8/100\n",
      "5625/5625 [==============================] - 0s 67us/sample - loss: 0.4124 - accuracy: 0.8103\n",
      "Epoch 9/100\n",
      "5625/5625 [==============================] - 0s 63us/sample - loss: 0.4116 - accuracy: 0.8044\n",
      "Epoch 10/100\n",
      "5625/5625 [==============================] - 0s 64us/sample - loss: 0.4091 - accuracy: 0.8105\n",
      "Epoch 11/100\n",
      "5625/5625 [==============================] - 0s 67us/sample - loss: 0.4086 - accuracy: 0.8092\n",
      "Epoch 12/100\n",
      "5625/5625 [==============================] - 0s 67us/sample - loss: 0.4081 - accuracy: 0.8123\n",
      "Epoch 13/100\n",
      "5625/5625 [==============================] - 0s 67us/sample - loss: 0.4074 - accuracy: 0.8071\n",
      "Epoch 14/100\n",
      "5625/5625 [==============================] - 0s 64us/sample - loss: 0.4060 - accuracy: 0.8116\n",
      "Epoch 15/100\n",
      "5625/5625 [==============================] - 0s 62us/sample - loss: 0.4051 - accuracy: 0.8119\n",
      "Epoch 16/100\n",
      "5625/5625 [==============================] - 0s 71us/sample - loss: 0.4052 - accuracy: 0.8114\n",
      "Epoch 17/100\n",
      "5625/5625 [==============================] - 0s 66us/sample - loss: 0.4047 - accuracy: 0.8126\n",
      "Epoch 18/100\n",
      "5625/5625 [==============================] - 0s 65us/sample - loss: 0.4042 - accuracy: 0.8132\n",
      "Epoch 19/100\n",
      "5625/5625 [==============================] - 0s 68us/sample - loss: 0.4026 - accuracy: 0.8121\n",
      "Epoch 20/100\n",
      "5625/5625 [==============================] - 0s 67us/sample - loss: 0.4018 - accuracy: 0.8151\n",
      "Epoch 21/100\n",
      "5625/5625 [==============================] - 0s 74us/sample - loss: 0.4014 - accuracy: 0.8156\n",
      "Epoch 22/100\n",
      "5625/5625 [==============================] - 0s 73us/sample - loss: 0.4005 - accuracy: 0.8174\n",
      "Epoch 23/100\n",
      "5625/5625 [==============================] - 0s 72us/sample - loss: 0.3997 - accuracy: 0.8164\n",
      "Epoch 24/100\n",
      "5625/5625 [==============================] - 0s 69us/sample - loss: 0.4000 - accuracy: 0.8165\n",
      "Epoch 25/100\n",
      "5625/5625 [==============================] - 0s 66us/sample - loss: 0.3984 - accuracy: 0.8139\n",
      "Epoch 26/100\n",
      "5625/5625 [==============================] - 0s 68us/sample - loss: 0.4001 - accuracy: 0.8148\n",
      "Epoch 27/100\n",
      "5625/5625 [==============================] - 0s 67us/sample - loss: 0.3985 - accuracy: 0.8171\n",
      "Epoch 28/100\n",
      "5625/5625 [==============================] - 0s 72us/sample - loss: 0.3977 - accuracy: 0.8169\n",
      "Epoch 29/100\n",
      "5625/5625 [==============================] - 0s 77us/sample - loss: 0.3974 - accuracy: 0.8196s - loss: 0.3922 - accu\n",
      "Epoch 30/100\n",
      "5625/5625 [==============================] - 0s 70us/sample - loss: 0.3967 - accuracy: 0.8171\n",
      "Epoch 31/100\n",
      "5625/5625 [==============================] - 0s 72us/sample - loss: 0.3963 - accuracy: 0.8194\n",
      "Epoch 32/100\n",
      "5625/5625 [==============================] - 0s 74us/sample - loss: 0.3963 - accuracy: 0.8174\n",
      "Epoch 33/100\n",
      "5625/5625 [==============================] - 0s 66us/sample - loss: 0.3943 - accuracy: 0.8181\n",
      "Epoch 34/100\n",
      "5625/5625 [==============================] - 0s 67us/sample - loss: 0.3955 - accuracy: 0.8156\n",
      "Epoch 35/100\n",
      "5625/5625 [==============================] - 0s 63us/sample - loss: 0.3932 - accuracy: 0.8194\n",
      "Epoch 36/100\n",
      "5625/5625 [==============================] - 0s 64us/sample - loss: 0.3939 - accuracy: 0.8187\n",
      "Epoch 37/100\n",
      "5625/5625 [==============================] - 0s 67us/sample - loss: 0.3931 - accuracy: 0.8199\n",
      "Epoch 38/100\n",
      "5625/5625 [==============================] - 0s 64us/sample - loss: 0.3923 - accuracy: 0.8201\n",
      "Epoch 39/100\n",
      "5625/5625 [==============================] - 0s 67us/sample - loss: 0.3919 - accuracy: 0.8208\n",
      "Epoch 40/100\n",
      "5625/5625 [==============================] - 0s 65us/sample - loss: 0.3925 - accuracy: 0.8196\n",
      "Epoch 41/100\n",
      "5625/5625 [==============================] - 0s 68us/sample - loss: 0.3912 - accuracy: 0.8208\n",
      "Epoch 42/100\n",
      "5625/5625 [==============================] - 0s 67us/sample - loss: 0.3918 - accuracy: 0.8231\n",
      "Epoch 43/100\n",
      "5625/5625 [==============================] - 0s 73us/sample - loss: 0.3915 - accuracy: 0.8226\n",
      "Epoch 44/100\n",
      "5625/5625 [==============================] - 0s 66us/sample - loss: 0.3903 - accuracy: 0.8215\n",
      "Epoch 45/100\n",
      "5625/5625 [==============================] - 0s 67us/sample - loss: 0.3903 - accuracy: 0.8222\n",
      "Epoch 46/100\n",
      "5625/5625 [==============================] - 0s 65us/sample - loss: 0.3893 - accuracy: 0.8197\n",
      "Epoch 47/100\n",
      "5625/5625 [==============================] - 0s 67us/sample - loss: 0.3888 - accuracy: 0.8226\n",
      "Epoch 48/100\n",
      "5625/5625 [==============================] - 0s 66us/sample - loss: 0.3892 - accuracy: 0.8217\n",
      "Epoch 49/100\n",
      "5625/5625 [==============================] - 0s 68us/sample - loss: 0.3885 - accuracy: 0.8245\n",
      "Epoch 50/100\n",
      "5625/5625 [==============================] - 0s 72us/sample - loss: 0.3875 - accuracy: 0.8228\n",
      "Epoch 51/100\n",
      "5625/5625 [==============================] - 0s 70us/sample - loss: 0.3876 - accuracy: 0.8228\n",
      "Epoch 52/100\n",
      "5625/5625 [==============================] - 0s 73us/sample - loss: 0.3882 - accuracy: 0.8194\n",
      "Epoch 53/100\n",
      "5625/5625 [==============================] - 0s 68us/sample - loss: 0.3870 - accuracy: 0.8254\n",
      "Epoch 54/100\n",
      "5625/5625 [==============================] - 0s 70us/sample - loss: 0.3872 - accuracy: 0.8219\n",
      "Epoch 55/100\n",
      "5625/5625 [==============================] - 0s 72us/sample - loss: 0.3868 - accuracy: 0.8220\n",
      "Epoch 56/100\n",
      "5625/5625 [==============================] - 0s 77us/sample - loss: 0.3847 - accuracy: 0.8261\n",
      "Epoch 57/100\n",
      "5625/5625 [==============================] - 0s 75us/sample - loss: 0.3843 - accuracy: 0.8228\n",
      "Epoch 58/100\n",
      "5625/5625 [==============================] - 0s 69us/sample - loss: 0.3844 - accuracy: 0.8219\n",
      "Epoch 59/100\n",
      "5625/5625 [==============================] - 0s 64us/sample - loss: 0.3842 - accuracy: 0.8236\n",
      "Epoch 60/100\n",
      "5625/5625 [==============================] - 0s 69us/sample - loss: 0.3837 - accuracy: 0.8242\n",
      "Epoch 61/100\n",
      "5625/5625 [==============================] - 0s 63us/sample - loss: 0.3835 - accuracy: 0.8220\n",
      "Epoch 62/100\n",
      "5625/5625 [==============================] - 0s 63us/sample - loss: 0.3829 - accuracy: 0.8274\n",
      "Epoch 63/100\n",
      "5625/5625 [==============================] - 0s 80us/sample - loss: 0.3837 - accuracy: 0.8236\n",
      "Epoch 64/100\n",
      "5625/5625 [==============================] - 0s 76us/sample - loss: 0.3829 - accuracy: 0.8258\n",
      "Epoch 65/100\n",
      "5625/5625 [==============================] - 0s 66us/sample - loss: 0.3817 - accuracy: 0.8267\n",
      "Epoch 66/100\n",
      "5625/5625 [==============================] - 0s 64us/sample - loss: 0.3826 - accuracy: 0.8215\n",
      "Epoch 67/100\n",
      "5625/5625 [==============================] - 0s 65us/sample - loss: 0.3812 - accuracy: 0.8265\n",
      "Epoch 68/100\n",
      "5625/5625 [==============================] - 0s 69us/sample - loss: 0.3818 - accuracy: 0.8247\n",
      "Epoch 69/100\n",
      "5625/5625 [==============================] - 0s 66us/sample - loss: 0.3819 - accuracy: 0.8229\n",
      "Epoch 70/100\n",
      "5625/5625 [==============================] - 0s 67us/sample - loss: 0.3804 - accuracy: 0.8263\n",
      "Epoch 71/100\n",
      "5625/5625 [==============================] - 0s 73us/sample - loss: 0.3802 - accuracy: 0.8268\n",
      "Epoch 72/100\n",
      "5625/5625 [==============================] - 0s 68us/sample - loss: 0.3814 - accuracy: 0.8231\n",
      "Epoch 73/100\n",
      "5625/5625 [==============================] - 0s 66us/sample - loss: 0.3793 - accuracy: 0.8245\n",
      "Epoch 74/100\n",
      "5625/5625 [==============================] - 0s 66us/sample - loss: 0.3782 - accuracy: 0.8245\n",
      "Epoch 75/100\n"
     ]
    },
    {
     "name": "stdout",
     "output_type": "stream",
     "text": [
      "5625/5625 [==============================] - 0s 66us/sample - loss: 0.3784 - accuracy: 0.8233\n",
      "Epoch 76/100\n",
      "5625/5625 [==============================] - 0s 69us/sample - loss: 0.3788 - accuracy: 0.8267\n",
      "Epoch 77/100\n",
      "5625/5625 [==============================] - 0s 67us/sample - loss: 0.3786 - accuracy: 0.8272\n",
      "Epoch 78/100\n",
      "5625/5625 [==============================] - 0s 67us/sample - loss: 0.3772 - accuracy: 0.8229\n",
      "Epoch 79/100\n",
      "5625/5625 [==============================] - 0s 71us/sample - loss: 0.3771 - accuracy: 0.8283\n",
      "Epoch 80/100\n",
      "5625/5625 [==============================] - 0s 64us/sample - loss: 0.3778 - accuracy: 0.8256\n",
      "Epoch 81/100\n",
      "5625/5625 [==============================] - 0s 71us/sample - loss: 0.3768 - accuracy: 0.8252\n",
      "Epoch 82/100\n",
      "5625/5625 [==============================] - 0s 63us/sample - loss: 0.3760 - accuracy: 0.8254\n",
      "Epoch 83/100\n",
      "5625/5625 [==============================] - 0s 62us/sample - loss: 0.3756 - accuracy: 0.8290\n",
      "Epoch 84/100\n",
      "5625/5625 [==============================] - 0s 66us/sample - loss: 0.3748 - accuracy: 0.8247\n",
      "Epoch 85/100\n",
      "5625/5625 [==============================] - 0s 65us/sample - loss: 0.3756 - accuracy: 0.8276\n",
      "Epoch 86/100\n",
      "5625/5625 [==============================] - 0s 64us/sample - loss: 0.3746 - accuracy: 0.8256\n",
      "Epoch 87/100\n",
      "5625/5625 [==============================] - 0s 79us/sample - loss: 0.3754 - accuracy: 0.8260\n",
      "Epoch 88/100\n",
      "5625/5625 [==============================] - 0s 70us/sample - loss: 0.3744 - accuracy: 0.8281\n",
      "Epoch 89/100\n",
      "5625/5625 [==============================] - 0s 69us/sample - loss: 0.3733 - accuracy: 0.8231\n",
      "Epoch 90/100\n",
      "5625/5625 [==============================] - 0s 67us/sample - loss: 0.3745 - accuracy: 0.8276\n",
      "Epoch 91/100\n",
      "5625/5625 [==============================] - 0s 66us/sample - loss: 0.3724 - accuracy: 0.8277\n",
      "Epoch 92/100\n",
      "5625/5625 [==============================] - 0s 69us/sample - loss: 0.3733 - accuracy: 0.8299\n",
      "Epoch 93/100\n",
      "5625/5625 [==============================] - 0s 67us/sample - loss: 0.3723 - accuracy: 0.8276\n",
      "Epoch 94/100\n",
      "5625/5625 [==============================] - 0s 68us/sample - loss: 0.3730 - accuracy: 0.8270\n",
      "Epoch 95/100\n",
      "5625/5625 [==============================] - 0s 69us/sample - loss: 0.3718 - accuracy: 0.8284\n",
      "Epoch 96/100\n",
      "5625/5625 [==============================] - 0s 66us/sample - loss: 0.3715 - accuracy: 0.8293\n",
      "Epoch 97/100\n",
      "5625/5625 [==============================] - 0s 69us/sample - loss: 0.3711 - accuracy: 0.8265\n",
      "Epoch 98/100\n",
      "5625/5625 [==============================] - 0s 69us/sample - loss: 0.3707 - accuracy: 0.8272\n",
      "Epoch 99/100\n",
      "5625/5625 [==============================] - 0s 67us/sample - loss: 0.3708 - accuracy: 0.8272\n",
      "Epoch 100/100\n",
      "5625/5625 [==============================] - 0s 68us/sample - loss: 0.3696 - accuracy: 0.8281\n"
     ]
    },
    {
     "data": {
      "text/plain": [
       "<tensorflow.python.keras.callbacks.History at 0x2a30bc47b08>"
      ]
     },
     "execution_count": 68,
     "metadata": {},
     "output_type": "execute_result"
    }
   ],
   "source": [
    "model=keras.Sequential([\n",
    "    keras.layers.Dense(20,input_shape=(23,),activation='relu'), #Input layer\n",
    "    keras.layers.Dense(15,activation='relu'), # hidden layer\n",
    "    keras.layers.Dense(1,activation='sigmoid'), # output layer \n",
    "    # General rule is to use relu in the hidden layers and sigmoid in the output layer (if classification problem).\n",
    "])\n",
    "model.compile(optimizer='adam',loss='binary_crossentropy', metrics=['accuracy'])\n",
    "# We are using binary_crossentropy beacuse we are dealing with binary classification problem.\n",
    "# crossentropy is used for classification problems.\n",
    "# We generally use 'adam' as an optimizer.\n",
    "# While fitting the model, always try with less epochs (say 5), if you see that\n",
    "# your parameters are working, then go with larger epochs (say 100)\n",
    "model.fit(X_train,y_train,epochs=100)"
   ]
  },
  {
   "cell_type": "code",
   "execution_count": 69,
   "metadata": {
    "ExecuteTime": {
     "end_time": "2020-10-18T10:45:40.644899Z",
     "start_time": "2020-10-18T10:45:40.494204Z"
    }
   },
   "outputs": [
    {
     "name": "stdout",
     "output_type": "stream",
     "text": [
      "WARNING:tensorflow:Falling back from v2 loop because of error: Failed to find data adapter that can handle input: <class 'pandas.core.frame.DataFrame'>, <class 'NoneType'>\n",
      "1407/1407 [==============================] - 0s 50us/sample - loss: 0.4402 - accuracy: 0.7939\n"
     ]
    },
    {
     "data": {
      "text/plain": [
       "[0.4402029029468992, 0.7938877]"
      ]
     },
     "execution_count": 69,
     "metadata": {},
     "output_type": "execute_result"
    }
   ],
   "source": [
    "model.evaluate(X_test,y_test)"
   ]
  },
  {
   "cell_type": "code",
   "execution_count": 70,
   "metadata": {
    "ExecuteTime": {
     "end_time": "2020-10-18T10:45:40.722617Z",
     "start_time": "2020-10-18T10:45:40.645894Z"
    }
   },
   "outputs": [
    {
     "name": "stdout",
     "output_type": "stream",
     "text": [
      "WARNING:tensorflow:Falling back from v2 loop because of error: Failed to find data adapter that can handle input: <class 'pandas.core.frame.DataFrame'>, <class 'NoneType'>\n"
     ]
    }
   ],
   "source": [
    "y_pred=model.predict(X_test)"
   ]
  },
  {
   "cell_type": "code",
   "execution_count": 72,
   "metadata": {
    "ExecuteTime": {
     "end_time": "2020-10-18T10:45:50.997218Z",
     "start_time": "2020-10-18T10:45:50.995211Z"
    }
   },
   "outputs": [],
   "source": [
    "y_pred=y_pred.round()"
   ]
  },
  {
   "cell_type": "code",
   "execution_count": 73,
   "metadata": {
    "ExecuteTime": {
     "end_time": "2020-10-18T10:46:02.295575Z",
     "start_time": "2020-10-18T10:46:02.285600Z"
    }
   },
   "outputs": [],
   "source": [
    "# Lets print a classification report\n",
    "from sklearn.metrics import classification_report"
   ]
  },
  {
   "cell_type": "code",
   "execution_count": 74,
   "metadata": {
    "ExecuteTime": {
     "end_time": "2020-10-18T10:46:10.905244Z",
     "start_time": "2020-10-18T10:46:10.889287Z"
    }
   },
   "outputs": [
    {
     "name": "stdout",
     "output_type": "stream",
     "text": [
      "              precision    recall  f1-score   support\n",
      "\n",
      "           0       0.85      0.88      0.86      1037\n",
      "           1       0.62      0.55      0.58       370\n",
      "\n",
      "    accuracy                           0.79      1407\n",
      "   macro avg       0.73      0.72      0.72      1407\n",
      "weighted avg       0.79      0.79      0.79      1407\n",
      "\n"
     ]
    }
   ],
   "source": [
    "print(classification_report(y_test, y_pred))"
   ]
  },
  {
   "cell_type": "code",
   "execution_count": 75,
   "metadata": {
    "ExecuteTime": {
     "end_time": "2020-10-18T10:46:30.028923Z",
     "start_time": "2020-10-18T10:46:29.850929Z"
    }
   },
   "outputs": [
    {
     "data": {
      "text/plain": [
       "Text(24.0, 0.5, 'True')"
      ]
     },
     "execution_count": 75,
     "metadata": {},
     "output_type": "execute_result"
    },
    {
     "data": {
      "image/png": "[encoded data removed]",
      "text/plain": [
       "<Figure size 360x360 with 2 Axes>"
      ]
     },
     "metadata": {
      "needs_background": "light"
     },
     "output_type": "display_data"
    }
   ],
   "source": [
    "cm=tf.math.confusion_matrix(labels=y_test,predictions=y_pred)\n",
    "plt.figure(figsize=(5,5))\n",
    "sns.heatmap(cm,annot=True,fmt='d') # fmt='d' converts the values like 1e into 100\n",
    "plt.xlabel('Predicted')\n",
    "plt.ylabel('True')"
   ]
  },
  {
   "cell_type": "code",
   "execution_count": 77,
   "metadata": {
    "ExecuteTime": {
     "end_time": "2020-10-18T11:06:17.293773Z",
     "start_time": "2020-10-18T11:06:17.277814Z"
    }
   },
   "outputs": [],
   "source": [
    "# You can see that though we have high accuracy, but we have an imbalanced Dataset. We can say that because the f1-score\n",
    "# of 0 is much greater than the f1-score of 1. Our goal is to improve the f1-score of the 1. We should also increase the\n",
    "# precision, recall and all the other parameters."
   ]
  },
  {
   "cell_type": "code",
   "execution_count": 78,
   "metadata": {
    "ExecuteTime": {
     "end_time": "2020-10-18T11:08:34.500604Z",
     "start_time": "2020-10-18T11:08:34.483618Z"
    }
   },
   "outputs": [],
   "source": [
    "# Firstly, We will apply the under sampling technique"
   ]
  },
  {
   "cell_type": "code",
   "execution_count": 81,
   "metadata": {
    "ExecuteTime": {
     "end_time": "2020-10-18T11:09:07.867533Z",
     "start_time": "2020-10-18T11:09:07.835598Z"
    }
   },
   "outputs": [
    {
     "data": {
      "text/plain": [
       "0    5163\n",
       "1    1869\n",
       "Name: Churn, dtype: int64"
      ]
     },
     "execution_count": 81,
     "metadata": {},
     "output_type": "execute_result"
    }
   ],
   "source": [
    "df3.Churn.value_counts()"
   ]
  },
  {
   "cell_type": "code",
   "execution_count": 82,
   "metadata": {
    "ExecuteTime": {
     "end_time": "2020-10-18T11:09:17.085819Z",
     "start_time": "2020-10-18T11:09:17.081830Z"
    }
   },
   "outputs": [],
   "source": [
    "# You can see the imbalance"
   ]
  },
  {
   "cell_type": "code",
   "execution_count": 87,
   "metadata": {
    "ExecuteTime": {
     "end_time": "2020-10-18T11:11:14.414681Z",
     "start_time": "2020-10-18T11:11:14.393718Z"
    }
   },
   "outputs": [],
   "source": [
    "df3_churn_zero=df3[df3['Churn']==0]\n",
    "df3_churn_ones=df3[df3['Churn']==1]"
   ]
  },
  {
   "cell_type": "code",
   "execution_count": 89,
   "metadata": {
    "ExecuteTime": {
     "end_time": "2020-10-18T11:11:28.396169Z",
     "start_time": "2020-10-18T11:11:28.364255Z"
    }
   },
   "outputs": [
    {
     "data": {
      "text/html": [
       "<div>\n",
       "<style scoped>\n",
       "    .dataframe tbody tr th:only-of-type {\n",
       "        vertical-align: middle;\n",
       "    }\n",
       "\n",
       "    .dataframe tbody tr th {\n",
       "        vertical-align: top;\n",
       "    }\n",
       "\n",
       "    .dataframe thead th {\n",
       "        text-align: right;\n",
       "    }\n",
       "</style>\n",
       "<table border=\"1\" class=\"dataframe\">\n",
       "  <thead>\n",
       "    <tr style=\"text-align: right;\">\n",
       "      <th></th>\n",
       "      <th>gender</th>\n",
       "      <th>SeniorCitizen</th>\n",
       "      <th>Partner</th>\n",
       "      <th>Dependents</th>\n",
       "      <th>tenure</th>\n",
       "      <th>PhoneService</th>\n",
       "      <th>MultipleLines</th>\n",
       "      <th>OnlineSecurity</th>\n",
       "      <th>OnlineBackup</th>\n",
       "      <th>DeviceProtection</th>\n",
       "      <th>...</th>\n",
       "      <th>MonthlyCharges</th>\n",
       "      <th>TotalCharges</th>\n",
       "      <th>Churn</th>\n",
       "      <th>InternetService_Fiber optic</th>\n",
       "      <th>InternetService_No</th>\n",
       "      <th>Contract_One year</th>\n",
       "      <th>Contract_Two year</th>\n",
       "      <th>PaymentMethod_Credit card (automatic)</th>\n",
       "      <th>PaymentMethod_Electronic check</th>\n",
       "      <th>PaymentMethod_Mailed check</th>\n",
       "    </tr>\n",
       "  </thead>\n",
       "  <tbody>\n",
       "    <tr>\n",
       "      <th>1791</th>\n",
       "      <td>0</td>\n",
       "      <td>0</td>\n",
       "      <td>1</td>\n",
       "      <td>0</td>\n",
       "      <td>0.605634</td>\n",
       "      <td>1</td>\n",
       "      <td>0</td>\n",
       "      <td>1</td>\n",
       "      <td>1</td>\n",
       "      <td>1</td>\n",
       "      <td>...</td>\n",
       "      <td>0.430348</td>\n",
       "      <td>0.676304</td>\n",
       "      <td>0</td>\n",
       "      <td>0</td>\n",
       "      <td>0</td>\n",
       "      <td>1</td>\n",
       "      <td>0</td>\n",
       "      <td>0</td>\n",
       "      <td>0</td>\n",
       "      <td>1</td>\n",
       "    </tr>\n",
       "    <tr>\n",
       "      <th>5357</th>\n",
       "      <td>1</td>\n",
       "      <td>0</td>\n",
       "      <td>1</td>\n",
       "      <td>0</td>\n",
       "      <td>0.830986</td>\n",
       "      <td>1</td>\n",
       "      <td>0</td>\n",
       "      <td>0</td>\n",
       "      <td>0</td>\n",
       "      <td>0</td>\n",
       "      <td>...</td>\n",
       "      <td>0.016915</td>\n",
       "      <td>0.508279</td>\n",
       "      <td>0</td>\n",
       "      <td>0</td>\n",
       "      <td>1</td>\n",
       "      <td>0</td>\n",
       "      <td>1</td>\n",
       "      <td>0</td>\n",
       "      <td>0</td>\n",
       "      <td>1</td>\n",
       "    </tr>\n",
       "    <tr>\n",
       "      <th>766</th>\n",
       "      <td>1</td>\n",
       "      <td>0</td>\n",
       "      <td>0</td>\n",
       "      <td>0</td>\n",
       "      <td>0.295775</td>\n",
       "      <td>1</td>\n",
       "      <td>1</td>\n",
       "      <td>0</td>\n",
       "      <td>1</td>\n",
       "      <td>0</td>\n",
       "      <td>...</td>\n",
       "      <td>0.602985</td>\n",
       "      <td>0.557144</td>\n",
       "      <td>0</td>\n",
       "      <td>1</td>\n",
       "      <td>0</td>\n",
       "      <td>0</td>\n",
       "      <td>0</td>\n",
       "      <td>0</td>\n",
       "      <td>0</td>\n",
       "      <td>1</td>\n",
       "    </tr>\n",
       "    <tr>\n",
       "      <th>1776</th>\n",
       "      <td>1</td>\n",
       "      <td>1</td>\n",
       "      <td>1</td>\n",
       "      <td>0</td>\n",
       "      <td>1.000000</td>\n",
       "      <td>1</td>\n",
       "      <td>1</td>\n",
       "      <td>0</td>\n",
       "      <td>0</td>\n",
       "      <td>0</td>\n",
       "      <td>...</td>\n",
       "      <td>0.067164</td>\n",
       "      <td>0.582460</td>\n",
       "      <td>0</td>\n",
       "      <td>0</td>\n",
       "      <td>1</td>\n",
       "      <td>0</td>\n",
       "      <td>1</td>\n",
       "      <td>0</td>\n",
       "      <td>0</td>\n",
       "      <td>0</td>\n",
       "    </tr>\n",
       "    <tr>\n",
       "      <th>4406</th>\n",
       "      <td>0</td>\n",
       "      <td>0</td>\n",
       "      <td>0</td>\n",
       "      <td>0</td>\n",
       "      <td>0.507042</td>\n",
       "      <td>1</td>\n",
       "      <td>1</td>\n",
       "      <td>1</td>\n",
       "      <td>1</td>\n",
       "      <td>1</td>\n",
       "      <td>...</td>\n",
       "      <td>0.603483</td>\n",
       "      <td>0.698004</td>\n",
       "      <td>0</td>\n",
       "      <td>0</td>\n",
       "      <td>0</td>\n",
       "      <td>0</td>\n",
       "      <td>0</td>\n",
       "      <td>1</td>\n",
       "      <td>0</td>\n",
       "      <td>0</td>\n",
       "    </tr>\n",
       "  </tbody>\n",
       "</table>\n",
       "<p>5 rows × 24 columns</p>\n",
       "</div>"
      ],
      "text/plain": [
       "      gender  SeniorCitizen  Partner  Dependents    tenure  PhoneService  \\\n",
       "1791       0              0        1           0  0.605634             1   \n",
       "5357       1              0        1           0  0.830986             1   \n",
       "766        1              0        0           0  0.295775             1   \n",
       "1776       1              1        1           0  1.000000             1   \n",
       "4406       0              0        0           0  0.507042             1   \n",
       "\n",
       "      MultipleLines  OnlineSecurity  OnlineBackup  DeviceProtection  ...  \\\n",
       "1791              0               1             1                 1  ...   \n",
       "5357              0               0             0                 0  ...   \n",
       "766               1               0             1                 0  ...   \n",
       "1776              1               0             0                 0  ...   \n",
       "4406              1               1             1                 1  ...   \n",
       "\n",
       "      MonthlyCharges  TotalCharges  Churn  InternetService_Fiber optic  \\\n",
       "1791        0.430348      0.676304      0                            0   \n",
       "5357        0.016915      0.508279      0                            0   \n",
       "766         0.602985      0.557144      0                            1   \n",
       "1776        0.067164      0.582460      0                            0   \n",
       "4406        0.603483      0.698004      0                            0   \n",
       "\n",
       "      InternetService_No  Contract_One year  Contract_Two year  \\\n",
       "1791                   0                  1                  0   \n",
       "5357                   1                  0                  1   \n",
       "766                    0                  0                  0   \n",
       "1776                   1                  0                  1   \n",
       "4406                   0                  0                  0   \n",
       "\n",
       "      PaymentMethod_Credit card (automatic)  PaymentMethod_Electronic check  \\\n",
       "1791                                      0                               0   \n",
       "5357                                      0                               0   \n",
       "766                                       0                               0   \n",
       "1776                                      0                               0   \n",
       "4406                                      1                               0   \n",
       "\n",
       "      PaymentMethod_Mailed check  \n",
       "1791                           1  \n",
       "5357                           1  \n",
       "766                            1  \n",
       "1776                           0  \n",
       "4406                           0  \n",
       "\n",
       "[5 rows x 24 columns]"
      ]
     },
     "execution_count": 89,
     "metadata": {},
     "output_type": "execute_result"
    }
   ],
   "source": [
    "df3_churn_zero.sample(5)"
   ]
  },
  {
   "cell_type": "code",
   "execution_count": 90,
   "metadata": {
    "ExecuteTime": {
     "end_time": "2020-10-18T11:11:56.124584Z",
     "start_time": "2020-10-18T11:11:56.114588Z"
    }
   },
   "outputs": [],
   "source": [
    "# We have seperated both the churn classes"
   ]
  },
  {
   "cell_type": "code",
   "execution_count": 91,
   "metadata": {
    "ExecuteTime": {
     "end_time": "2020-10-18T11:13:53.261326Z",
     "start_time": "2020-10-18T11:13:53.251353Z"
    }
   },
   "outputs": [
    {
     "data": {
      "text/plain": [
       "((5163, 24), (1869, 24))"
      ]
     },
     "execution_count": 91,
     "metadata": {},
     "output_type": "execute_result"
    }
   ],
   "source": [
    "df3_churn_zero.shape, df3_churn_ones.shape"
   ]
  },
  {
   "cell_type": "code",
   "execution_count": 92,
   "metadata": {
    "ExecuteTime": {
     "end_time": "2020-10-18T11:14:38.353463Z",
     "start_time": "2020-10-18T11:14:38.345485Z"
    }
   },
   "outputs": [],
   "source": [
    "# To perform Under Sampling technique, you need to select the number of samples from the major class that is equal in number\n",
    "# to that of the minor class."
   ]
  },
  {
   "cell_type": "code",
   "execution_count": 93,
   "metadata": {
    "ExecuteTime": {
     "end_time": "2020-10-18T11:18:48.008702Z",
     "start_time": "2020-10-18T11:18:48.001721Z"
    }
   },
   "outputs": [],
   "source": [
    "df3_churn_zero_sample=df3_churn_zero.sample(1869)  # number of samples in df3_churn_ones is 1869\n",
    "# Now we concatenate both the datasets.\n",
    "df3_under_sample=pd.concat([df3_churn_zero_sample,df3_churn_ones],axis=0)"
   ]
  },
  {
   "cell_type": "code",
   "execution_count": 98,
   "metadata": {
    "ExecuteTime": {
     "end_time": "2020-10-18T11:28:30.980862Z",
     "start_time": "2020-10-18T11:28:30.961890Z"
    }
   },
   "outputs": [
    {
     "data": {
      "text/plain": [
       "(1    1869\n",
       " 0    1869\n",
       " Name: Churn, dtype: int64,\n",
       " (3738, 24))"
      ]
     },
     "execution_count": 98,
     "metadata": {},
     "output_type": "execute_result"
    }
   ],
   "source": [
    "df3_under_sample.Churn.value_counts(),df3_under_sample.shape"
   ]
  },
  {
   "cell_type": "code",
   "execution_count": 96,
   "metadata": {
    "ExecuteTime": {
     "end_time": "2020-10-18T11:19:28.983338Z",
     "start_time": "2020-10-18T11:19:28.976359Z"
    }
   },
   "outputs": [],
   "source": [
    "# Now we have created a under sample dataset."
   ]
  },
  {
   "cell_type": "code",
   "execution_count": 97,
   "metadata": {
    "ExecuteTime": {
     "end_time": "2020-10-18T11:20:51.682698Z",
     "start_time": "2020-10-18T11:20:51.679707Z"
    }
   },
   "outputs": [],
   "source": [
    "# Lets create a function to perform train test split and train the model."
   ]
  },
  {
   "cell_type": "code",
   "execution_count": 99,
   "metadata": {
    "ExecuteTime": {
     "end_time": "2020-10-18T11:33:40.644355Z",
     "start_time": "2020-10-18T11:33:40.633310Z"
    }
   },
   "outputs": [],
   "source": [
    "def ANN(data):\n",
    "    # We split the data into X and y\n",
    "    _X=data.drop(columns='Churn')\n",
    "    _y=data['Churn']\n",
    "    \n",
    "    # Now we perform the train test split method\n",
    "    X_train_,X_test_,y_train_,y_test_=train_test_split(_X,_y,test_size=0.2,random_state=1,stratify=_y)\n",
    "    # stratify parameter ensures that there is no imbalance w.r.t the mentioned column\n",
    "    # Now we create the model\n",
    "    model_=keras.Sequential([\n",
    "        keras.layers.Dense(20,input_dim=23,activation='relu'),\n",
    "        keras.layers.Dense(15,activation='relu'),\n",
    "        keras.layers.Dense(1,activation='sigmoid')\n",
    "    ])\n",
    "    model.compile(optimizer='adam',loss='binary_crossentropy', metrics=['accuracy'])\n",
    "    model.fit(X_train_, y_train_,epochs=100)\n",
    "    \n",
    "    # Now we make predictions\n",
    "    y_pred_=model.predict(X_test_)\n",
    "    y_pred_=y_pred_.round()\n",
    "    \n",
    "    # Now we make a classification report\n",
    "    print(classification_report(y_test_, y_pred_))"
   ]
  },
  {
   "cell_type": "code",
   "execution_count": 100,
   "metadata": {
    "ExecuteTime": {
     "end_time": "2020-10-18T11:34:28.914803Z",
     "start_time": "2020-10-18T11:34:04.554796Z"
    }
   },
   "outputs": [
    {
     "name": "stdout",
     "output_type": "stream",
     "text": [
      "WARNING:tensorflow:Falling back from v2 loop because of error: Failed to find data adapter that can handle input: <class 'pandas.core.frame.DataFrame'>, <class 'NoneType'>\n",
      "Train on 2990 samples\n",
      "Epoch 1/100\n",
      "2990/2990 [==============================] - 0s 90us/sample - loss: 0.4465 - accuracy: 0.7863\n",
      "Epoch 2/100\n",
      "2990/2990 [==============================] - 0s 68us/sample - loss: 0.4384 - accuracy: 0.7946\n",
      "Epoch 3/100\n",
      "2990/2990 [==============================] - 0s 67us/sample - loss: 0.4337 - accuracy: 0.7983\n",
      "Epoch 4/100\n",
      "2990/2990 [==============================] - 0s 74us/sample - loss: 0.4313 - accuracy: 0.8000\n",
      "Epoch 5/100\n",
      "2990/2990 [==============================] - 0s 69us/sample - loss: 0.4273 - accuracy: 0.7980\n",
      "Epoch 6/100\n",
      "2990/2990 [==============================] - 0s 70us/sample - loss: 0.4272 - accuracy: 0.7987\n",
      "Epoch 7/100\n",
      "2990/2990 [==============================] - 0s 68us/sample - loss: 0.4256 - accuracy: 0.8027\n",
      "Epoch 8/100\n",
      "2990/2990 [==============================] - 0s 72us/sample - loss: 0.4230 - accuracy: 0.8020\n",
      "Epoch 9/100\n",
      "2990/2990 [==============================] - 0s 73us/sample - loss: 0.4224 - accuracy: 0.8040\n",
      "Epoch 10/100\n",
      "2990/2990 [==============================] - 0s 69us/sample - loss: 0.4205 - accuracy: 0.8067\n",
      "Epoch 11/100\n",
      "2990/2990 [==============================] - 0s 73us/sample - loss: 0.4213 - accuracy: 0.8020\n",
      "Epoch 12/100\n",
      "2990/2990 [==============================] - 0s 68us/sample - loss: 0.4183 - accuracy: 0.8040\n",
      "Epoch 13/100\n",
      "2990/2990 [==============================] - 0s 68us/sample - loss: 0.4184 - accuracy: 0.8064\n",
      "Epoch 14/100\n",
      "2990/2990 [==============================] - 0s 75us/sample - loss: 0.4191 - accuracy: 0.8100\n",
      "Epoch 15/100\n",
      "2990/2990 [==============================] - 0s 68us/sample - loss: 0.4177 - accuracy: 0.8064\n",
      "Epoch 16/100\n",
      "2990/2990 [==============================] - 0s 75us/sample - loss: 0.4155 - accuracy: 0.8077\n",
      "Epoch 17/100\n",
      "2990/2990 [==============================] - 0s 68us/sample - loss: 0.4145 - accuracy: 0.8087\n",
      "Epoch 18/100\n",
      "2990/2990 [==============================] - 0s 75us/sample - loss: 0.4163 - accuracy: 0.8097\n",
      "Epoch 19/100\n",
      "2990/2990 [==============================] - 0s 69us/sample - loss: 0.4160 - accuracy: 0.8080\n",
      "Epoch 20/100\n",
      "2990/2990 [==============================] - 0s 71us/sample - loss: 0.4129 - accuracy: 0.8080\n",
      "Epoch 21/100\n",
      "2990/2990 [==============================] - 0s 71us/sample - loss: 0.4123 - accuracy: 0.8124\n",
      "Epoch 22/100\n",
      "2990/2990 [==============================] - 0s 83us/sample - loss: 0.4122 - accuracy: 0.8060\n",
      "Epoch 23/100\n",
      "2990/2990 [==============================] - 0s 76us/sample - loss: 0.4136 - accuracy: 0.8087\n",
      "Epoch 24/100\n",
      "2990/2990 [==============================] - 0s 72us/sample - loss: 0.4104 - accuracy: 0.8134\n",
      "Epoch 25/100\n",
      "2990/2990 [==============================] - 0s 72us/sample - loss: 0.4105 - accuracy: 0.8084\n",
      "Epoch 26/100\n",
      "2990/2990 [==============================] - 0s 71us/sample - loss: 0.4095 - accuracy: 0.8054\n",
      "Epoch 27/100\n",
      "2990/2990 [==============================] - 0s 75us/sample - loss: 0.4111 - accuracy: 0.8110\n",
      "Epoch 28/100\n",
      "2990/2990 [==============================] - 0s 72us/sample - loss: 0.4085 - accuracy: 0.8074\n",
      "Epoch 29/100\n",
      "2990/2990 [==============================] - 0s 70us/sample - loss: 0.4061 - accuracy: 0.8104\n",
      "Epoch 30/100\n",
      "2990/2990 [==============================] - 0s 72us/sample - loss: 0.4058 - accuracy: 0.8107\n",
      "Epoch 31/100\n",
      "2990/2990 [==============================] - 0s 71us/sample - loss: 0.4055 - accuracy: 0.8087\n",
      "Epoch 32/100\n",
      "2990/2990 [==============================] - 0s 74us/sample - loss: 0.4056 - accuracy: 0.8147\n",
      "Epoch 33/100\n",
      "2990/2990 [==============================] - 0s 69us/sample - loss: 0.4041 - accuracy: 0.8140\n",
      "Epoch 34/100\n",
      "2990/2990 [==============================] - 0s 73us/sample - loss: 0.4057 - accuracy: 0.8087\n",
      "Epoch 35/100\n",
      "2990/2990 [==============================] - 0s 73us/sample - loss: 0.4034 - accuracy: 0.8120\n",
      "Epoch 36/100\n",
      "2990/2990 [==============================] - 0s 71us/sample - loss: 0.4022 - accuracy: 0.8130\n",
      "Epoch 37/100\n",
      "2990/2990 [==============================] - 0s 73us/sample - loss: 0.4024 - accuracy: 0.8124\n",
      "Epoch 38/100\n",
      "2990/2990 [==============================] - 0s 71us/sample - loss: 0.4026 - accuracy: 0.8094\n",
      "Epoch 39/100\n",
      "2990/2990 [==============================] - 0s 72us/sample - loss: 0.4001 - accuracy: 0.8137\n",
      "Epoch 40/100\n",
      "2990/2990 [==============================] - 0s 74us/sample - loss: 0.4005 - accuracy: 0.8107\n",
      "Epoch 41/100\n",
      "2990/2990 [==============================] - 0s 72us/sample - loss: 0.4008 - accuracy: 0.8147\n",
      "Epoch 42/100\n",
      "2990/2990 [==============================] - 0s 73us/sample - loss: 0.3986 - accuracy: 0.8154\n",
      "Epoch 43/100\n",
      "2990/2990 [==============================] - 0s 71us/sample - loss: 0.3977 - accuracy: 0.8147\n",
      "Epoch 44/100\n",
      "2990/2990 [==============================] - 0s 74us/sample - loss: 0.3990 - accuracy: 0.8120\n",
      "Epoch 45/100\n",
      "2990/2990 [==============================] - 0s 72us/sample - loss: 0.3968 - accuracy: 0.8171\n",
      "Epoch 46/100\n",
      "2990/2990 [==============================] - 0s 73us/sample - loss: 0.3976 - accuracy: 0.8147\n",
      "Epoch 47/100\n",
      "2990/2990 [==============================] - 0s 72us/sample - loss: 0.3953 - accuracy: 0.8144\n",
      "Epoch 48/100\n",
      "2990/2990 [==============================] - 0s 73us/sample - loss: 0.3948 - accuracy: 0.8157\n",
      "Epoch 49/100\n",
      "2990/2990 [==============================] - 0s 70us/sample - loss: 0.3952 - accuracy: 0.8134\n",
      "Epoch 50/100\n",
      "2990/2990 [==============================] - 0s 74us/sample - loss: 0.3960 - accuracy: 0.8124\n",
      "Epoch 51/100\n",
      "2990/2990 [==============================] - 0s 77us/sample - loss: 0.3924 - accuracy: 0.8194\n",
      "Epoch 52/100\n",
      "2990/2990 [==============================] - 0s 80us/sample - loss: 0.3943 - accuracy: 0.8124\n",
      "Epoch 53/100\n",
      "2990/2990 [==============================] - 0s 79us/sample - loss: 0.3929 - accuracy: 0.8197\n",
      "Epoch 54/100\n",
      "2990/2990 [==============================] - 0s 79us/sample - loss: 0.3909 - accuracy: 0.8184\n",
      "Epoch 55/100\n",
      "2990/2990 [==============================] - 0s 91us/sample - loss: 0.3910 - accuracy: 0.8174\n",
      "Epoch 56/100\n",
      "2990/2990 [==============================] - 0s 77us/sample - loss: 0.3908 - accuracy: 0.8177\n",
      "Epoch 57/100\n",
      "2990/2990 [==============================] - 0s 77us/sample - loss: 0.3902 - accuracy: 0.8184\n",
      "Epoch 58/100\n",
      "2990/2990 [==============================] - 0s 92us/sample - loss: 0.3903 - accuracy: 0.8194\n",
      "Epoch 59/100\n",
      "2990/2990 [==============================] - 0s 97us/sample - loss: 0.3895 - accuracy: 0.8204\n",
      "Epoch 60/100\n",
      "2990/2990 [==============================] - 0s 87us/sample - loss: 0.3898 - accuracy: 0.8154\n",
      "Epoch 61/100\n",
      "2990/2990 [==============================] - 0s 94us/sample - loss: 0.3879 - accuracy: 0.8241\n",
      "Epoch 62/100\n",
      "2990/2990 [==============================] - 0s 96us/sample - loss: 0.3881 - accuracy: 0.8167\n",
      "Epoch 63/100\n",
      "2990/2990 [==============================] - 0s 89us/sample - loss: 0.3887 - accuracy: 0.8174\n",
      "Epoch 64/100\n",
      "2990/2990 [==============================] - 0s 91us/sample - loss: 0.3890 - accuracy: 0.8154\n",
      "Epoch 65/100\n",
      "2990/2990 [==============================] - 0s 90us/sample - loss: 0.3861 - accuracy: 0.8187\n",
      "Epoch 66/100\n",
      "2990/2990 [==============================] - 0s 91us/sample - loss: 0.3874 - accuracy: 0.8191\n",
      "Epoch 67/100\n",
      "2990/2990 [==============================] - 0s 90us/sample - loss: 0.3889 - accuracy: 0.8171\n",
      "Epoch 68/100\n",
      "2990/2990 [==============================] - 0s 89us/sample - loss: 0.3852 - accuracy: 0.8167\n",
      "Epoch 69/100\n",
      "2990/2990 [==============================] - 0s 90us/sample - loss: 0.3855 - accuracy: 0.8191\n",
      "Epoch 70/100\n",
      "2990/2990 [==============================] - 0s 77us/sample - loss: 0.3844 - accuracy: 0.8184\n",
      "Epoch 71/100\n",
      "2990/2990 [==============================] - 0s 73us/sample - loss: 0.3857 - accuracy: 0.8201\n",
      "Epoch 72/100\n",
      "2990/2990 [==============================] - 0s 74us/sample - loss: 0.3864 - accuracy: 0.8181\n",
      "Epoch 73/100\n",
      "2990/2990 [==============================] - 0s 74us/sample - loss: 0.3837 - accuracy: 0.8181\n",
      "Epoch 74/100\n",
      "2990/2990 [==============================] - 0s 88us/sample - loss: 0.3826 - accuracy: 0.8251\n",
      "Epoch 75/100\n"
     ]
    },
    {
     "name": "stdout",
     "output_type": "stream",
     "text": [
      "2990/2990 [==============================] - 0s 86us/sample - loss: 0.3836 - accuracy: 0.8258\n",
      "Epoch 76/100\n",
      "2990/2990 [==============================] - 0s 87us/sample - loss: 0.3826 - accuracy: 0.8241\n",
      "Epoch 77/100\n",
      "2990/2990 [==============================] - 0s 91us/sample - loss: 0.3809 - accuracy: 0.8214\n",
      "Epoch 78/100\n",
      "2990/2990 [==============================] - 0s 91us/sample - loss: 0.3805 - accuracy: 0.8251\n",
      "Epoch 79/100\n",
      "2990/2990 [==============================] - 0s 88us/sample - loss: 0.3792 - accuracy: 0.8258\n",
      "Epoch 80/100\n",
      "2990/2990 [==============================] - 0s 89us/sample - loss: 0.3803 - accuracy: 0.8247\n",
      "Epoch 81/100\n",
      "2990/2990 [==============================] - 0s 91us/sample - loss: 0.3816 - accuracy: 0.8251\n",
      "Epoch 82/100\n",
      "2990/2990 [==============================] - 0s 94us/sample - loss: 0.3789 - accuracy: 0.8221\n",
      "Epoch 83/100\n",
      "2990/2990 [==============================] - 0s 86us/sample - loss: 0.3781 - accuracy: 0.8254\n",
      "Epoch 84/100\n",
      "2990/2990 [==============================] - 0s 75us/sample - loss: 0.3797 - accuracy: 0.8251\n",
      "Epoch 85/100\n",
      "2990/2990 [==============================] - 0s 75us/sample - loss: 0.3795 - accuracy: 0.8207\n",
      "Epoch 86/100\n",
      "2990/2990 [==============================] - 0s 75us/sample - loss: 0.3767 - accuracy: 0.8294\n",
      "Epoch 87/100\n",
      "2990/2990 [==============================] - 0s 84us/sample - loss: 0.3781 - accuracy: 0.8231\n",
      "Epoch 88/100\n",
      "2990/2990 [==============================] - 0s 89us/sample - loss: 0.3767 - accuracy: 0.8247\n",
      "Epoch 89/100\n",
      "2990/2990 [==============================] - 0s 91us/sample - loss: 0.3757 - accuracy: 0.8268\n",
      "Epoch 90/100\n",
      "2990/2990 [==============================] - 0s 92us/sample - loss: 0.3752 - accuracy: 0.8244\n",
      "Epoch 91/100\n",
      "2990/2990 [==============================] - 0s 88us/sample - loss: 0.3751 - accuracy: 0.8261\n",
      "Epoch 92/100\n",
      "2990/2990 [==============================] - 0s 88us/sample - loss: 0.3749 - accuracy: 0.8227\n",
      "Epoch 93/100\n",
      "2990/2990 [==============================] - 0s 98us/sample - loss: 0.3754 - accuracy: 0.8261\n",
      "Epoch 94/100\n",
      "2990/2990 [==============================] - 0s 90us/sample - loss: 0.3751 - accuracy: 0.8291\n",
      "Epoch 95/100\n",
      "2990/2990 [==============================] - 0s 91us/sample - loss: 0.3739 - accuracy: 0.8274\n",
      "Epoch 96/100\n",
      "2990/2990 [==============================] - 0s 84us/sample - loss: 0.3762 - accuracy: 0.8271\n",
      "Epoch 97/100\n",
      "2990/2990 [==============================] - 0s 77us/sample - loss: 0.3735 - accuracy: 0.8288\n",
      "Epoch 98/100\n",
      "2990/2990 [==============================] - 0s 80us/sample - loss: 0.3725 - accuracy: 0.8288\n",
      "Epoch 99/100\n",
      "2990/2990 [==============================] - 0s 108us/sample - loss: 0.3722 - accuracy: 0.8271\n",
      "Epoch 100/100\n",
      "2990/2990 [==============================] - 0s 88us/sample - loss: 0.3725 - accuracy: 0.8294\n",
      "WARNING:tensorflow:Falling back from v2 loop because of error: Failed to find data adapter that can handle input: <class 'pandas.core.frame.DataFrame'>, <class 'NoneType'>\n",
      "              precision    recall  f1-score   support\n",
      "\n",
      "           0       0.75      0.70      0.73       374\n",
      "           1       0.72      0.77      0.75       374\n",
      "\n",
      "    accuracy                           0.74       748\n",
      "   macro avg       0.74      0.74      0.74       748\n",
      "weighted avg       0.74      0.74      0.74       748\n",
      "\n"
     ]
    }
   ],
   "source": [
    "ANN(df3_under_sample)"
   ]
  },
  {
   "cell_type": "code",
   "execution_count": 101,
   "metadata": {
    "ExecuteTime": {
     "end_time": "2020-10-18T11:38:42.077066Z",
     "start_time": "2020-10-18T11:38:42.062107Z"
    }
   },
   "outputs": [],
   "source": [
    "# You can see that our f1-score of the class having churn=1 is increased."
   ]
  },
  {
   "cell_type": "markdown",
   "metadata": {},
   "source": [
    "# Over Sampling "
   ]
  },
  {
   "cell_type": "code",
   "execution_count": 102,
   "metadata": {
    "ExecuteTime": {
     "end_time": "2020-10-18T11:39:45.969466Z",
     "start_time": "2020-10-18T11:39:45.937553Z"
    }
   },
   "outputs": [
    {
     "data": {
      "text/html": [
       "<div>\n",
       "<style scoped>\n",
       "    .dataframe tbody tr th:only-of-type {\n",
       "        vertical-align: middle;\n",
       "    }\n",
       "\n",
       "    .dataframe tbody tr th {\n",
       "        vertical-align: top;\n",
       "    }\n",
       "\n",
       "    .dataframe thead th {\n",
       "        text-align: right;\n",
       "    }\n",
       "</style>\n",
       "<table border=\"1\" class=\"dataframe\">\n",
       "  <thead>\n",
       "    <tr style=\"text-align: right;\">\n",
       "      <th></th>\n",
       "      <th>gender</th>\n",
       "      <th>SeniorCitizen</th>\n",
       "      <th>Partner</th>\n",
       "      <th>Dependents</th>\n",
       "      <th>tenure</th>\n",
       "      <th>PhoneService</th>\n",
       "      <th>MultipleLines</th>\n",
       "      <th>OnlineSecurity</th>\n",
       "      <th>OnlineBackup</th>\n",
       "      <th>DeviceProtection</th>\n",
       "      <th>...</th>\n",
       "      <th>MonthlyCharges</th>\n",
       "      <th>TotalCharges</th>\n",
       "      <th>Churn</th>\n",
       "      <th>InternetService_Fiber optic</th>\n",
       "      <th>InternetService_No</th>\n",
       "      <th>Contract_One year</th>\n",
       "      <th>Contract_Two year</th>\n",
       "      <th>PaymentMethod_Credit card (automatic)</th>\n",
       "      <th>PaymentMethod_Electronic check</th>\n",
       "      <th>PaymentMethod_Mailed check</th>\n",
       "    </tr>\n",
       "  </thead>\n",
       "  <tbody>\n",
       "    <tr>\n",
       "      <th>4385</th>\n",
       "      <td>1</td>\n",
       "      <td>0</td>\n",
       "      <td>0</td>\n",
       "      <td>0</td>\n",
       "      <td>0.281690</td>\n",
       "      <td>1</td>\n",
       "      <td>0</td>\n",
       "      <td>0</td>\n",
       "      <td>0</td>\n",
       "      <td>0</td>\n",
       "      <td>...</td>\n",
       "      <td>0.020896</td>\n",
       "      <td>0.320672</td>\n",
       "      <td>0</td>\n",
       "      <td>0</td>\n",
       "      <td>1</td>\n",
       "      <td>1</td>\n",
       "      <td>0</td>\n",
       "      <td>0</td>\n",
       "      <td>0</td>\n",
       "      <td>1</td>\n",
       "    </tr>\n",
       "    <tr>\n",
       "      <th>6546</th>\n",
       "      <td>1</td>\n",
       "      <td>0</td>\n",
       "      <td>0</td>\n",
       "      <td>0</td>\n",
       "      <td>0.323944</td>\n",
       "      <td>1</td>\n",
       "      <td>0</td>\n",
       "      <td>1</td>\n",
       "      <td>0</td>\n",
       "      <td>0</td>\n",
       "      <td>...</td>\n",
       "      <td>0.327363</td>\n",
       "      <td>0.511013</td>\n",
       "      <td>0</td>\n",
       "      <td>0</td>\n",
       "      <td>0</td>\n",
       "      <td>0</td>\n",
       "      <td>0</td>\n",
       "      <td>0</td>\n",
       "      <td>1</td>\n",
       "      <td>0</td>\n",
       "    </tr>\n",
       "    <tr>\n",
       "      <th>2450</th>\n",
       "      <td>0</td>\n",
       "      <td>0</td>\n",
       "      <td>1</td>\n",
       "      <td>1</td>\n",
       "      <td>1.000000</td>\n",
       "      <td>1</td>\n",
       "      <td>1</td>\n",
       "      <td>1</td>\n",
       "      <td>0</td>\n",
       "      <td>1</td>\n",
       "      <td>...</td>\n",
       "      <td>0.917413</td>\n",
       "      <td>0.976121</td>\n",
       "      <td>0</td>\n",
       "      <td>1</td>\n",
       "      <td>0</td>\n",
       "      <td>0</td>\n",
       "      <td>1</td>\n",
       "      <td>0</td>\n",
       "      <td>0</td>\n",
       "      <td>0</td>\n",
       "    </tr>\n",
       "    <tr>\n",
       "      <th>6842</th>\n",
       "      <td>1</td>\n",
       "      <td>0</td>\n",
       "      <td>0</td>\n",
       "      <td>0</td>\n",
       "      <td>0.169014</td>\n",
       "      <td>1</td>\n",
       "      <td>0</td>\n",
       "      <td>0</td>\n",
       "      <td>0</td>\n",
       "      <td>0</td>\n",
       "      <td>...</td>\n",
       "      <td>0.016915</td>\n",
       "      <td>0.250941</td>\n",
       "      <td>0</td>\n",
       "      <td>0</td>\n",
       "      <td>1</td>\n",
       "      <td>1</td>\n",
       "      <td>0</td>\n",
       "      <td>0</td>\n",
       "      <td>0</td>\n",
       "      <td>1</td>\n",
       "    </tr>\n",
       "    <tr>\n",
       "      <th>5168</th>\n",
       "      <td>1</td>\n",
       "      <td>0</td>\n",
       "      <td>0</td>\n",
       "      <td>0</td>\n",
       "      <td>0.112676</td>\n",
       "      <td>1</td>\n",
       "      <td>0</td>\n",
       "      <td>0</td>\n",
       "      <td>0</td>\n",
       "      <td>0</td>\n",
       "      <td>...</td>\n",
       "      <td>0.622388</td>\n",
       "      <td>0.404138</td>\n",
       "      <td>1</td>\n",
       "      <td>1</td>\n",
       "      <td>0</td>\n",
       "      <td>0</td>\n",
       "      <td>0</td>\n",
       "      <td>0</td>\n",
       "      <td>1</td>\n",
       "      <td>0</td>\n",
       "    </tr>\n",
       "  </tbody>\n",
       "</table>\n",
       "<p>5 rows × 24 columns</p>\n",
       "</div>"
      ],
      "text/plain": [
       "      gender  SeniorCitizen  Partner  Dependents    tenure  PhoneService  \\\n",
       "4385       1              0        0           0  0.281690             1   \n",
       "6546       1              0        0           0  0.323944             1   \n",
       "2450       0              0        1           1  1.000000             1   \n",
       "6842       1              0        0           0  0.169014             1   \n",
       "5168       1              0        0           0  0.112676             1   \n",
       "\n",
       "      MultipleLines  OnlineSecurity  OnlineBackup  DeviceProtection  ...  \\\n",
       "4385              0               0             0                 0  ...   \n",
       "6546              0               1             0                 0  ...   \n",
       "2450              1               1             0                 1  ...   \n",
       "6842              0               0             0                 0  ...   \n",
       "5168              0               0             0                 0  ...   \n",
       "\n",
       "      MonthlyCharges  TotalCharges  Churn  InternetService_Fiber optic  \\\n",
       "4385        0.020896      0.320672      0                            0   \n",
       "6546        0.327363      0.511013      0                            0   \n",
       "2450        0.917413      0.976121      0                            1   \n",
       "6842        0.016915      0.250941      0                            0   \n",
       "5168        0.622388      0.404138      1                            1   \n",
       "\n",
       "      InternetService_No  Contract_One year  Contract_Two year  \\\n",
       "4385                   1                  1                  0   \n",
       "6546                   0                  0                  0   \n",
       "2450                   0                  0                  1   \n",
       "6842                   1                  1                  0   \n",
       "5168                   0                  0                  0   \n",
       "\n",
       "      PaymentMethod_Credit card (automatic)  PaymentMethod_Electronic check  \\\n",
       "4385                                      0                               0   \n",
       "6546                                      0                               1   \n",
       "2450                                      0                               0   \n",
       "6842                                      0                               0   \n",
       "5168                                      0                               1   \n",
       "\n",
       "      PaymentMethod_Mailed check  \n",
       "4385                           1  \n",
       "6546                           0  \n",
       "2450                           0  \n",
       "6842                           1  \n",
       "5168                           0  \n",
       "\n",
       "[5 rows x 24 columns]"
      ]
     },
     "execution_count": 102,
     "metadata": {},
     "output_type": "execute_result"
    }
   ],
   "source": [
    "df3.sample(5)"
   ]
  },
  {
   "cell_type": "code",
   "execution_count": 103,
   "metadata": {
    "ExecuteTime": {
     "end_time": "2020-10-18T11:39:56.883694Z",
     "start_time": "2020-10-18T11:39:56.878706Z"
    }
   },
   "outputs": [
    {
     "data": {
      "text/plain": [
       "0    5163\n",
       "1    1869\n",
       "Name: Churn, dtype: int64"
      ]
     },
     "execution_count": 103,
     "metadata": {},
     "output_type": "execute_result"
    }
   ],
   "source": [
    "df3.Churn.value_counts()"
   ]
  },
  {
   "cell_type": "code",
   "execution_count": 104,
   "metadata": {
    "ExecuteTime": {
     "end_time": "2020-10-18T11:40:12.280710Z",
     "start_time": "2020-10-18T11:40:12.267718Z"
    }
   },
   "outputs": [],
   "source": [
    "# We must oversample the class with churn =1"
   ]
  },
  {
   "cell_type": "code",
   "execution_count": 106,
   "metadata": {
    "ExecuteTime": {
     "end_time": "2020-10-18T11:42:09.578503Z",
     "start_time": "2020-10-18T11:42:09.545592Z"
    }
   },
   "outputs": [
    {
     "data": {
      "text/html": [
       "<div>\n",
       "<style scoped>\n",
       "    .dataframe tbody tr th:only-of-type {\n",
       "        vertical-align: middle;\n",
       "    }\n",
       "\n",
       "    .dataframe tbody tr th {\n",
       "        vertical-align: top;\n",
       "    }\n",
       "\n",
       "    .dataframe thead th {\n",
       "        text-align: right;\n",
       "    }\n",
       "</style>\n",
       "<table border=\"1\" class=\"dataframe\">\n",
       "  <thead>\n",
       "    <tr style=\"text-align: right;\">\n",
       "      <th></th>\n",
       "      <th>gender</th>\n",
       "      <th>SeniorCitizen</th>\n",
       "      <th>Partner</th>\n",
       "      <th>Dependents</th>\n",
       "      <th>tenure</th>\n",
       "      <th>PhoneService</th>\n",
       "      <th>MultipleLines</th>\n",
       "      <th>OnlineSecurity</th>\n",
       "      <th>OnlineBackup</th>\n",
       "      <th>DeviceProtection</th>\n",
       "      <th>...</th>\n",
       "      <th>MonthlyCharges</th>\n",
       "      <th>TotalCharges</th>\n",
       "      <th>Churn</th>\n",
       "      <th>InternetService_Fiber optic</th>\n",
       "      <th>InternetService_No</th>\n",
       "      <th>Contract_One year</th>\n",
       "      <th>Contract_Two year</th>\n",
       "      <th>PaymentMethod_Credit card (automatic)</th>\n",
       "      <th>PaymentMethod_Electronic check</th>\n",
       "      <th>PaymentMethod_Mailed check</th>\n",
       "    </tr>\n",
       "  </thead>\n",
       "  <tbody>\n",
       "    <tr>\n",
       "      <th>5822</th>\n",
       "      <td>0</td>\n",
       "      <td>1</td>\n",
       "      <td>0</td>\n",
       "      <td>0</td>\n",
       "      <td>0.478873</td>\n",
       "      <td>1</td>\n",
       "      <td>0</td>\n",
       "      <td>0</td>\n",
       "      <td>0</td>\n",
       "      <td>0</td>\n",
       "      <td>...</td>\n",
       "      <td>0.520398</td>\n",
       "      <td>0.648408</td>\n",
       "      <td>0</td>\n",
       "      <td>1</td>\n",
       "      <td>0</td>\n",
       "      <td>0</td>\n",
       "      <td>0</td>\n",
       "      <td>0</td>\n",
       "      <td>1</td>\n",
       "      <td>0</td>\n",
       "    </tr>\n",
       "    <tr>\n",
       "      <th>2176</th>\n",
       "      <td>1</td>\n",
       "      <td>0</td>\n",
       "      <td>1</td>\n",
       "      <td>1</td>\n",
       "      <td>0.929577</td>\n",
       "      <td>1</td>\n",
       "      <td>0</td>\n",
       "      <td>0</td>\n",
       "      <td>0</td>\n",
       "      <td>0</td>\n",
       "      <td>...</td>\n",
       "      <td>0.011443</td>\n",
       "      <td>0.512327</td>\n",
       "      <td>0</td>\n",
       "      <td>0</td>\n",
       "      <td>1</td>\n",
       "      <td>0</td>\n",
       "      <td>1</td>\n",
       "      <td>1</td>\n",
       "      <td>0</td>\n",
       "      <td>0</td>\n",
       "    </tr>\n",
       "    <tr>\n",
       "      <th>1435</th>\n",
       "      <td>0</td>\n",
       "      <td>1</td>\n",
       "      <td>1</td>\n",
       "      <td>0</td>\n",
       "      <td>0.901408</td>\n",
       "      <td>1</td>\n",
       "      <td>1</td>\n",
       "      <td>1</td>\n",
       "      <td>1</td>\n",
       "      <td>1</td>\n",
       "      <td>...</td>\n",
       "      <td>0.906965</td>\n",
       "      <td>0.942165</td>\n",
       "      <td>0</td>\n",
       "      <td>1</td>\n",
       "      <td>0</td>\n",
       "      <td>0</td>\n",
       "      <td>0</td>\n",
       "      <td>1</td>\n",
       "      <td>0</td>\n",
       "      <td>0</td>\n",
       "    </tr>\n",
       "    <tr>\n",
       "      <th>1016</th>\n",
       "      <td>1</td>\n",
       "      <td>0</td>\n",
       "      <td>1</td>\n",
       "      <td>0</td>\n",
       "      <td>0.985915</td>\n",
       "      <td>1</td>\n",
       "      <td>1</td>\n",
       "      <td>1</td>\n",
       "      <td>1</td>\n",
       "      <td>1</td>\n",
       "      <td>...</td>\n",
       "      <td>0.615423</td>\n",
       "      <td>0.865448</td>\n",
       "      <td>0</td>\n",
       "      <td>0</td>\n",
       "      <td>0</td>\n",
       "      <td>0</td>\n",
       "      <td>1</td>\n",
       "      <td>0</td>\n",
       "      <td>0</td>\n",
       "      <td>1</td>\n",
       "    </tr>\n",
       "    <tr>\n",
       "      <th>653</th>\n",
       "      <td>0</td>\n",
       "      <td>0</td>\n",
       "      <td>0</td>\n",
       "      <td>0</td>\n",
       "      <td>0.225352</td>\n",
       "      <td>1</td>\n",
       "      <td>1</td>\n",
       "      <td>0</td>\n",
       "      <td>0</td>\n",
       "      <td>0</td>\n",
       "      <td>...</td>\n",
       "      <td>0.065174</td>\n",
       "      <td>0.338420</td>\n",
       "      <td>0</td>\n",
       "      <td>0</td>\n",
       "      <td>1</td>\n",
       "      <td>0</td>\n",
       "      <td>0</td>\n",
       "      <td>0</td>\n",
       "      <td>0</td>\n",
       "      <td>1</td>\n",
       "    </tr>\n",
       "  </tbody>\n",
       "</table>\n",
       "<p>5 rows × 24 columns</p>\n",
       "</div>"
      ],
      "text/plain": [
       "      gender  SeniorCitizen  Partner  Dependents    tenure  PhoneService  \\\n",
       "5822       0              1        0           0  0.478873             1   \n",
       "2176       1              0        1           1  0.929577             1   \n",
       "1435       0              1        1           0  0.901408             1   \n",
       "1016       1              0        1           0  0.985915             1   \n",
       "653        0              0        0           0  0.225352             1   \n",
       "\n",
       "      MultipleLines  OnlineSecurity  OnlineBackup  DeviceProtection  ...  \\\n",
       "5822              0               0             0                 0  ...   \n",
       "2176              0               0             0                 0  ...   \n",
       "1435              1               1             1                 1  ...   \n",
       "1016              1               1             1                 1  ...   \n",
       "653               1               0             0                 0  ...   \n",
       "\n",
       "      MonthlyCharges  TotalCharges  Churn  InternetService_Fiber optic  \\\n",
       "5822        0.520398      0.648408      0                            1   \n",
       "2176        0.011443      0.512327      0                            0   \n",
       "1435        0.906965      0.942165      0                            1   \n",
       "1016        0.615423      0.865448      0                            0   \n",
       "653         0.065174      0.338420      0                            0   \n",
       "\n",
       "      InternetService_No  Contract_One year  Contract_Two year  \\\n",
       "5822                   0                  0                  0   \n",
       "2176                   1                  0                  1   \n",
       "1435                   0                  0                  0   \n",
       "1016                   0                  0                  1   \n",
       "653                    1                  0                  0   \n",
       "\n",
       "      PaymentMethod_Credit card (automatic)  PaymentMethod_Electronic check  \\\n",
       "5822                                      0                               1   \n",
       "2176                                      1                               0   \n",
       "1435                                      1                               0   \n",
       "1016                                      0                               0   \n",
       "653                                       0                               0   \n",
       "\n",
       "      PaymentMethod_Mailed check  \n",
       "5822                           0  \n",
       "2176                           0  \n",
       "1435                           0  \n",
       "1016                           1  \n",
       "653                            1  \n",
       "\n",
       "[5 rows x 24 columns]"
      ]
     },
     "execution_count": 106,
     "metadata": {},
     "output_type": "execute_result"
    }
   ],
   "source": [
    "df3_churn_zero.sample(5)"
   ]
  },
  {
   "cell_type": "code",
   "execution_count": 107,
   "metadata": {
    "ExecuteTime": {
     "end_time": "2020-10-18T11:42:23.610665Z",
     "start_time": "2020-10-18T11:42:23.588115Z"
    }
   },
   "outputs": [
    {
     "data": {
      "text/html": [
       "<div>\n",
       "<style scoped>\n",
       "    .dataframe tbody tr th:only-of-type {\n",
       "        vertical-align: middle;\n",
       "    }\n",
       "\n",
       "    .dataframe tbody tr th {\n",
       "        vertical-align: top;\n",
       "    }\n",
       "\n",
       "    .dataframe thead th {\n",
       "        text-align: right;\n",
       "    }\n",
       "</style>\n",
       "<table border=\"1\" class=\"dataframe\">\n",
       "  <thead>\n",
       "    <tr style=\"text-align: right;\">\n",
       "      <th></th>\n",
       "      <th>gender</th>\n",
       "      <th>SeniorCitizen</th>\n",
       "      <th>Partner</th>\n",
       "      <th>Dependents</th>\n",
       "      <th>tenure</th>\n",
       "      <th>PhoneService</th>\n",
       "      <th>MultipleLines</th>\n",
       "      <th>OnlineSecurity</th>\n",
       "      <th>OnlineBackup</th>\n",
       "      <th>DeviceProtection</th>\n",
       "      <th>...</th>\n",
       "      <th>MonthlyCharges</th>\n",
       "      <th>TotalCharges</th>\n",
       "      <th>Churn</th>\n",
       "      <th>InternetService_Fiber optic</th>\n",
       "      <th>InternetService_No</th>\n",
       "      <th>Contract_One year</th>\n",
       "      <th>Contract_Two year</th>\n",
       "      <th>PaymentMethod_Credit card (automatic)</th>\n",
       "      <th>PaymentMethod_Electronic check</th>\n",
       "      <th>PaymentMethod_Mailed check</th>\n",
       "    </tr>\n",
       "  </thead>\n",
       "  <tbody>\n",
       "    <tr>\n",
       "      <th>6681</th>\n",
       "      <td>1</td>\n",
       "      <td>1</td>\n",
       "      <td>0</td>\n",
       "      <td>0</td>\n",
       "      <td>0.028169</td>\n",
       "      <td>1</td>\n",
       "      <td>1</td>\n",
       "      <td>0</td>\n",
       "      <td>0</td>\n",
       "      <td>1</td>\n",
       "      <td>...</td>\n",
       "      <td>0.724378</td>\n",
       "      <td>0.266646</td>\n",
       "      <td>1</td>\n",
       "      <td>1</td>\n",
       "      <td>0</td>\n",
       "      <td>0</td>\n",
       "      <td>0</td>\n",
       "      <td>0</td>\n",
       "      <td>1</td>\n",
       "      <td>0</td>\n",
       "    </tr>\n",
       "    <tr>\n",
       "      <th>5783</th>\n",
       "      <td>0</td>\n",
       "      <td>1</td>\n",
       "      <td>0</td>\n",
       "      <td>0</td>\n",
       "      <td>0.000000</td>\n",
       "      <td>1</td>\n",
       "      <td>0</td>\n",
       "      <td>0</td>\n",
       "      <td>0</td>\n",
       "      <td>0</td>\n",
       "      <td>...</td>\n",
       "      <td>0.706965</td>\n",
       "      <td>0.129133</td>\n",
       "      <td>1</td>\n",
       "      <td>1</td>\n",
       "      <td>0</td>\n",
       "      <td>0</td>\n",
       "      <td>0</td>\n",
       "      <td>0</td>\n",
       "      <td>1</td>\n",
       "      <td>0</td>\n",
       "    </tr>\n",
       "    <tr>\n",
       "      <th>3971</th>\n",
       "      <td>0</td>\n",
       "      <td>0</td>\n",
       "      <td>0</td>\n",
       "      <td>0</td>\n",
       "      <td>0.338028</td>\n",
       "      <td>1</td>\n",
       "      <td>1</td>\n",
       "      <td>0</td>\n",
       "      <td>0</td>\n",
       "      <td>0</td>\n",
       "      <td>...</td>\n",
       "      <td>0.064677</td>\n",
       "      <td>0.399062</td>\n",
       "      <td>1</td>\n",
       "      <td>0</td>\n",
       "      <td>1</td>\n",
       "      <td>0</td>\n",
       "      <td>1</td>\n",
       "      <td>1</td>\n",
       "      <td>0</td>\n",
       "      <td>0</td>\n",
       "    </tr>\n",
       "    <tr>\n",
       "      <th>3439</th>\n",
       "      <td>1</td>\n",
       "      <td>1</td>\n",
       "      <td>1</td>\n",
       "      <td>0</td>\n",
       "      <td>1.000000</td>\n",
       "      <td>1</td>\n",
       "      <td>1</td>\n",
       "      <td>0</td>\n",
       "      <td>1</td>\n",
       "      <td>1</td>\n",
       "      <td>...</td>\n",
       "      <td>0.854726</td>\n",
       "      <td>0.961393</td>\n",
       "      <td>1</td>\n",
       "      <td>1</td>\n",
       "      <td>0</td>\n",
       "      <td>0</td>\n",
       "      <td>1</td>\n",
       "      <td>0</td>\n",
       "      <td>0</td>\n",
       "      <td>0</td>\n",
       "    </tr>\n",
       "    <tr>\n",
       "      <th>6155</th>\n",
       "      <td>1</td>\n",
       "      <td>0</td>\n",
       "      <td>1</td>\n",
       "      <td>0</td>\n",
       "      <td>0.056338</td>\n",
       "      <td>1</td>\n",
       "      <td>0</td>\n",
       "      <td>0</td>\n",
       "      <td>0</td>\n",
       "      <td>0</td>\n",
       "      <td>...</td>\n",
       "      <td>0.010945</td>\n",
       "      <td>0.165307</td>\n",
       "      <td>1</td>\n",
       "      <td>0</td>\n",
       "      <td>1</td>\n",
       "      <td>0</td>\n",
       "      <td>0</td>\n",
       "      <td>0</td>\n",
       "      <td>0</td>\n",
       "      <td>1</td>\n",
       "    </tr>\n",
       "  </tbody>\n",
       "</table>\n",
       "<p>5 rows × 24 columns</p>\n",
       "</div>"
      ],
      "text/plain": [
       "      gender  SeniorCitizen  Partner  Dependents    tenure  PhoneService  \\\n",
       "6681       1              1        0           0  0.028169             1   \n",
       "5783       0              1        0           0  0.000000             1   \n",
       "3971       0              0        0           0  0.338028             1   \n",
       "3439       1              1        1           0  1.000000             1   \n",
       "6155       1              0        1           0  0.056338             1   \n",
       "\n",
       "      MultipleLines  OnlineSecurity  OnlineBackup  DeviceProtection  ...  \\\n",
       "6681              1               0             0                 1  ...   \n",
       "5783              0               0             0                 0  ...   \n",
       "3971              1               0             0                 0  ...   \n",
       "3439              1               0             1                 1  ...   \n",
       "6155              0               0             0                 0  ...   \n",
       "\n",
       "      MonthlyCharges  TotalCharges  Churn  InternetService_Fiber optic  \\\n",
       "6681        0.724378      0.266646      1                            1   \n",
       "5783        0.706965      0.129133      1                            1   \n",
       "3971        0.064677      0.399062      1                            0   \n",
       "3439        0.854726      0.961393      1                            1   \n",
       "6155        0.010945      0.165307      1                            0   \n",
       "\n",
       "      InternetService_No  Contract_One year  Contract_Two year  \\\n",
       "6681                   0                  0                  0   \n",
       "5783                   0                  0                  0   \n",
       "3971                   1                  0                  1   \n",
       "3439                   0                  0                  1   \n",
       "6155                   1                  0                  0   \n",
       "\n",
       "      PaymentMethod_Credit card (automatic)  PaymentMethod_Electronic check  \\\n",
       "6681                                      0                               1   \n",
       "5783                                      0                               1   \n",
       "3971                                      1                               0   \n",
       "3439                                      0                               0   \n",
       "6155                                      0                               0   \n",
       "\n",
       "      PaymentMethod_Mailed check  \n",
       "6681                           0  \n",
       "5783                           0  \n",
       "3971                           0  \n",
       "3439                           0  \n",
       "6155                           1  \n",
       "\n",
       "[5 rows x 24 columns]"
      ]
     },
     "execution_count": 107,
     "metadata": {},
     "output_type": "execute_result"
    }
   ],
   "source": [
    "df3_churn_ones.sample(5)"
   ]
  },
  {
   "cell_type": "code",
   "execution_count": 108,
   "metadata": {
    "ExecuteTime": {
     "end_time": "2020-10-18T11:42:39.578183Z",
     "start_time": "2020-10-18T11:42:39.559234Z"
    }
   },
   "outputs": [
    {
     "data": {
      "text/plain": [
       "((1869, 24), (5163, 24))"
      ]
     },
     "execution_count": 108,
     "metadata": {},
     "output_type": "execute_result"
    }
   ],
   "source": [
    "df3_churn_ones.shape, df3_churn_zero.shape"
   ]
  },
  {
   "cell_type": "code",
   "execution_count": 111,
   "metadata": {
    "ExecuteTime": {
     "end_time": "2020-10-18T11:44:19.675614Z",
     "start_time": "2020-10-18T11:44:19.658956Z"
    }
   },
   "outputs": [],
   "source": [
    "df3_ones_over_sample=df3_churn_ones.sample(5163,replace=True) # replace=True allows duplicating the samples randomly."
   ]
  },
  {
   "cell_type": "code",
   "execution_count": 112,
   "metadata": {
    "ExecuteTime": {
     "end_time": "2020-10-18T11:44:34.405866Z",
     "start_time": "2020-10-18T11:44:34.398885Z"
    }
   },
   "outputs": [
    {
     "data": {
      "text/plain": [
       "(5163, 24)"
      ]
     },
     "execution_count": 112,
     "metadata": {},
     "output_type": "execute_result"
    }
   ],
   "source": [
    "df3_ones_over_sample.shape"
   ]
  },
  {
   "cell_type": "code",
   "execution_count": 113,
   "metadata": {
    "ExecuteTime": {
     "end_time": "2020-10-18T11:46:32.561948Z",
     "start_time": "2020-10-18T11:46:32.548029Z"
    }
   },
   "outputs": [],
   "source": [
    "# Lets concate the two dataframes\n",
    "df3_over_sample=pd.concat([df3_churn_zero,df3_ones_over_sample],axis=0)"
   ]
  },
  {
   "cell_type": "code",
   "execution_count": 114,
   "metadata": {
    "ExecuteTime": {
     "end_time": "2020-10-18T11:46:39.592549Z",
     "start_time": "2020-10-18T11:46:39.581580Z"
    }
   },
   "outputs": [
    {
     "data": {
      "text/plain": [
       "(10326, 24)"
      ]
     },
     "execution_count": 114,
     "metadata": {},
     "output_type": "execute_result"
    }
   ],
   "source": [
    "df3_over_sample.shape"
   ]
  },
  {
   "cell_type": "code",
   "execution_count": 118,
   "metadata": {
    "ExecuteTime": {
     "end_time": "2020-10-18T11:47:25.936980Z",
     "start_time": "2020-10-18T11:47:25.929998Z"
    }
   },
   "outputs": [
    {
     "data": {
      "text/plain": [
       "1    5163\n",
       "0    5163\n",
       "Name: Churn, dtype: int64"
      ]
     },
     "execution_count": 118,
     "metadata": {},
     "output_type": "execute_result"
    }
   ],
   "source": [
    "df3_over_sample.Churn.value_counts()"
   ]
  },
  {
   "cell_type": "code",
   "execution_count": 119,
   "metadata": {
    "ExecuteTime": {
     "end_time": "2020-10-18T11:48:42.164456Z",
     "start_time": "2020-10-18T11:47:38.666500Z"
    }
   },
   "outputs": [
    {
     "name": "stdout",
     "output_type": "stream",
     "text": [
      "WARNING:tensorflow:Falling back from v2 loop because of error: Failed to find data adapter that can handle input: <class 'pandas.core.frame.DataFrame'>, <class 'NoneType'>\n",
      "Train on 8260 samples\n",
      "Epoch 1/100\n",
      "8260/8260 [==============================] - 1s 89us/sample - loss: 0.4438 - accuracy: 0.7952\n",
      "Epoch 2/100\n",
      "8260/8260 [==============================] - 1s 78us/sample - loss: 0.4341 - accuracy: 0.7961\n",
      "Epoch 3/100\n",
      "8260/8260 [==============================] - 1s 80us/sample - loss: 0.4288 - accuracy: 0.8015\n",
      "Epoch 4/100\n",
      "8260/8260 [==============================] - 1s 85us/sample - loss: 0.4245 - accuracy: 0.8091\n",
      "Epoch 5/100\n",
      "8260/8260 [==============================] - 1s 77us/sample - loss: 0.4217 - accuracy: 0.8075\n",
      "Epoch 6/100\n",
      "8260/8260 [==============================] - 1s 79us/sample - loss: 0.4190 - accuracy: 0.8099\n",
      "Epoch 7/100\n",
      "8260/8260 [==============================] - 1s 71us/sample - loss: 0.4160 - accuracy: 0.8104\n",
      "Epoch 8/100\n",
      "8260/8260 [==============================] - 1s 70us/sample - loss: 0.4175 - accuracy: 0.8102\n",
      "Epoch 9/100\n",
      "8260/8260 [==============================] - 1s 71us/sample - loss: 0.4146 - accuracy: 0.8128\n",
      "Epoch 10/100\n",
      "8260/8260 [==============================] - 1s 70us/sample - loss: 0.4134 - accuracy: 0.8138\n",
      "Epoch 11/100\n",
      "8260/8260 [==============================] - 1s 73us/sample - loss: 0.4130 - accuracy: 0.8128\n",
      "Epoch 12/100\n",
      "8260/8260 [==============================] - 1s 72us/sample - loss: 0.4125 - accuracy: 0.8150\n",
      "Epoch 13/100\n",
      "8260/8260 [==============================] - 1s 73us/sample - loss: 0.4104 - accuracy: 0.8150\n",
      "Epoch 14/100\n",
      "8260/8260 [==============================] - 1s 74us/sample - loss: 0.4103 - accuracy: 0.8123\n",
      "Epoch 15/100\n",
      "8260/8260 [==============================] - 1s 71us/sample - loss: 0.4086 - accuracy: 0.8145\n",
      "Epoch 16/100\n",
      "8260/8260 [==============================] - 1s 72us/sample - loss: 0.4100 - accuracy: 0.8162\n",
      "Epoch 17/100\n",
      "8260/8260 [==============================] - 1s 72us/sample - loss: 0.4085 - accuracy: 0.8172\n",
      "Epoch 18/100\n",
      "8260/8260 [==============================] - 1s 72us/sample - loss: 0.4083 - accuracy: 0.8166\n",
      "Epoch 19/100\n",
      "8260/8260 [==============================] - 1s 73us/sample - loss: 0.4078 - accuracy: 0.8190\n",
      "Epoch 20/100\n",
      "8260/8260 [==============================] - 1s 78us/sample - loss: 0.4063 - accuracy: 0.8191\n",
      "Epoch 21/100\n",
      "8260/8260 [==============================] - 1s 73us/sample - loss: 0.4052 - accuracy: 0.8190\n",
      "Epoch 22/100\n",
      "8260/8260 [==============================] - 1s 71us/sample - loss: 0.4045 - accuracy: 0.8179\n",
      "Epoch 23/100\n",
      "8260/8260 [==============================] - 1s 71us/sample - loss: 0.4047 - accuracy: 0.8182\n",
      "Epoch 24/100\n",
      "8260/8260 [==============================] - 1s 72us/sample - loss: 0.4041 - accuracy: 0.8213\n",
      "Epoch 25/100\n",
      "8260/8260 [==============================] - 1s 73us/sample - loss: 0.4050 - accuracy: 0.8180\n",
      "Epoch 26/100\n",
      "8260/8260 [==============================] - 1s 72us/sample - loss: 0.4035 - accuracy: 0.8174\n",
      "Epoch 27/100\n",
      "8260/8260 [==============================] - 1s 73us/sample - loss: 0.4019 - accuracy: 0.8214\n",
      "Epoch 28/100\n",
      "8260/8260 [==============================] - 1s 72us/sample - loss: 0.4013 - accuracy: 0.8180\n",
      "Epoch 29/100\n",
      "8260/8260 [==============================] - 1s 73us/sample - loss: 0.4016 - accuracy: 0.8208\n",
      "Epoch 30/100\n",
      "8260/8260 [==============================] - 1s 72us/sample - loss: 0.3999 - accuracy: 0.8196\n",
      "Epoch 31/100\n",
      "8260/8260 [==============================] - 1s 74us/sample - loss: 0.4004 - accuracy: 0.8206\n",
      "Epoch 32/100\n",
      "8260/8260 [==============================] - 1s 79us/sample - loss: 0.3997 - accuracy: 0.8194\n",
      "Epoch 33/100\n",
      "8260/8260 [==============================] - 1s 72us/sample - loss: 0.3990 - accuracy: 0.8199\n",
      "Epoch 34/100\n",
      "8260/8260 [==============================] - 1s 74us/sample - loss: 0.3997 - accuracy: 0.8178\n",
      "Epoch 35/100\n",
      "8260/8260 [==============================] - 1s 75us/sample - loss: 0.3988 - accuracy: 0.8215\n",
      "Epoch 36/100\n",
      "8260/8260 [==============================] - 1s 75us/sample - loss: 0.3970 - accuracy: 0.8231\n",
      "Epoch 37/100\n",
      "8260/8260 [==============================] - 1s 73us/sample - loss: 0.3968 - accuracy: 0.8226\n",
      "Epoch 38/100\n",
      "8260/8260 [==============================] - 1s 74us/sample - loss: 0.3967 - accuracy: 0.8219\n",
      "Epoch 39/100\n",
      "8260/8260 [==============================] - 1s 73us/sample - loss: 0.3979 - accuracy: 0.8219\n",
      "Epoch 40/100\n",
      "8260/8260 [==============================] - 1s 73us/sample - loss: 0.3972 - accuracy: 0.8213\n",
      "Epoch 41/100\n",
      "8260/8260 [==============================] - 1s 73us/sample - loss: 0.3961 - accuracy: 0.8220\n",
      "Epoch 42/100\n",
      "8260/8260 [==============================] - 1s 75us/sample - loss: 0.3948 - accuracy: 0.8220\n",
      "Epoch 43/100\n",
      "8260/8260 [==============================] - 1s 71us/sample - loss: 0.3951 - accuracy: 0.8230\n",
      "Epoch 44/100\n",
      "8260/8260 [==============================] - 1s 73us/sample - loss: 0.3962 - accuracy: 0.8218\n",
      "Epoch 45/100\n",
      "8260/8260 [==============================] - 1s 75us/sample - loss: 0.3946 - accuracy: 0.8241\n",
      "Epoch 46/100\n",
      "8260/8260 [==============================] - 1s 73us/sample - loss: 0.3932 - accuracy: 0.8214\n",
      "Epoch 47/100\n",
      "8260/8260 [==============================] - 1s 74us/sample - loss: 0.3942 - accuracy: 0.8241\n",
      "Epoch 48/100\n",
      "8260/8260 [==============================] - 1s 74us/sample - loss: 0.3932 - accuracy: 0.8249\n",
      "Epoch 49/100\n",
      "8260/8260 [==============================] - 1s 73us/sample - loss: 0.3937 - accuracy: 0.8245\n",
      "Epoch 50/100\n",
      "8260/8260 [==============================] - 1s 73us/sample - loss: 0.3930 - accuracy: 0.8237\n",
      "Epoch 51/100\n",
      "8260/8260 [==============================] - 1s 74us/sample - loss: 0.3924 - accuracy: 0.8252\n",
      "Epoch 52/100\n",
      "8260/8260 [==============================] - 1s 74us/sample - loss: 0.3932 - accuracy: 0.8283\n",
      "Epoch 53/100\n",
      "8260/8260 [==============================] - 1s 72us/sample - loss: 0.3919 - accuracy: 0.8262\n",
      "Epoch 54/100\n",
      "8260/8260 [==============================] - 1s 91us/sample - loss: 0.3917 - accuracy: 0.8277\n",
      "Epoch 55/100\n",
      "8260/8260 [==============================] - 1s 88us/sample - loss: 0.3909 - accuracy: 0.8257\n",
      "Epoch 56/100\n",
      "8260/8260 [==============================] - 1s 84us/sample - loss: 0.3906 - accuracy: 0.8246\n",
      "Epoch 57/100\n",
      "8260/8260 [==============================] - 1s 84us/sample - loss: 0.3899 - accuracy: 0.8271\n",
      "Epoch 58/100\n",
      "8260/8260 [==============================] - 1s 85us/sample - loss: 0.3903 - accuracy: 0.8282\n",
      "Epoch 59/100\n",
      "8260/8260 [==============================] - 1s 81us/sample - loss: 0.3902 - accuracy: 0.8255\n",
      "Epoch 60/100\n",
      "8260/8260 [==============================] - 1s 73us/sample - loss: 0.3893 - accuracy: 0.8253\n",
      "Epoch 61/100\n",
      "8260/8260 [==============================] - 1s 76us/sample - loss: 0.3895 - accuracy: 0.8228\n",
      "Epoch 62/100\n",
      "8260/8260 [==============================] - 1s 86us/sample - loss: 0.3904 - accuracy: 0.8232\n",
      "Epoch 63/100\n",
      "8260/8260 [==============================] - 1s 85us/sample - loss: 0.3893 - accuracy: 0.8277\n",
      "Epoch 64/100\n",
      "8260/8260 [==============================] - 1s 85us/sample - loss: 0.3894 - accuracy: 0.8260\n",
      "Epoch 65/100\n",
      "8260/8260 [==============================] - 1s 78us/sample - loss: 0.3888 - accuracy: 0.8287\n",
      "Epoch 66/100\n",
      "8260/8260 [==============================] - 1s 73us/sample - loss: 0.3883 - accuracy: 0.8277\n",
      "Epoch 67/100\n",
      "8260/8260 [==============================] - 1s 76us/sample - loss: 0.3873 - accuracy: 0.8271\n",
      "Epoch 68/100\n",
      "8260/8260 [==============================] - 1s 87us/sample - loss: 0.3890 - accuracy: 0.8264\n",
      "Epoch 69/100\n",
      "8260/8260 [==============================] - 1s 82us/sample - loss: 0.3882 - accuracy: 0.8297\n",
      "Epoch 70/100\n",
      "8260/8260 [==============================] - 1s 85us/sample - loss: 0.3877 - accuracy: 0.8293\n",
      "Epoch 71/100\n",
      "8260/8260 [==============================] - 1s 74us/sample - loss: 0.3861 - accuracy: 0.8278\n",
      "Epoch 72/100\n",
      "8260/8260 [==============================] - 1s 76us/sample - loss: 0.3877 - accuracy: 0.8277\n",
      "Epoch 73/100\n",
      "8260/8260 [==============================] - 1s 91us/sample - loss: 0.3867 - accuracy: 0.8294\n",
      "Epoch 74/100\n",
      "8260/8260 [==============================] - 1s 85us/sample - loss: 0.3865 - accuracy: 0.8292\n",
      "Epoch 75/100\n"
     ]
    },
    {
     "name": "stdout",
     "output_type": "stream",
     "text": [
      "8260/8260 [==============================] - 1s 83us/sample - loss: 0.3863 - accuracy: 0.8283\n",
      "Epoch 76/100\n",
      "8260/8260 [==============================] - 1s 80us/sample - loss: 0.3870 - accuracy: 0.8292\n",
      "Epoch 77/100\n",
      "8260/8260 [==============================] - 1s 81us/sample - loss: 0.3855 - accuracy: 0.8298\n",
      "Epoch 78/100\n",
      "8260/8260 [==============================] - 1s 84us/sample - loss: 0.3853 - accuracy: 0.8293\n",
      "Epoch 79/100\n",
      "8260/8260 [==============================] - 1s 81us/sample - loss: 0.3847 - accuracy: 0.8286\n",
      "Epoch 80/100\n",
      "8260/8260 [==============================] - 1s 80us/sample - loss: 0.3839 - accuracy: 0.8320\n",
      "Epoch 81/100\n",
      "8260/8260 [==============================] - 1s 74us/sample - loss: 0.3853 - accuracy: 0.8285\n",
      "Epoch 82/100\n",
      "8260/8260 [==============================] - 1s 73us/sample - loss: 0.3840 - accuracy: 0.8269\n",
      "Epoch 83/100\n",
      "8260/8260 [==============================] - 1s 73us/sample - loss: 0.3846 - accuracy: 0.8291\n",
      "Epoch 84/100\n",
      "8260/8260 [==============================] - 1s 74us/sample - loss: 0.3841 - accuracy: 0.8287\n",
      "Epoch 85/100\n",
      "8260/8260 [==============================] - 1s 72us/sample - loss: 0.3839 - accuracy: 0.8292\n",
      "Epoch 86/100\n",
      "8260/8260 [==============================] - 1s 73us/sample - loss: 0.3832 - accuracy: 0.8298\n",
      "Epoch 87/100\n",
      "8260/8260 [==============================] - 1s 73us/sample - loss: 0.3839 - accuracy: 0.8272\n",
      "Epoch 88/100\n",
      "8260/8260 [==============================] - 1s 73us/sample - loss: 0.3817 - accuracy: 0.8310\n",
      "Epoch 89/100\n",
      "8260/8260 [==============================] - 1s 73us/sample - loss: 0.3834 - accuracy: 0.8292\n",
      "Epoch 90/100\n",
      "8260/8260 [==============================] - 1s 73us/sample - loss: 0.3834 - accuracy: 0.8285\n",
      "Epoch 91/100\n",
      "8260/8260 [==============================] - 1s 73us/sample - loss: 0.3827 - accuracy: 0.8287\n",
      "Epoch 92/100\n",
      "8260/8260 [==============================] - 1s 73us/sample - loss: 0.3838 - accuracy: 0.8285\n",
      "Epoch 93/100\n",
      "8260/8260 [==============================] - 1s 73us/sample - loss: 0.3819 - accuracy: 0.8314\n",
      "Epoch 94/100\n",
      "8260/8260 [==============================] - 1s 74us/sample - loss: 0.3807 - accuracy: 0.8311\n",
      "Epoch 95/100\n",
      "8260/8260 [==============================] - 1s 73us/sample - loss: 0.3807 - accuracy: 0.8300\n",
      "Epoch 96/100\n",
      "8260/8260 [==============================] - 1s 78us/sample - loss: 0.3823 - accuracy: 0.8287\n",
      "Epoch 97/100\n",
      "8260/8260 [==============================] - 1s 74us/sample - loss: 0.3815 - accuracy: 0.8328\n",
      "Epoch 98/100\n",
      "8260/8260 [==============================] - 1s 73us/sample - loss: 0.3800 - accuracy: 0.8322\n",
      "Epoch 99/100\n",
      "8260/8260 [==============================] - 1s 72us/sample - loss: 0.3802 - accuracy: 0.8326\n",
      "Epoch 100/100\n",
      "8260/8260 [==============================] - 1s 75us/sample - loss: 0.3802 - accuracy: 0.8338\n",
      "WARNING:tensorflow:Falling back from v2 loop because of error: Failed to find data adapter that can handle input: <class 'pandas.core.frame.DataFrame'>, <class 'NoneType'>\n",
      "              precision    recall  f1-score   support\n",
      "\n",
      "           0       0.82      0.74      0.78      1033\n",
      "           1       0.76      0.84      0.80      1033\n",
      "\n",
      "    accuracy                           0.79      2066\n",
      "   macro avg       0.79      0.79      0.79      2066\n",
      "weighted avg       0.79      0.79      0.79      2066\n",
      "\n"
     ]
    }
   ],
   "source": [
    "ANN(df3_over_sample)"
   ]
  },
  {
   "cell_type": "code",
   "execution_count": 120,
   "metadata": {
    "ExecuteTime": {
     "end_time": "2020-10-18T11:50:04.603956Z",
     "start_time": "2020-10-18T11:50:04.600938Z"
    }
   },
   "outputs": [],
   "source": [
    "# You can see that we have increased our f1-score and other parameters for the class with churn=1. "
   ]
  },
  {
   "cell_type": "markdown",
   "metadata": {},
   "source": [
    "# SMOTE"
   ]
  },
  {
   "cell_type": "code",
   "execution_count": 121,
   "metadata": {
    "ExecuteTime": {
     "end_time": "2020-10-18T11:56:53.791067Z",
     "start_time": "2020-10-18T11:56:53.784085Z"
    }
   },
   "outputs": [],
   "source": [
    "# We use imbalanced-learn module to use smote"
   ]
  },
  {
   "cell_type": "code",
   "execution_count": 122,
   "metadata": {
    "ExecuteTime": {
     "end_time": "2020-10-18T11:57:03.186082Z",
     "start_time": "2020-10-18T11:57:03.169128Z"
    }
   },
   "outputs": [
    {
     "data": {
      "text/plain": [
       "(7032, 24)"
      ]
     },
     "execution_count": 122,
     "metadata": {},
     "output_type": "execute_result"
    }
   ],
   "source": [
    "df3.shape"
   ]
  },
  {
   "cell_type": "code",
   "execution_count": 125,
   "metadata": {
    "ExecuteTime": {
     "end_time": "2020-10-18T12:00:55.420473Z",
     "start_time": "2020-10-18T12:00:55.408889Z"
    }
   },
   "outputs": [],
   "source": [
    "X=df3.drop(columns='Churn')\n",
    "y=df3.Churn"
   ]
  },
  {
   "cell_type": "code",
   "execution_count": 124,
   "metadata": {
    "ExecuteTime": {
     "end_time": "2020-10-18T11:58:53.138530Z",
     "start_time": "2020-10-18T11:58:53.121575Z"
    }
   },
   "outputs": [],
   "source": [
    "# pip install imblearn\n",
    "from imblearn.over_sampling import SMOTE\n",
    "smote=SMOTE(sampling_strategy='minority')"
   ]
  },
  {
   "cell_type": "code",
   "execution_count": 126,
   "metadata": {
    "ExecuteTime": {
     "end_time": "2020-10-18T12:02:07.807593Z",
     "start_time": "2020-10-18T12:02:07.672951Z"
    }
   },
   "outputs": [],
   "source": [
    "X_smote,y_smote=smote.fit_sample(X,y) # fit_sample is used to fit and then sample the input according to the sampling strategy"
   ]
  },
  {
   "cell_type": "code",
   "execution_count": 127,
   "metadata": {
    "ExecuteTime": {
     "end_time": "2020-10-18T12:02:15.279924Z",
     "start_time": "2020-10-18T12:02:15.261972Z"
    }
   },
   "outputs": [
    {
     "data": {
      "text/plain": [
       "1    5163\n",
       "0    5163\n",
       "Name: Churn, dtype: int64"
      ]
     },
     "execution_count": 127,
     "metadata": {},
     "output_type": "execute_result"
    }
   ],
   "source": [
    "y_smote.value_counts()"
   ]
  },
  {
   "cell_type": "code",
   "execution_count": 128,
   "metadata": {
    "ExecuteTime": {
     "end_time": "2020-10-18T12:02:40.453383Z",
     "start_time": "2020-10-18T12:02:40.447402Z"
    }
   },
   "outputs": [],
   "source": [
    "# You can see that we have now synthetic samples in our dataframe"
   ]
  },
  {
   "cell_type": "code",
   "execution_count": 129,
   "metadata": {
    "ExecuteTime": {
     "end_time": "2020-10-18T12:04:17.733774Z",
     "start_time": "2020-10-18T12:04:17.715796Z"
    }
   },
   "outputs": [],
   "source": [
    "X_train,X_test,y_train,y_test=train_test_split(X_smote,y_smote,test_size=0.2,random_state=1,stratify=y_smote)"
   ]
  },
  {
   "cell_type": "code",
   "execution_count": 130,
   "metadata": {
    "ExecuteTime": {
     "end_time": "2020-10-18T12:04:28.728525Z",
     "start_time": "2020-10-18T12:04:28.710571Z"
    }
   },
   "outputs": [
    {
     "data": {
      "text/plain": [
       "1    4130\n",
       "0    4130\n",
       "Name: Churn, dtype: int64"
      ]
     },
     "execution_count": 130,
     "metadata": {},
     "output_type": "execute_result"
    }
   ],
   "source": [
    "y_train.value_counts()"
   ]
  },
  {
   "cell_type": "code",
   "execution_count": 131,
   "metadata": {
    "ExecuteTime": {
     "end_time": "2020-10-18T12:04:35.124805Z",
     "start_time": "2020-10-18T12:04:35.104843Z"
    }
   },
   "outputs": [
    {
     "data": {
      "text/plain": [
       "1    1033\n",
       "0    1033\n",
       "Name: Churn, dtype: int64"
      ]
     },
     "execution_count": 131,
     "metadata": {},
     "output_type": "execute_result"
    }
   ],
   "source": [
    "y_test.value_counts()"
   ]
  },
  {
   "cell_type": "code",
   "execution_count": 132,
   "metadata": {
    "ExecuteTime": {
     "end_time": "2020-10-18T12:05:12.702432Z",
     "start_time": "2020-10-18T12:05:12.698442Z"
    }
   },
   "outputs": [
    {
     "data": {
      "text/plain": [
       "((8260, 23), (8260,))"
      ]
     },
     "execution_count": 132,
     "metadata": {},
     "output_type": "execute_result"
    }
   ],
   "source": [
    "X_train.shape,y_train.shape\n",
    "# Now we train this model"
   ]
  },
  {
   "cell_type": "code",
   "execution_count": 134,
   "metadata": {
    "ExecuteTime": {
     "end_time": "2020-10-18T12:09:42.931349Z",
     "start_time": "2020-10-18T12:08:40.413935Z"
    }
   },
   "outputs": [
    {
     "name": "stdout",
     "output_type": "stream",
     "text": [
      "WARNING:tensorflow:Falling back from v2 loop because of error: Failed to find data adapter that can handle input: <class 'pandas.core.frame.DataFrame'>, <class 'NoneType'>\n",
      "Train on 8260 samples\n",
      "Epoch 1/100\n",
      "8260/8260 [==============================] - 1s 75us/sample - loss: 0.5378 - accuracy: 0.7351\n",
      "Epoch 2/100\n",
      "8260/8260 [==============================] - 1s 72us/sample - loss: 0.4692 - accuracy: 0.7738\n",
      "Epoch 3/100\n",
      "8260/8260 [==============================] - 1s 72us/sample - loss: 0.4585 - accuracy: 0.7798\n",
      "Epoch 4/100\n",
      "8260/8260 [==============================] - 1s 69us/sample - loss: 0.4542 - accuracy: 0.7820\n",
      "Epoch 5/100\n",
      "8260/8260 [==============================] - 1s 70us/sample - loss: 0.4496 - accuracy: 0.7852\n",
      "Epoch 6/100\n",
      "8260/8260 [==============================] - 1s 70us/sample - loss: 0.4469 - accuracy: 0.7885\n",
      "Epoch 7/100\n",
      "8260/8260 [==============================] - 1s 69us/sample - loss: 0.4445 - accuracy: 0.7930\n",
      "Epoch 8/100\n",
      "8260/8260 [==============================] - 1s 75us/sample - loss: 0.4414 - accuracy: 0.7935\n",
      "Epoch 9/100\n",
      "8260/8260 [==============================] - 1s 72us/sample - loss: 0.4398 - accuracy: 0.7955\n",
      "Epoch 10/100\n",
      "8260/8260 [==============================] - 1s 72us/sample - loss: 0.4380 - accuracy: 0.7949\n",
      "Epoch 11/100\n",
      "8260/8260 [==============================] - 1s 71us/sample - loss: 0.4360 - accuracy: 0.7976\n",
      "Epoch 12/100\n",
      "8260/8260 [==============================] - 1s 71us/sample - loss: 0.4342 - accuracy: 0.8006\n",
      "Epoch 13/100\n",
      "8260/8260 [==============================] - 1s 71us/sample - loss: 0.4321 - accuracy: 0.8040\n",
      "Epoch 14/100\n",
      "8260/8260 [==============================] - 1s 72us/sample - loss: 0.4301 - accuracy: 0.8018\n",
      "Epoch 15/100\n",
      "8260/8260 [==============================] - 1s 72us/sample - loss: 0.4301 - accuracy: 0.8041\n",
      "Epoch 16/100\n",
      "8260/8260 [==============================] - 1s 72us/sample - loss: 0.4278 - accuracy: 0.8041\n",
      "Epoch 17/100\n",
      "8260/8260 [==============================] - 1s 73us/sample - loss: 0.4270 - accuracy: 0.8038\n",
      "Epoch 18/100\n",
      "8260/8260 [==============================] - 1s 72us/sample - loss: 0.4250 - accuracy: 0.8040\n",
      "Epoch 19/100\n",
      "8260/8260 [==============================] - 1s 73us/sample - loss: 0.4231 - accuracy: 0.8056\n",
      "Epoch 20/100\n",
      "8260/8260 [==============================] - 1s 74us/sample - loss: 0.4225 - accuracy: 0.8091\n",
      "Epoch 21/100\n",
      "8260/8260 [==============================] - 1s 75us/sample - loss: 0.4220 - accuracy: 0.8075\n",
      "Epoch 22/100\n",
      "8260/8260 [==============================] - 1s 72us/sample - loss: 0.4197 - accuracy: 0.8070\n",
      "Epoch 23/100\n",
      "8260/8260 [==============================] - 1s 73us/sample - loss: 0.4172 - accuracy: 0.8092\n",
      "Epoch 24/100\n",
      "8260/8260 [==============================] - 1s 74us/sample - loss: 0.4165 - accuracy: 0.8122\n",
      "Epoch 25/100\n",
      "8260/8260 [==============================] - 1s 72us/sample - loss: 0.4155 - accuracy: 0.8098\n",
      "Epoch 26/100\n",
      "8260/8260 [==============================] - 1s 73us/sample - loss: 0.4140 - accuracy: 0.8133\n",
      "Epoch 27/100\n",
      "8260/8260 [==============================] - 1s 74us/sample - loss: 0.4135 - accuracy: 0.8146\n",
      "Epoch 28/100\n",
      "8260/8260 [==============================] - 1s 72us/sample - loss: 0.4132 - accuracy: 0.8148\n",
      "Epoch 29/100\n",
      "8260/8260 [==============================] - 1s 73us/sample - loss: 0.4115 - accuracy: 0.8171\n",
      "Epoch 30/100\n",
      "8260/8260 [==============================] - 1s 72us/sample - loss: 0.4104 - accuracy: 0.8173\n",
      "Epoch 31/100\n",
      "8260/8260 [==============================] - 1s 73us/sample - loss: 0.4089 - accuracy: 0.8195\n",
      "Epoch 32/100\n",
      "8260/8260 [==============================] - 1s 73us/sample - loss: 0.4089 - accuracy: 0.8171\n",
      "Epoch 33/100\n",
      "8260/8260 [==============================] - 1s 73us/sample - loss: 0.4067 - accuracy: 0.8203\n",
      "Epoch 34/100\n",
      "8260/8260 [==============================] - 1s 74us/sample - loss: 0.4046 - accuracy: 0.8207\n",
      "Epoch 35/100\n",
      "8260/8260 [==============================] - 1s 72us/sample - loss: 0.4042 - accuracy: 0.8203\n",
      "Epoch 36/100\n",
      "8260/8260 [==============================] - 1s 73us/sample - loss: 0.4038 - accuracy: 0.8205\n",
      "Epoch 37/100\n",
      "8260/8260 [==============================] - 1s 74us/sample - loss: 0.4031 - accuracy: 0.8218\n",
      "Epoch 38/100\n",
      "8260/8260 [==============================] - 1s 72us/sample - loss: 0.4018 - accuracy: 0.8213\n",
      "Epoch 39/100\n",
      "8260/8260 [==============================] - 1s 74us/sample - loss: 0.4002 - accuracy: 0.8229s - loss: 0.3988 - accuracy: 0.82\n",
      "Epoch 40/100\n",
      "8260/8260 [==============================] - 1s 75us/sample - loss: 0.4005 - accuracy: 0.8231\n",
      "Epoch 41/100\n",
      "8260/8260 [==============================] - 1s 74us/sample - loss: 0.4000 - accuracy: 0.8222\n",
      "Epoch 42/100\n",
      "8260/8260 [==============================] - 1s 73us/sample - loss: 0.3986 - accuracy: 0.8211\n",
      "Epoch 43/100\n",
      "8260/8260 [==============================] - 1s 73us/sample - loss: 0.3981 - accuracy: 0.8232\n",
      "Epoch 44/100\n",
      "8260/8260 [==============================] - 1s 76us/sample - loss: 0.3969 - accuracy: 0.8254\n",
      "Epoch 45/100\n",
      "8260/8260 [==============================] - 1s 73us/sample - loss: 0.3968 - accuracy: 0.8220\n",
      "Epoch 46/100\n",
      "8260/8260 [==============================] - 1s 79us/sample - loss: 0.3957 - accuracy: 0.8257\n",
      "Epoch 47/100\n",
      "8260/8260 [==============================] - 1s 75us/sample - loss: 0.3929 - accuracy: 0.8281\n",
      "Epoch 48/100\n",
      "8260/8260 [==============================] - 1s 74us/sample - loss: 0.3936 - accuracy: 0.8245\n",
      "Epoch 49/100\n",
      "8260/8260 [==============================] - 1s 73us/sample - loss: 0.3916 - accuracy: 0.8278\n",
      "Epoch 50/100\n",
      "8260/8260 [==============================] - 1s 73us/sample - loss: 0.3929 - accuracy: 0.8253\n",
      "Epoch 51/100\n",
      "8260/8260 [==============================] - 1s 75us/sample - loss: 0.3915 - accuracy: 0.8275\n",
      "Epoch 52/100\n",
      "8260/8260 [==============================] - 1s 75us/sample - loss: 0.3911 - accuracy: 0.8285\n",
      "Epoch 53/100\n",
      "8260/8260 [==============================] - 1s 73us/sample - loss: 0.3888 - accuracy: 0.8306\n",
      "Epoch 54/100\n",
      "8260/8260 [==============================] - 1s 73us/sample - loss: 0.3897 - accuracy: 0.8282\n",
      "Epoch 55/100\n",
      "8260/8260 [==============================] - 1s 73us/sample - loss: 0.3891 - accuracy: 0.8275\n",
      "Epoch 56/100\n",
      "8260/8260 [==============================] - 1s 72us/sample - loss: 0.3874 - accuracy: 0.8304\n",
      "Epoch 57/100\n",
      "8260/8260 [==============================] - 1s 75us/sample - loss: 0.3859 - accuracy: 0.8282\n",
      "Epoch 58/100\n",
      "8260/8260 [==============================] - 1s 72us/sample - loss: 0.3865 - accuracy: 0.8270\n",
      "Epoch 59/100\n",
      "8260/8260 [==============================] - 1s 72us/sample - loss: 0.3860 - accuracy: 0.8283\n",
      "Epoch 60/100\n",
      "8260/8260 [==============================] - 1s 74us/sample - loss: 0.3850 - accuracy: 0.8311\n",
      "Epoch 61/100\n",
      "8260/8260 [==============================] - 1s 73us/sample - loss: 0.3845 - accuracy: 0.8293\n",
      "Epoch 62/100\n",
      "8260/8260 [==============================] - 1s 74us/sample - loss: 0.3831 - accuracy: 0.8303\n",
      "Epoch 63/100\n",
      "8260/8260 [==============================] - 1s 74us/sample - loss: 0.3832 - accuracy: 0.8341\n",
      "Epoch 64/100\n",
      "8260/8260 [==============================] - 1s 74us/sample - loss: 0.3828 - accuracy: 0.8321\n",
      "Epoch 65/100\n",
      "8260/8260 [==============================] - 1s 73us/sample - loss: 0.3830 - accuracy: 0.8323\n",
      "Epoch 66/100\n",
      "8260/8260 [==============================] - 1s 72us/sample - loss: 0.3829 - accuracy: 0.8300\n",
      "Epoch 67/100\n",
      "8260/8260 [==============================] - 1s 75us/sample - loss: 0.3801 - accuracy: 0.8331\n",
      "Epoch 68/100\n",
      "8260/8260 [==============================] - 1s 74us/sample - loss: 0.3789 - accuracy: 0.8328\n",
      "Epoch 69/100\n",
      "8260/8260 [==============================] - 1s 72us/sample - loss: 0.3805 - accuracy: 0.8311\n",
      "Epoch 70/100\n",
      "8260/8260 [==============================] - 1s 74us/sample - loss: 0.3780 - accuracy: 0.8361\n",
      "Epoch 71/100\n",
      "8260/8260 [==============================] - 1s 75us/sample - loss: 0.3775 - accuracy: 0.8343\n",
      "Epoch 72/100\n",
      "8260/8260 [==============================] - 1s 75us/sample - loss: 0.3778 - accuracy: 0.8324\n",
      "Epoch 73/100\n",
      "8260/8260 [==============================] - 1s 73us/sample - loss: 0.3777 - accuracy: 0.8332\n",
      "Epoch 74/100\n",
      "8260/8260 [==============================] - 1s 76us/sample - loss: 0.3782 - accuracy: 0.8318\n",
      "Epoch 75/100\n"
     ]
    },
    {
     "name": "stdout",
     "output_type": "stream",
     "text": [
      "8260/8260 [==============================] - 1s 72us/sample - loss: 0.3754 - accuracy: 0.8363\n",
      "Epoch 76/100\n",
      "8260/8260 [==============================] - 1s 70us/sample - loss: 0.3753 - accuracy: 0.8337\n",
      "Epoch 77/100\n",
      "8260/8260 [==============================] - 1s 71us/sample - loss: 0.3753 - accuracy: 0.8378\n",
      "Epoch 78/100\n",
      "8260/8260 [==============================] - 1s 72us/sample - loss: 0.3732 - accuracy: 0.8366\n",
      "Epoch 79/100\n",
      "8260/8260 [==============================] - 1s 70us/sample - loss: 0.3737 - accuracy: 0.8369\n",
      "Epoch 80/100\n",
      "8260/8260 [==============================] - 1s 70us/sample - loss: 0.3761 - accuracy: 0.8333\n",
      "Epoch 81/100\n",
      "8260/8260 [==============================] - 1s 71us/sample - loss: 0.3762 - accuracy: 0.8349\n",
      "Epoch 82/100\n",
      "8260/8260 [==============================] - 1s 71us/sample - loss: 0.3734 - accuracy: 0.8368\n",
      "Epoch 83/100\n",
      "8260/8260 [==============================] - 1s 75us/sample - loss: 0.3733 - accuracy: 0.8356\n",
      "Epoch 84/100\n",
      "8260/8260 [==============================] - 1s 92us/sample - loss: 0.3729 - accuracy: 0.8393\n",
      "Epoch 85/100\n",
      "8260/8260 [==============================] - 1s 85us/sample - loss: 0.3711 - accuracy: 0.8393\n",
      "Epoch 86/100\n",
      "8260/8260 [==============================] - 1s 82us/sample - loss: 0.3738 - accuracy: 0.8345\n",
      "Epoch 87/100\n",
      "8260/8260 [==============================] - 1s 83us/sample - loss: 0.3700 - accuracy: 0.8361\n",
      "Epoch 88/100\n",
      "8260/8260 [==============================] - 1s 83us/sample - loss: 0.3697 - accuracy: 0.8364\n",
      "Epoch 89/100\n",
      "8260/8260 [==============================] - 1s 80us/sample - loss: 0.3699 - accuracy: 0.8395\n",
      "Epoch 90/100\n",
      "8260/8260 [==============================] - 1s 83us/sample - loss: 0.3692 - accuracy: 0.8364\n",
      "Epoch 91/100\n",
      "8260/8260 [==============================] - 1s 84us/sample - loss: 0.3673 - accuracy: 0.8374\n",
      "Epoch 92/100\n",
      "8260/8260 [==============================] - 1s 85us/sample - loss: 0.3709 - accuracy: 0.8329\n",
      "Epoch 93/100\n",
      "8260/8260 [==============================] - 1s 87us/sample - loss: 0.3672 - accuracy: 0.8392\n",
      "Epoch 94/100\n",
      "8260/8260 [==============================] - 1s 85us/sample - loss: 0.3655 - accuracy: 0.8398\n",
      "Epoch 95/100\n",
      "8260/8260 [==============================] - 1s 85us/sample - loss: 0.3684 - accuracy: 0.8385\n",
      "Epoch 96/100\n",
      "8260/8260 [==============================] - 1s 87us/sample - loss: 0.3672 - accuracy: 0.8386s - loss: 0\n",
      "Epoch 97/100\n",
      "8260/8260 [==============================] - 1s 85us/sample - loss: 0.3649 - accuracy: 0.8389\n",
      "Epoch 98/100\n",
      "8260/8260 [==============================] - 1s 83us/sample - loss: 0.3649 - accuracy: 0.8395\n",
      "Epoch 99/100\n",
      "8260/8260 [==============================] - 1s 84us/sample - loss: 0.3650 - accuracy: 0.8392\n",
      "Epoch 100/100\n",
      "8260/8260 [==============================] - 1s 79us/sample - loss: 0.3656 - accuracy: 0.8366\n",
      "WARNING:tensorflow:Falling back from v2 loop because of error: Failed to find data adapter that can handle input: <class 'pandas.core.frame.DataFrame'>, <class 'NoneType'>\n",
      "              precision    recall  f1-score   support\n",
      "\n",
      "           0       0.84      0.73      0.78      1033\n",
      "           1       0.76      0.86      0.81      1033\n",
      "\n",
      "    accuracy                           0.80      2066\n",
      "   macro avg       0.80      0.80      0.79      2066\n",
      "weighted avg       0.80      0.80      0.79      2066\n",
      "\n"
     ]
    }
   ],
   "source": [
    "model_smote=keras.Sequential([\n",
    "    keras.layers.Dense(20,input_dim=23,activation='relu'),\n",
    "    keras.layers.Dense(15,activation='relu'),\n",
    "    keras.layers.Dense(1,activation='sigmoid')\n",
    "])\n",
    "model_smote.compile(optimizer='adam',loss='binary_crossentropy', metrics=['accuracy'])\n",
    "model_smote.fit(X_train, y_train,epochs=100)\n",
    "y_pred_smote=model_smote.predict(X_test)\n",
    "y_pred_smote=y_pred_smote.round()\n",
    "print(classification_report(y_test, y_pred_smote))"
   ]
  },
  {
   "cell_type": "code",
   "execution_count": 135,
   "metadata": {
    "ExecuteTime": {
     "end_time": "2020-10-18T12:10:13.484793Z",
     "start_time": "2020-10-18T12:10:13.481801Z"
    }
   },
   "outputs": [],
   "source": [
    "# You can see that f1-score for the class churn=1 has been increased"
   ]
  },
  {
   "cell_type": "markdown",
   "metadata": {},
   "source": [
    "# Method 4: Use of Ensemble with Under Sampling"
   ]
  },
  {
   "cell_type": "code",
   "execution_count": 138,
   "metadata": {
    "ExecuteTime": {
     "end_time": "2020-10-18T12:14:49.512068Z",
     "start_time": "2020-10-18T12:14:49.507081Z"
    }
   },
   "outputs": [],
   "source": [
    "X=df3.drop(columns='Churn')\n",
    "y=df3.Churn"
   ]
  },
  {
   "cell_type": "code",
   "execution_count": 139,
   "metadata": {
    "ExecuteTime": {
     "end_time": "2020-10-18T12:15:27.734225Z",
     "start_time": "2020-10-18T12:15:27.720264Z"
    }
   },
   "outputs": [],
   "source": [
    "X_train,X_test,y_train,y_test=train_test_split(X,y,random_state=1,test_size=0.2,stratify=y)"
   ]
  },
  {
   "cell_type": "code",
   "execution_count": 140,
   "metadata": {
    "ExecuteTime": {
     "end_time": "2020-10-18T12:15:41.951166Z",
     "start_time": "2020-10-18T12:15:41.940160Z"
    }
   },
   "outputs": [
    {
     "data": {
      "text/plain": [
       "((5625, 23), (5625,), (1407, 23), (1407,))"
      ]
     },
     "execution_count": 140,
     "metadata": {},
     "output_type": "execute_result"
    }
   ],
   "source": [
    "X_train.shape,y_train.shape,X_test.shape,y_test.shape"
   ]
  },
  {
   "cell_type": "code",
   "execution_count": 141,
   "metadata": {
    "ExecuteTime": {
     "end_time": "2020-10-18T12:16:08.365690Z",
     "start_time": "2020-10-18T12:16:08.351727Z"
    }
   },
   "outputs": [],
   "source": [
    "df3_train=pd.concat([X_train,y_train],axis=1)"
   ]
  },
  {
   "cell_type": "code",
   "execution_count": 142,
   "metadata": {
    "ExecuteTime": {
     "end_time": "2020-10-18T12:16:12.325612Z",
     "start_time": "2020-10-18T12:16:12.321622Z"
    }
   },
   "outputs": [
    {
     "data": {
      "text/plain": [
       "(5625, 24)"
      ]
     },
     "execution_count": 142,
     "metadata": {},
     "output_type": "execute_result"
    }
   ],
   "source": [
    "df3_train.shape"
   ]
  },
  {
   "cell_type": "code",
   "execution_count": 143,
   "metadata": {
    "ExecuteTime": {
     "end_time": "2020-10-18T12:17:09.796115Z",
     "start_time": "2020-10-18T12:17:09.784005Z"
    }
   },
   "outputs": [],
   "source": [
    "df3_train_churn_zero=df3_train[df3_train.Churn==0]\n",
    "df3_train_churn_ones=df3_train[df3_train.Churn==1]"
   ]
  },
  {
   "cell_type": "code",
   "execution_count": 144,
   "metadata": {
    "ExecuteTime": {
     "end_time": "2020-10-18T12:17:35.632299Z",
     "start_time": "2020-10-18T12:17:35.620309Z"
    }
   },
   "outputs": [
    {
     "data": {
      "text/plain": [
       "((4130, 24), (1495, 24))"
      ]
     },
     "execution_count": 144,
     "metadata": {},
     "output_type": "execute_result"
    }
   ],
   "source": [
    "df3_train_churn_zero.shape,df3_train_churn_ones.shape"
   ]
  },
  {
   "cell_type": "code",
   "execution_count": 147,
   "metadata": {
    "ExecuteTime": {
     "end_time": "2020-10-18T12:25:24.084655Z",
     "start_time": "2020-10-18T12:25:24.066968Z"
    }
   },
   "outputs": [],
   "source": [
    "df_x=pd.concat([df3_train_churn_zero[:1495],df3_train_churn_ones],axis=0)\n",
    "ensemble_x1=df_x.drop(columns='Churn')\n",
    "ensemble_y1=df_x['Churn']"
   ]
  },
  {
   "cell_type": "code",
   "execution_count": 148,
   "metadata": {
    "ExecuteTime": {
     "end_time": "2020-10-18T12:25:34.861306Z",
     "start_time": "2020-10-18T12:25:34.846348Z"
    }
   },
   "outputs": [
    {
     "data": {
      "text/plain": [
       "((2990, 23), (2990,))"
      ]
     },
     "execution_count": 148,
     "metadata": {},
     "output_type": "execute_result"
    }
   ],
   "source": [
    "ensemble_x1.shape,ensemble_y1.shape"
   ]
  },
  {
   "cell_type": "code",
   "execution_count": 149,
   "metadata": {
    "ExecuteTime": {
     "end_time": "2020-10-18T12:27:47.935792Z",
     "start_time": "2020-10-18T12:27:22.990903Z"
    }
   },
   "outputs": [
    {
     "name": "stdout",
     "output_type": "stream",
     "text": [
      "WARNING:tensorflow:Falling back from v2 loop because of error: Failed to find data adapter that can handle input: <class 'pandas.core.frame.DataFrame'>, <class 'NoneType'>\n",
      "Train on 2990 samples\n",
      "Epoch 1/100\n",
      "2990/2990 [==============================] - 0s 89us/sample - loss: 0.6889 - accuracy: 0.5512\n",
      "Epoch 2/100\n",
      "2990/2990 [==============================] - 0s 70us/sample - loss: 0.5659 - accuracy: 0.7304\n",
      "Epoch 3/100\n",
      "2990/2990 [==============================] - 0s 74us/sample - loss: 0.5042 - accuracy: 0.7609\n",
      "Epoch 4/100\n",
      "2990/2990 [==============================] - 0s 79us/sample - loss: 0.4878 - accuracy: 0.7679\n",
      "Epoch 5/100\n",
      "2990/2990 [==============================] - 0s 95us/sample - loss: 0.4799 - accuracy: 0.7712\n",
      "Epoch 6/100\n",
      "2990/2990 [==============================] - 0s 103us/sample - loss: 0.4739 - accuracy: 0.7746\n",
      "Epoch 7/100\n",
      "2990/2990 [==============================] - 0s 81us/sample - loss: 0.4716 - accuracy: 0.7829\n",
      "Epoch 8/100\n",
      "2990/2990 [==============================] - 0s 102us/sample - loss: 0.4700 - accuracy: 0.7773\n",
      "Epoch 9/100\n",
      "2990/2990 [==============================] - 0s 83us/sample - loss: 0.4675 - accuracy: 0.7796\n",
      "Epoch 10/100\n",
      "2990/2990 [==============================] - 0s 78us/sample - loss: 0.4649 - accuracy: 0.7776\n",
      "Epoch 11/100\n",
      "2990/2990 [==============================] - 0s 77us/sample - loss: 0.4644 - accuracy: 0.7816\n",
      "Epoch 12/100\n",
      "2990/2990 [==============================] - 0s 80us/sample - loss: 0.4636 - accuracy: 0.7806\n",
      "Epoch 13/100\n",
      "2990/2990 [==============================] - 0s 78us/sample - loss: 0.4615 - accuracy: 0.7833\n",
      "Epoch 14/100\n",
      "2990/2990 [==============================] - 0s 75us/sample - loss: 0.4588 - accuracy: 0.7849\n",
      "Epoch 15/100\n",
      "2990/2990 [==============================] - 0s 76us/sample - loss: 0.4580 - accuracy: 0.7853\n",
      "Epoch 16/100\n",
      "2990/2990 [==============================] - 0s 75us/sample - loss: 0.4572 - accuracy: 0.7803\n",
      "Epoch 17/100\n",
      "2990/2990 [==============================] - 0s 77us/sample - loss: 0.4558 - accuracy: 0.7856\n",
      "Epoch 18/100\n",
      "2990/2990 [==============================] - 0s 73us/sample - loss: 0.4539 - accuracy: 0.7846\n",
      "Epoch 19/100\n",
      "2990/2990 [==============================] - 0s 72us/sample - loss: 0.4530 - accuracy: 0.7799\n",
      "Epoch 20/100\n",
      "2990/2990 [==============================] - 0s 72us/sample - loss: 0.4533 - accuracy: 0.7873\n",
      "Epoch 21/100\n",
      "2990/2990 [==============================] - 0s 73us/sample - loss: 0.4522 - accuracy: 0.7856\n",
      "Epoch 22/100\n",
      "2990/2990 [==============================] - 0s 74us/sample - loss: 0.4506 - accuracy: 0.7833\n",
      "Epoch 23/100\n",
      "2990/2990 [==============================] - 0s 73us/sample - loss: 0.4495 - accuracy: 0.7863\n",
      "Epoch 24/100\n",
      "2990/2990 [==============================] - 0s 73us/sample - loss: 0.4488 - accuracy: 0.7866\n",
      "Epoch 25/100\n",
      "2990/2990 [==============================] - 0s 73us/sample - loss: 0.4469 - accuracy: 0.7873\n",
      "Epoch 26/100\n",
      "2990/2990 [==============================] - 0s 76us/sample - loss: 0.4487 - accuracy: 0.7890\n",
      "Epoch 27/100\n",
      "2990/2990 [==============================] - 0s 74us/sample - loss: 0.4461 - accuracy: 0.7873\n",
      "Epoch 28/100\n",
      "2990/2990 [==============================] - 0s 73us/sample - loss: 0.4458 - accuracy: 0.7856\n",
      "Epoch 29/100\n",
      "2990/2990 [==============================] - 0s 73us/sample - loss: 0.4445 - accuracy: 0.7876\n",
      "Epoch 30/100\n",
      "2990/2990 [==============================] - 0s 73us/sample - loss: 0.4428 - accuracy: 0.7893\n",
      "Epoch 31/100\n",
      "2990/2990 [==============================] - 0s 74us/sample - loss: 0.4427 - accuracy: 0.7860\n",
      "Epoch 32/100\n",
      "2990/2990 [==============================] - 0s 71us/sample - loss: 0.4411 - accuracy: 0.7893\n",
      "Epoch 33/100\n",
      "2990/2990 [==============================] - 0s 78us/sample - loss: 0.4402 - accuracy: 0.7913\n",
      "Epoch 34/100\n",
      "2990/2990 [==============================] - 0s 78us/sample - loss: 0.4414 - accuracy: 0.7926\n",
      "Epoch 35/100\n",
      "2990/2990 [==============================] - 0s 80us/sample - loss: 0.4390 - accuracy: 0.7886\n",
      "Epoch 36/100\n",
      "2990/2990 [==============================] - 0s 80us/sample - loss: 0.4392 - accuracy: 0.7876\n",
      "Epoch 37/100\n",
      "2990/2990 [==============================] - 0s 77us/sample - loss: 0.4370 - accuracy: 0.7903\n",
      "Epoch 38/100\n",
      "2990/2990 [==============================] - 0s 78us/sample - loss: 0.4370 - accuracy: 0.7880\n",
      "Epoch 39/100\n",
      "2990/2990 [==============================] - 0s 78us/sample - loss: 0.4369 - accuracy: 0.7896\n",
      "Epoch 40/100\n",
      "2990/2990 [==============================] - 0s 76us/sample - loss: 0.4374 - accuracy: 0.7906\n",
      "Epoch 41/100\n",
      "2990/2990 [==============================] - 0s 81us/sample - loss: 0.4351 - accuracy: 0.7890\n",
      "Epoch 42/100\n",
      "2990/2990 [==============================] - 0s 78us/sample - loss: 0.4375 - accuracy: 0.7957\n",
      "Epoch 43/100\n",
      "2990/2990 [==============================] - 0s 98us/sample - loss: 0.4340 - accuracy: 0.7903\n",
      "Epoch 44/100\n",
      "2990/2990 [==============================] - 0s 91us/sample - loss: 0.4351 - accuracy: 0.7910\n",
      "Epoch 45/100\n",
      "2990/2990 [==============================] - 0s 83us/sample - loss: 0.4324 - accuracy: 0.7903\n",
      "Epoch 46/100\n",
      "2990/2990 [==============================] - 0s 80us/sample - loss: 0.4318 - accuracy: 0.7963\n",
      "Epoch 47/100\n",
      "2990/2990 [==============================] - 0s 83us/sample - loss: 0.4324 - accuracy: 0.7980\n",
      "Epoch 48/100\n",
      "2990/2990 [==============================] - 0s 83us/sample - loss: 0.4314 - accuracy: 0.7893\n",
      "Epoch 49/100\n",
      "2990/2990 [==============================] - 0s 77us/sample - loss: 0.4302 - accuracy: 0.7883\n",
      "Epoch 50/100\n",
      "2990/2990 [==============================] - 0s 80us/sample - loss: 0.4298 - accuracy: 0.7960\n",
      "Epoch 51/100\n",
      "2990/2990 [==============================] - 0s 93us/sample - loss: 0.4289 - accuracy: 0.7953\n",
      "Epoch 52/100\n",
      "2990/2990 [==============================] - 0s 79us/sample - loss: 0.4285 - accuracy: 0.7936\n",
      "Epoch 53/100\n",
      "2990/2990 [==============================] - 0s 98us/sample - loss: 0.4277 - accuracy: 0.7916\n",
      "Epoch 54/100\n",
      "2990/2990 [==============================] - 0s 86us/sample - loss: 0.4268 - accuracy: 0.7943\n",
      "Epoch 55/100\n",
      "2990/2990 [==============================] - 0s 79us/sample - loss: 0.4259 - accuracy: 0.7960\n",
      "Epoch 56/100\n",
      "2990/2990 [==============================] - 0s 80us/sample - loss: 0.4251 - accuracy: 0.7977\n",
      "Epoch 57/100\n",
      "2990/2990 [==============================] - 0s 78us/sample - loss: 0.4261 - accuracy: 0.7957\n",
      "Epoch 58/100\n",
      "2990/2990 [==============================] - 0s 94us/sample - loss: 0.4233 - accuracy: 0.7980\n",
      "Epoch 59/100\n",
      "2990/2990 [==============================] - 0s 81us/sample - loss: 0.4263 - accuracy: 0.7940\n",
      "Epoch 60/100\n",
      "2990/2990 [==============================] - 0s 80us/sample - loss: 0.4239 - accuracy: 0.7963\n",
      "Epoch 61/100\n",
      "2990/2990 [==============================] - 0s 80us/sample - loss: 0.4220 - accuracy: 0.7936\n",
      "Epoch 62/100\n",
      "2990/2990 [==============================] - 0s 78us/sample - loss: 0.4223 - accuracy: 0.8003\n",
      "Epoch 63/100\n",
      "2990/2990 [==============================] - 0s 83us/sample - loss: 0.4210 - accuracy: 0.7960\n",
      "Epoch 64/100\n",
      "2990/2990 [==============================] - 0s 77us/sample - loss: 0.4214 - accuracy: 0.7983\n",
      "Epoch 65/100\n",
      "2990/2990 [==============================] - 0s 78us/sample - loss: 0.4198 - accuracy: 0.7960\n",
      "Epoch 66/100\n",
      "2990/2990 [==============================] - 0s 77us/sample - loss: 0.4190 - accuracy: 0.7983\n",
      "Epoch 67/100\n",
      "2990/2990 [==============================] - 0s 82us/sample - loss: 0.4176 - accuracy: 0.7990\n",
      "Epoch 68/100\n",
      "2990/2990 [==============================] - 0s 81us/sample - loss: 0.4182 - accuracy: 0.7970\n",
      "Epoch 69/100\n",
      "2990/2990 [==============================] - 0s 78us/sample - loss: 0.4170 - accuracy: 0.7977\n",
      "Epoch 70/100\n",
      "2990/2990 [==============================] - 0s 81us/sample - loss: 0.4169 - accuracy: 0.8003\n",
      "Epoch 71/100\n",
      "2990/2990 [==============================] - 0s 76us/sample - loss: 0.4150 - accuracy: 0.7990\n",
      "Epoch 72/100\n",
      "2990/2990 [==============================] - 0s 80us/sample - loss: 0.4159 - accuracy: 0.7977\n",
      "Epoch 73/100\n",
      "2990/2990 [==============================] - 0s 77us/sample - loss: 0.4144 - accuracy: 0.7980\n",
      "Epoch 74/100\n",
      "2990/2990 [==============================] - 0s 78us/sample - loss: 0.4139 - accuracy: 0.8020\n",
      "Epoch 75/100\n"
     ]
    },
    {
     "name": "stdout",
     "output_type": "stream",
     "text": [
      "2990/2990 [==============================] - 0s 75us/sample - loss: 0.4138 - accuracy: 0.8013\n",
      "Epoch 76/100\n",
      "2990/2990 [==============================] - 0s 76us/sample - loss: 0.4124 - accuracy: 0.8040\n",
      "Epoch 77/100\n",
      "2990/2990 [==============================] - 0s 72us/sample - loss: 0.4123 - accuracy: 0.8047\n",
      "Epoch 78/100\n",
      "2990/2990 [==============================] - 0s 72us/sample - loss: 0.4140 - accuracy: 0.7993\n",
      "Epoch 79/100\n",
      "2990/2990 [==============================] - 0s 76us/sample - loss: 0.4103 - accuracy: 0.7993\n",
      "Epoch 80/100\n",
      "2990/2990 [==============================] - 0s 73us/sample - loss: 0.4119 - accuracy: 0.7980\n",
      "Epoch 81/100\n",
      "2990/2990 [==============================] - 0s 74us/sample - loss: 0.4105 - accuracy: 0.8000\n",
      "Epoch 82/100\n",
      "2990/2990 [==============================] - 0s 73us/sample - loss: 0.4098 - accuracy: 0.8017\n",
      "Epoch 83/100\n",
      "2990/2990 [==============================] - 0s 74us/sample - loss: 0.4083 - accuracy: 0.8030\n",
      "Epoch 84/100\n",
      "2990/2990 [==============================] - 0s 107us/sample - loss: 0.4084 - accuracy: 0.8033\n",
      "Epoch 85/100\n",
      "2990/2990 [==============================] - 0s 119us/sample - loss: 0.4112 - accuracy: 0.8013\n",
      "Epoch 86/100\n",
      "2990/2990 [==============================] - 0s 93us/sample - loss: 0.4078 - accuracy: 0.8074\n",
      "Epoch 87/100\n",
      "2990/2990 [==============================] - 0s 79us/sample - loss: 0.4074 - accuracy: 0.8060\n",
      "Epoch 88/100\n",
      "2990/2990 [==============================] - 0s 86us/sample - loss: 0.4076 - accuracy: 0.8010\n",
      "Epoch 89/100\n",
      "2990/2990 [==============================] - 0s 97us/sample - loss: 0.4066 - accuracy: 0.8077\n",
      "Epoch 90/100\n",
      "2990/2990 [==============================] - 0s 83us/sample - loss: 0.4064 - accuracy: 0.8090\n",
      "Epoch 91/100\n",
      "2990/2990 [==============================] - 0s 106us/sample - loss: 0.4059 - accuracy: 0.8033\n",
      "Epoch 92/100\n",
      "2990/2990 [==============================] - 0s 96us/sample - loss: 0.4052 - accuracy: 0.8104\n",
      "Epoch 93/100\n",
      "2990/2990 [==============================] - 0s 103us/sample - loss: 0.4030 - accuracy: 0.8097\n",
      "Epoch 94/100\n",
      "2990/2990 [==============================] - 0s 78us/sample - loss: 0.4034 - accuracy: 0.8070\n",
      "Epoch 95/100\n",
      "2990/2990 [==============================] - 0s 81us/sample - loss: 0.4025 - accuracy: 0.8030\n",
      "Epoch 96/100\n",
      "2990/2990 [==============================] - 0s 79us/sample - loss: 0.4062 - accuracy: 0.8054\n",
      "Epoch 97/100\n",
      "2990/2990 [==============================] - 0s 96us/sample - loss: 0.4048 - accuracy: 0.8070\n",
      "Epoch 98/100\n",
      "2990/2990 [==============================] - 0s 97us/sample - loss: 0.4024 - accuracy: 0.8094\n",
      "Epoch 99/100\n",
      "2990/2990 [==============================] - 0s 82us/sample - loss: 0.4017 - accuracy: 0.8080\n",
      "Epoch 100/100\n",
      "2990/2990 [==============================] - 0s 77us/sample - loss: 0.4029 - accuracy: 0.8094\n",
      "WARNING:tensorflow:Falling back from v2 loop because of error: Failed to find data adapter that can handle input: <class 'pandas.core.frame.DataFrame'>, <class 'NoneType'>\n",
      "              precision    recall  f1-score   support\n",
      "\n",
      "           0       0.88      0.75      0.81      1033\n",
      "           1       0.51      0.72      0.60       374\n",
      "\n",
      "    accuracy                           0.74      1407\n",
      "   macro avg       0.70      0.73      0.70      1407\n",
      "weighted avg       0.78      0.74      0.75      1407\n",
      "\n"
     ]
    }
   ],
   "source": [
    "model_ensemble_1=keras.Sequential([\n",
    "    keras.layers.Dense(20,input_dim=23,activation='relu'),\n",
    "    keras.layers.Dense(15,activation='relu'),\n",
    "    keras.layers.Dense(1,activation='sigmoid')\n",
    "])\n",
    "model_ensemble_1.compile(optimizer='adam',loss='binary_crossentropy', metrics=['accuracy'])\n",
    "model_ensemble_1.fit(ensemble_x1, ensemble_y1,epochs=100)\n",
    "y_pred_ensemble1=model_ensemble_1.predict(X_test)\n",
    "y_pred_ensemble1=y_pred_ensemble1.round()\n",
    "print(classification_report(y_test, y_pred_ensemble1))"
   ]
  },
  {
   "cell_type": "code",
   "execution_count": 150,
   "metadata": {
    "ExecuteTime": {
     "end_time": "2020-10-18T12:28:10.144178Z",
     "start_time": "2020-10-18T12:28:10.141844Z"
    }
   },
   "outputs": [],
   "source": [
    "# We create 2 more models"
   ]
  },
  {
   "cell_type": "code",
   "execution_count": 154,
   "metadata": {
    "ExecuteTime": {
     "end_time": "2020-10-18T12:29:51.154797Z",
     "start_time": "2020-10-18T12:29:51.141818Z"
    }
   },
   "outputs": [
    {
     "data": {
      "text/plain": [
       "2990"
      ]
     },
     "execution_count": 154,
     "metadata": {},
     "output_type": "execute_result"
    }
   ],
   "source": [
    "1495+1495"
   ]
  },
  {
   "cell_type": "code",
   "execution_count": 155,
   "metadata": {
    "ExecuteTime": {
     "end_time": "2020-10-18T12:29:59.449728Z",
     "start_time": "2020-10-18T12:29:59.438740Z"
    }
   },
   "outputs": [],
   "source": [
    "df_x=pd.concat([df3_train_churn_zero[1495:2990],df3_train_churn_ones],axis=0)\n",
    "ensemble_x2=df_x.drop(columns='Churn')\n",
    "ensemble_y2=df_x['Churn']"
   ]
  },
  {
   "cell_type": "code",
   "execution_count": 156,
   "metadata": {
    "ExecuteTime": {
     "end_time": "2020-10-18T12:29:59.841590Z",
     "start_time": "2020-10-18T12:29:59.822641Z"
    }
   },
   "outputs": [
    {
     "data": {
      "text/plain": [
       "((2990, 23), (2990,))"
      ]
     },
     "execution_count": 156,
     "metadata": {},
     "output_type": "execute_result"
    }
   ],
   "source": [
    "ensemble_x2.shape,ensemble_y2.shape"
   ]
  },
  {
   "cell_type": "code",
   "execution_count": 157,
   "metadata": {
    "ExecuteTime": {
     "end_time": "2020-10-18T12:31:10.707140Z",
     "start_time": "2020-10-18T12:30:43.642850Z"
    }
   },
   "outputs": [
    {
     "name": "stdout",
     "output_type": "stream",
     "text": [
      "WARNING:tensorflow:Falling back from v2 loop because of error: Failed to find data adapter that can handle input: <class 'pandas.core.frame.DataFrame'>, <class 'NoneType'>\n",
      "Train on 2990 samples\n",
      "Epoch 1/100\n",
      "2990/2990 [==============================] - 0s 104us/sample - loss: 0.6400 - accuracy: 0.6562\n",
      "Epoch 2/100\n",
      "2990/2990 [==============================] - 0s 114us/sample - loss: 0.5275 - accuracy: 0.7482\n",
      "Epoch 3/100\n",
      "2990/2990 [==============================] - 0s 102us/sample - loss: 0.4979 - accuracy: 0.7589\n",
      "Epoch 4/100\n",
      "2990/2990 [==============================] - 0s 114us/sample - loss: 0.4877 - accuracy: 0.7605\n",
      "Epoch 5/100\n",
      "2990/2990 [==============================] - 0s 105us/sample - loss: 0.4837 - accuracy: 0.7619\n",
      "Epoch 6/100\n",
      "2990/2990 [==============================] - 0s 101us/sample - loss: 0.4791 - accuracy: 0.7622\n",
      "Epoch 7/100\n",
      "2990/2990 [==============================] - 0s 93us/sample - loss: 0.4765 - accuracy: 0.7649s - loss: 0.4873 - accura\n",
      "Epoch 8/100\n",
      "2990/2990 [==============================] - 0s 86us/sample - loss: 0.4757 - accuracy: 0.7635\n",
      "Epoch 9/100\n",
      "2990/2990 [==============================] - 0s 86us/sample - loss: 0.4711 - accuracy: 0.7702\n",
      "Epoch 10/100\n",
      "2990/2990 [==============================] - 0s 100us/sample - loss: 0.4701 - accuracy: 0.7669\n",
      "Epoch 11/100\n",
      "2990/2990 [==============================] - 0s 93us/sample - loss: 0.4696 - accuracy: 0.7689\n",
      "Epoch 12/100\n",
      "2990/2990 [==============================] - 0s 88us/sample - loss: 0.4676 - accuracy: 0.7686\n",
      "Epoch 13/100\n",
      "2990/2990 [==============================] - 0s 88us/sample - loss: 0.4668 - accuracy: 0.7689\n",
      "Epoch 14/100\n",
      "2990/2990 [==============================] - 0s 87us/sample - loss: 0.4658 - accuracy: 0.7716\n",
      "Epoch 15/100\n",
      "2990/2990 [==============================] - 0s 87us/sample - loss: 0.4650 - accuracy: 0.7682\n",
      "Epoch 16/100\n",
      "2990/2990 [==============================] - 0s 92us/sample - loss: 0.4627 - accuracy: 0.7739\n",
      "Epoch 17/100\n",
      "2990/2990 [==============================] - 0s 96us/sample - loss: 0.4623 - accuracy: 0.7672\n",
      "Epoch 18/100\n",
      "2990/2990 [==============================] - 0s 95us/sample - loss: 0.4595 - accuracy: 0.7799\n",
      "Epoch 19/100\n",
      "2990/2990 [==============================] - 0s 85us/sample - loss: 0.4612 - accuracy: 0.7732\n",
      "Epoch 20/100\n",
      "2990/2990 [==============================] - 0s 85us/sample - loss: 0.4609 - accuracy: 0.7749\n",
      "Epoch 21/100\n",
      "2990/2990 [==============================] - 0s 97us/sample - loss: 0.4577 - accuracy: 0.7783\n",
      "Epoch 22/100\n",
      "2990/2990 [==============================] - 0s 87us/sample - loss: 0.4563 - accuracy: 0.7799\n",
      "Epoch 23/100\n",
      "2990/2990 [==============================] - 0s 97us/sample - loss: 0.4558 - accuracy: 0.7796\n",
      "Epoch 24/100\n",
      "2990/2990 [==============================] - 0s 93us/sample - loss: 0.4548 - accuracy: 0.7793\n",
      "Epoch 25/100\n",
      "2990/2990 [==============================] - 0s 91us/sample - loss: 0.4542 - accuracy: 0.7839\n",
      "Epoch 26/100\n",
      "2990/2990 [==============================] - 0s 91us/sample - loss: 0.4531 - accuracy: 0.7816\n",
      "Epoch 27/100\n",
      "2990/2990 [==============================] - 0s 86us/sample - loss: 0.4539 - accuracy: 0.7789\n",
      "Epoch 28/100\n",
      "2990/2990 [==============================] - 0s 88us/sample - loss: 0.4515 - accuracy: 0.7846\n",
      "Epoch 29/100\n",
      "2990/2990 [==============================] - 0s 104us/sample - loss: 0.4497 - accuracy: 0.7836\n",
      "Epoch 30/100\n",
      "2990/2990 [==============================] - 0s 82us/sample - loss: 0.4490 - accuracy: 0.7819\n",
      "Epoch 31/100\n",
      "2990/2990 [==============================] - 0s 85us/sample - loss: 0.4494 - accuracy: 0.7809\n",
      "Epoch 32/100\n",
      "2990/2990 [==============================] - 0s 92us/sample - loss: 0.4483 - accuracy: 0.7849\n",
      "Epoch 33/100\n",
      "2990/2990 [==============================] - 0s 83us/sample - loss: 0.4468 - accuracy: 0.7863\n",
      "Epoch 34/100\n",
      "2990/2990 [==============================] - 0s 94us/sample - loss: 0.4453 - accuracy: 0.7870\n",
      "Epoch 35/100\n",
      "2990/2990 [==============================] - 0s 85us/sample - loss: 0.4454 - accuracy: 0.7873\n",
      "Epoch 36/100\n",
      "2990/2990 [==============================] - 0s 91us/sample - loss: 0.4441 - accuracy: 0.7873\n",
      "Epoch 37/100\n",
      "2990/2990 [==============================] - 0s 89us/sample - loss: 0.4435 - accuracy: 0.7893\n",
      "Epoch 38/100\n",
      "2990/2990 [==============================] - 0s 90us/sample - loss: 0.4422 - accuracy: 0.7876\n",
      "Epoch 39/100\n",
      "2990/2990 [==============================] - 0s 95us/sample - loss: 0.4427 - accuracy: 0.7860\n",
      "Epoch 40/100\n",
      "2990/2990 [==============================] - 0s 87us/sample - loss: 0.4410 - accuracy: 0.7916\n",
      "Epoch 41/100\n",
      "2990/2990 [==============================] - 0s 89us/sample - loss: 0.4419 - accuracy: 0.7940\n",
      "Epoch 42/100\n",
      "2990/2990 [==============================] - 0s 80us/sample - loss: 0.4399 - accuracy: 0.7890\n",
      "Epoch 43/100\n",
      "2990/2990 [==============================] - 0s 82us/sample - loss: 0.4403 - accuracy: 0.7930\n",
      "Epoch 44/100\n",
      "2990/2990 [==============================] - 0s 87us/sample - loss: 0.4386 - accuracy: 0.7923\n",
      "Epoch 45/100\n",
      "2990/2990 [==============================] - 0s 75us/sample - loss: 0.4378 - accuracy: 0.7923\n",
      "Epoch 46/100\n",
      "2990/2990 [==============================] - 0s 76us/sample - loss: 0.4373 - accuracy: 0.7936\n",
      "Epoch 47/100\n",
      "2990/2990 [==============================] - 0s 79us/sample - loss: 0.4371 - accuracy: 0.7930\n",
      "Epoch 48/100\n",
      "2990/2990 [==============================] - 0s 76us/sample - loss: 0.4360 - accuracy: 0.7970\n",
      "Epoch 49/100\n",
      "2990/2990 [==============================] - 0s 76us/sample - loss: 0.4341 - accuracy: 0.7936\n",
      "Epoch 50/100\n",
      "2990/2990 [==============================] - 0s 79us/sample - loss: 0.4331 - accuracy: 0.7943\n",
      "Epoch 51/100\n",
      "2990/2990 [==============================] - 0s 78us/sample - loss: 0.4366 - accuracy: 0.7936\n",
      "Epoch 52/100\n",
      "2990/2990 [==============================] - 0s 82us/sample - loss: 0.4327 - accuracy: 0.7963\n",
      "Epoch 53/100\n",
      "2990/2990 [==============================] - 0s 76us/sample - loss: 0.4330 - accuracy: 0.7943\n",
      "Epoch 54/100\n",
      "2990/2990 [==============================] - 0s 76us/sample - loss: 0.4335 - accuracy: 0.7946\n",
      "Epoch 55/100\n",
      "2990/2990 [==============================] - 0s 74us/sample - loss: 0.4319 - accuracy: 0.7950\n",
      "Epoch 56/100\n",
      "2990/2990 [==============================] - 0s 82us/sample - loss: 0.4308 - accuracy: 0.7970\n",
      "Epoch 57/100\n",
      "2990/2990 [==============================] - 0s 104us/sample - loss: 0.4316 - accuracy: 0.7953\n",
      "Epoch 58/100\n",
      "2990/2990 [==============================] - 0s 82us/sample - loss: 0.4283 - accuracy: 0.7977\n",
      "Epoch 59/100\n",
      "2990/2990 [==============================] - 0s 81us/sample - loss: 0.4279 - accuracy: 0.7993\n",
      "Epoch 60/100\n",
      "2990/2990 [==============================] - 0s 99us/sample - loss: 0.4293 - accuracy: 0.7957\n",
      "Epoch 61/100\n",
      "2990/2990 [==============================] - 0s 98us/sample - loss: 0.4265 - accuracy: 0.8057\n",
      "Epoch 62/100\n",
      "2990/2990 [==============================] - 0s 90us/sample - loss: 0.4257 - accuracy: 0.8027\n",
      "Epoch 63/100\n",
      "2990/2990 [==============================] - 0s 94us/sample - loss: 0.4247 - accuracy: 0.8054\n",
      "Epoch 64/100\n",
      "2990/2990 [==============================] - 0s 83us/sample - loss: 0.4230 - accuracy: 0.8067\n",
      "Epoch 65/100\n",
      "2990/2990 [==============================] - 0s 74us/sample - loss: 0.4236 - accuracy: 0.8064\n",
      "Epoch 66/100\n",
      "2990/2990 [==============================] - 0s 80us/sample - loss: 0.4234 - accuracy: 0.8010\n",
      "Epoch 67/100\n",
      "2990/2990 [==============================] - 0s 85us/sample - loss: 0.4222 - accuracy: 0.8074\n",
      "Epoch 68/100\n",
      "2990/2990 [==============================] - 0s 85us/sample - loss: 0.4207 - accuracy: 0.8033\n",
      "Epoch 69/100\n",
      "2990/2990 [==============================] - 0s 78us/sample - loss: 0.4208 - accuracy: 0.8054\n",
      "Epoch 70/100\n",
      "2990/2990 [==============================] - 0s 112us/sample - loss: 0.4210 - accuracy: 0.8064\n",
      "Epoch 71/100\n",
      "2990/2990 [==============================] - 0s 87us/sample - loss: 0.4198 - accuracy: 0.8050\n",
      "Epoch 72/100\n",
      "2990/2990 [==============================] - 0s 79us/sample - loss: 0.4186 - accuracy: 0.8010\n",
      "Epoch 73/100\n",
      "2990/2990 [==============================] - 0s 82us/sample - loss: 0.4169 - accuracy: 0.8067\n",
      "Epoch 74/100\n",
      "2990/2990 [==============================] - 0s 85us/sample - loss: 0.4172 - accuracy: 0.8080\n",
      "Epoch 75/100\n"
     ]
    },
    {
     "name": "stdout",
     "output_type": "stream",
     "text": [
      "2990/2990 [==============================] - 0s 83us/sample - loss: 0.4170 - accuracy: 0.8070\n",
      "Epoch 76/100\n",
      "2990/2990 [==============================] - 0s 77us/sample - loss: 0.4175 - accuracy: 0.8060\n",
      "Epoch 77/100\n",
      "2990/2990 [==============================] - 0s 76us/sample - loss: 0.4136 - accuracy: 0.8097\n",
      "Epoch 78/100\n",
      "2990/2990 [==============================] - 0s 74us/sample - loss: 0.4140 - accuracy: 0.8100\n",
      "Epoch 79/100\n",
      "2990/2990 [==============================] - 0s 76us/sample - loss: 0.4137 - accuracy: 0.8030\n",
      "Epoch 80/100\n",
      "2990/2990 [==============================] - 0s 79us/sample - loss: 0.4132 - accuracy: 0.8057\n",
      "Epoch 81/100\n",
      "2990/2990 [==============================] - 0s 76us/sample - loss: 0.4138 - accuracy: 0.8064\n",
      "Epoch 82/100\n",
      "2990/2990 [==============================] - 0s 76us/sample - loss: 0.4122 - accuracy: 0.8110\n",
      "Epoch 83/100\n",
      "2990/2990 [==============================] - 0s 77us/sample - loss: 0.4126 - accuracy: 0.8084\n",
      "Epoch 84/100\n",
      "2990/2990 [==============================] - 0s 78us/sample - loss: 0.4108 - accuracy: 0.8090\n",
      "Epoch 85/100\n",
      "2990/2990 [==============================] - 0s 82us/sample - loss: 0.4102 - accuracy: 0.8107\n",
      "Epoch 86/100\n",
      "2990/2990 [==============================] - 0s 82us/sample - loss: 0.4087 - accuracy: 0.8140\n",
      "Epoch 87/100\n",
      "2990/2990 [==============================] - 0s 93us/sample - loss: 0.4122 - accuracy: 0.8097\n",
      "Epoch 88/100\n",
      "2990/2990 [==============================] - 0s 95us/sample - loss: 0.4095 - accuracy: 0.8097\n",
      "Epoch 89/100\n",
      "2990/2990 [==============================] - 0s 78us/sample - loss: 0.4080 - accuracy: 0.8114\n",
      "Epoch 90/100\n",
      "2990/2990 [==============================] - 0s 77us/sample - loss: 0.4078 - accuracy: 0.8040\n",
      "Epoch 91/100\n",
      "2990/2990 [==============================] - 0s 98us/sample - loss: 0.4058 - accuracy: 0.8134\n",
      "Epoch 92/100\n",
      "2990/2990 [==============================] - 0s 101us/sample - loss: 0.4051 - accuracy: 0.8100\n",
      "Epoch 93/100\n",
      "2990/2990 [==============================] - 0s 95us/sample - loss: 0.4046 - accuracy: 0.8130\n",
      "Epoch 94/100\n",
      "2990/2990 [==============================] - 0s 100us/sample - loss: 0.4078 - accuracy: 0.8064\n",
      "Epoch 95/100\n",
      "2990/2990 [==============================] - 0s 99us/sample - loss: 0.4037 - accuracy: 0.8151\n",
      "Epoch 96/100\n",
      "2990/2990 [==============================] - 0s 96us/sample - loss: 0.4056 - accuracy: 0.8077\n",
      "Epoch 97/100\n",
      "2990/2990 [==============================] - 0s 92us/sample - loss: 0.4016 - accuracy: 0.8140\n",
      "Epoch 98/100\n",
      "2990/2990 [==============================] - 0s 94us/sample - loss: 0.4017 - accuracy: 0.8134\n",
      "Epoch 99/100\n",
      "2990/2990 [==============================] - 0s 95us/sample - loss: 0.4030 - accuracy: 0.8161\n",
      "Epoch 100/100\n",
      "2990/2990 [==============================] - 0s 95us/sample - loss: 0.3996 - accuracy: 0.8187\n",
      "WARNING:tensorflow:Falling back from v2 loop because of error: Failed to find data adapter that can handle input: <class 'pandas.core.frame.DataFrame'>, <class 'NoneType'>\n",
      "              precision    recall  f1-score   support\n",
      "\n",
      "           0       0.90      0.65      0.76      1033\n",
      "           1       0.45      0.79      0.58       374\n",
      "\n",
      "    accuracy                           0.69      1407\n",
      "   macro avg       0.68      0.72      0.67      1407\n",
      "weighted avg       0.78      0.69      0.71      1407\n",
      "\n"
     ]
    }
   ],
   "source": [
    "model_ensemble_2=keras.Sequential([\n",
    "    keras.layers.Dense(20,input_dim=23,activation='relu'),\n",
    "    keras.layers.Dense(15,activation='relu'),\n",
    "    keras.layers.Dense(1,activation='sigmoid')\n",
    "])\n",
    "model_ensemble_2.compile(optimizer='adam',loss='binary_crossentropy', metrics=['accuracy'])\n",
    "model_ensemble_2.fit(ensemble_x2, ensemble_y2,epochs=100)\n",
    "y_pred_ensemble2=model_ensemble_2.predict(X_test)\n",
    "y_pred_ensemble2=y_pred_ensemble2.round()\n",
    "print(classification_report(y_test, y_pred_ensemble2))"
   ]
  },
  {
   "cell_type": "code",
   "execution_count": 159,
   "metadata": {
    "ExecuteTime": {
     "end_time": "2020-10-18T12:32:00.249193Z",
     "start_time": "2020-10-18T12:32:00.242212Z"
    }
   },
   "outputs": [
    {
     "data": {
      "text/plain": [
       "(4130, 24)"
      ]
     },
     "execution_count": 159,
     "metadata": {},
     "output_type": "execute_result"
    }
   ],
   "source": [
    "df3_train_churn_zero.shape"
   ]
  },
  {
   "cell_type": "code",
   "execution_count": 160,
   "metadata": {
    "ExecuteTime": {
     "end_time": "2020-10-18T12:32:14.313328Z",
     "start_time": "2020-10-18T12:32:14.292360Z"
    }
   },
   "outputs": [],
   "source": [
    "df_x=pd.concat([df3_train_churn_zero[2990:4130],df3_train_churn_ones],axis=0)\n",
    "ensemble_x3=df_x.drop(columns='Churn')\n",
    "ensemble_y3=df_x['Churn']"
   ]
  },
  {
   "cell_type": "code",
   "execution_count": 162,
   "metadata": {
    "ExecuteTime": {
     "end_time": "2020-10-18T12:32:26.029140Z",
     "start_time": "2020-10-18T12:32:26.022160Z"
    }
   },
   "outputs": [
    {
     "data": {
      "text/plain": [
       "((2635, 23), (2635,))"
      ]
     },
     "execution_count": 162,
     "metadata": {},
     "output_type": "execute_result"
    }
   ],
   "source": [
    "ensemble_x3.shape,ensemble_y3.shape"
   ]
  },
  {
   "cell_type": "code",
   "execution_count": 163,
   "metadata": {
    "ExecuteTime": {
     "end_time": "2020-10-18T12:33:28.554321Z",
     "start_time": "2020-10-18T12:33:03.882554Z"
    }
   },
   "outputs": [
    {
     "name": "stdout",
     "output_type": "stream",
     "text": [
      "WARNING:tensorflow:Falling back from v2 loop because of error: Failed to find data adapter that can handle input: <class 'pandas.core.frame.DataFrame'>, <class 'NoneType'>\n",
      "Train on 2635 samples\n",
      "Epoch 1/100\n",
      "2635/2635 [==============================] - 0s 108us/sample - loss: 0.6466 - accuracy: 0.6383\n",
      "Epoch 2/100\n",
      "2635/2635 [==============================] - 0s 90us/sample - loss: 0.5400 - accuracy: 0.7385\n",
      "Epoch 3/100\n",
      "2635/2635 [==============================] - 0s 85us/sample - loss: 0.5001 - accuracy: 0.7647\n",
      "Epoch 4/100\n",
      "2635/2635 [==============================] - 0s 82us/sample - loss: 0.4858 - accuracy: 0.7715\n",
      "Epoch 5/100\n",
      "2635/2635 [==============================] - 0s 85us/sample - loss: 0.4809 - accuracy: 0.7712\n",
      "Epoch 6/100\n",
      "2635/2635 [==============================] - 0s 90us/sample - loss: 0.4758 - accuracy: 0.7719\n",
      "Epoch 7/100\n",
      "2635/2635 [==============================] - 0s 95us/sample - loss: 0.4723 - accuracy: 0.7757\n",
      "Epoch 8/100\n",
      "2635/2635 [==============================] - 0s 87us/sample - loss: 0.4705 - accuracy: 0.7761\n",
      "Epoch 9/100\n",
      "2635/2635 [==============================] - 0s 84us/sample - loss: 0.4682 - accuracy: 0.7791\n",
      "Epoch 10/100\n",
      "2635/2635 [==============================] - 0s 86us/sample - loss: 0.4649 - accuracy: 0.7784\n",
      "Epoch 11/100\n",
      "2635/2635 [==============================] - 0s 90us/sample - loss: 0.4632 - accuracy: 0.7810\n",
      "Epoch 12/100\n",
      "2635/2635 [==============================] - 0s 106us/sample - loss: 0.4638 - accuracy: 0.7791\n",
      "Epoch 13/100\n",
      "2635/2635 [==============================] - 0s 94us/sample - loss: 0.4612 - accuracy: 0.7806\n",
      "Epoch 14/100\n",
      "2635/2635 [==============================] - 0s 98us/sample - loss: 0.4570 - accuracy: 0.7894\n",
      "Epoch 15/100\n",
      "2635/2635 [==============================] - 0s 98us/sample - loss: 0.4611 - accuracy: 0.7806\n",
      "Epoch 16/100\n",
      "2635/2635 [==============================] - 0s 90us/sample - loss: 0.4588 - accuracy: 0.7829\n",
      "Epoch 17/100\n",
      "2635/2635 [==============================] - 0s 87us/sample - loss: 0.4561 - accuracy: 0.7894\n",
      "Epoch 18/100\n",
      "2635/2635 [==============================] - 0s 89us/sample - loss: 0.4564 - accuracy: 0.7822\n",
      "Epoch 19/100\n",
      "2635/2635 [==============================] - 0s 91us/sample - loss: 0.4540 - accuracy: 0.7875\n",
      "Epoch 20/100\n",
      "2635/2635 [==============================] - 0s 88us/sample - loss: 0.4534 - accuracy: 0.7886\n",
      "Epoch 21/100\n",
      "2635/2635 [==============================] - 0s 87us/sample - loss: 0.4524 - accuracy: 0.7867\n",
      "Epoch 22/100\n",
      "2635/2635 [==============================] - 0s 87us/sample - loss: 0.4520 - accuracy: 0.7886\n",
      "Epoch 23/100\n",
      "2635/2635 [==============================] - 0s 98us/sample - loss: 0.4487 - accuracy: 0.7966\n",
      "Epoch 24/100\n",
      "2635/2635 [==============================] - 0s 94us/sample - loss: 0.4505 - accuracy: 0.7909\n",
      "Epoch 25/100\n",
      "2635/2635 [==============================] - 0s 118us/sample - loss: 0.4471 - accuracy: 0.7920\n",
      "Epoch 26/100\n",
      "2635/2635 [==============================] - 0s 100us/sample - loss: 0.4448 - accuracy: 0.7943\n",
      "Epoch 27/100\n",
      "2635/2635 [==============================] - 0s 103us/sample - loss: 0.4455 - accuracy: 0.7920\n",
      "Epoch 28/100\n",
      "2635/2635 [==============================] - 0s 128us/sample - loss: 0.4442 - accuracy: 0.7920\n",
      "Epoch 29/100\n",
      "2635/2635 [==============================] - 0s 95us/sample - loss: 0.4432 - accuracy: 0.7935\n",
      "Epoch 30/100\n",
      "2635/2635 [==============================] - 0s 108us/sample - loss: 0.4431 - accuracy: 0.7966\n",
      "Epoch 31/100\n",
      "2635/2635 [==============================] - 0s 102us/sample - loss: 0.4421 - accuracy: 0.7962\n",
      "Epoch 32/100\n",
      "2635/2635 [==============================] - 0s 116us/sample - loss: 0.4406 - accuracy: 0.7981\n",
      "Epoch 33/100\n",
      "2635/2635 [==============================] - 0s 85us/sample - loss: 0.4376 - accuracy: 0.8000\n",
      "Epoch 34/100\n",
      "2635/2635 [==============================] - 0s 82us/sample - loss: 0.4367 - accuracy: 0.7996\n",
      "Epoch 35/100\n",
      "2635/2635 [==============================] - 0s 80us/sample - loss: 0.4349 - accuracy: 0.8046\n",
      "Epoch 36/100\n",
      "2635/2635 [==============================] - 0s 83us/sample - loss: 0.4343 - accuracy: 0.8015\n",
      "Epoch 37/100\n",
      "2635/2635 [==============================] - 0s 78us/sample - loss: 0.4347 - accuracy: 0.8000\n",
      "Epoch 38/100\n",
      "2635/2635 [==============================] - 0s 85us/sample - loss: 0.4333 - accuracy: 0.7977\n",
      "Epoch 39/100\n",
      "2635/2635 [==============================] - 0s 79us/sample - loss: 0.4306 - accuracy: 0.8042\n",
      "Epoch 40/100\n",
      "2635/2635 [==============================] - 0s 78us/sample - loss: 0.4295 - accuracy: 0.8068\n",
      "Epoch 41/100\n",
      "2635/2635 [==============================] - 0s 79us/sample - loss: 0.4300 - accuracy: 0.8015\n",
      "Epoch 42/100\n",
      "2635/2635 [==============================] - 0s 78us/sample - loss: 0.4299 - accuracy: 0.8027\n",
      "Epoch 43/100\n",
      "2635/2635 [==============================] - 0s 78us/sample - loss: 0.4275 - accuracy: 0.8102\n",
      "Epoch 44/100\n",
      "2635/2635 [==============================] - 0s 78us/sample - loss: 0.4268 - accuracy: 0.8049\n",
      "Epoch 45/100\n",
      "2635/2635 [==============================] - 0s 76us/sample - loss: 0.4272 - accuracy: 0.8080\n",
      "Epoch 46/100\n",
      "2635/2635 [==============================] - 0s 76us/sample - loss: 0.4270 - accuracy: 0.8099\n",
      "Epoch 47/100\n",
      "2635/2635 [==============================] - 0s 79us/sample - loss: 0.4252 - accuracy: 0.8102\n",
      "Epoch 48/100\n",
      "2635/2635 [==============================] - 0s 77us/sample - loss: 0.4246 - accuracy: 0.8034\n",
      "Epoch 49/100\n",
      "2635/2635 [==============================] - 0s 75us/sample - loss: 0.4248 - accuracy: 0.8057\n",
      "Epoch 50/100\n",
      "2635/2635 [==============================] - 0s 84us/sample - loss: 0.4221 - accuracy: 0.8046\n",
      "Epoch 51/100\n",
      "2635/2635 [==============================] - 0s 86us/sample - loss: 0.4214 - accuracy: 0.8083\n",
      "Epoch 52/100\n",
      "2635/2635 [==============================] - 0s 81us/sample - loss: 0.4208 - accuracy: 0.8140\n",
      "Epoch 53/100\n",
      "2635/2635 [==============================] - 0s 78us/sample - loss: 0.4205 - accuracy: 0.8118\n",
      "Epoch 54/100\n",
      "2635/2635 [==============================] - 0s 73us/sample - loss: 0.4192 - accuracy: 0.8178\n",
      "Epoch 55/100\n",
      "2635/2635 [==============================] - 0s 88us/sample - loss: 0.4214 - accuracy: 0.8114\n",
      "Epoch 56/100\n",
      "2635/2635 [==============================] - 0s 78us/sample - loss: 0.4180 - accuracy: 0.8159\n",
      "Epoch 57/100\n",
      "2635/2635 [==============================] - 0s 100us/sample - loss: 0.4200 - accuracy: 0.8072\n",
      "Epoch 58/100\n",
      "2635/2635 [==============================] - 0s 94us/sample - loss: 0.4169 - accuracy: 0.8118\n",
      "Epoch 59/100\n",
      "2635/2635 [==============================] - 0s 90us/sample - loss: 0.4159 - accuracy: 0.8133\n",
      "Epoch 60/100\n",
      "2635/2635 [==============================] - 0s 90us/sample - loss: 0.4174 - accuracy: 0.8159\n",
      "Epoch 61/100\n",
      "2635/2635 [==============================] - 0s 98us/sample - loss: 0.4148 - accuracy: 0.8201\n",
      "Epoch 62/100\n",
      "2635/2635 [==============================] - 0s 91us/sample - loss: 0.4139 - accuracy: 0.8186\n",
      "Epoch 63/100\n",
      "2635/2635 [==============================] - 0s 95us/sample - loss: 0.4144 - accuracy: 0.8163\n",
      "Epoch 64/100\n",
      "2635/2635 [==============================] - 0s 91us/sample - loss: 0.4143 - accuracy: 0.8197\n",
      "Epoch 65/100\n",
      "2635/2635 [==============================] - 0s 96us/sample - loss: 0.4128 - accuracy: 0.8186\n",
      "Epoch 66/100\n",
      "2635/2635 [==============================] - 0s 92us/sample - loss: 0.4118 - accuracy: 0.8182\n",
      "Epoch 67/100\n",
      "2635/2635 [==============================] - 0s 87us/sample - loss: 0.4155 - accuracy: 0.8087\n",
      "Epoch 68/100\n",
      "2635/2635 [==============================] - 0s 84us/sample - loss: 0.4097 - accuracy: 0.8209\n",
      "Epoch 69/100\n",
      "2635/2635 [==============================] - 0s 79us/sample - loss: 0.4107 - accuracy: 0.8201\n",
      "Epoch 70/100\n",
      "2635/2635 [==============================] - 0s 82us/sample - loss: 0.4092 - accuracy: 0.8213\n",
      "Epoch 71/100\n",
      "2635/2635 [==============================] - 0s 80us/sample - loss: 0.4104 - accuracy: 0.8148\n",
      "Epoch 72/100\n",
      "2635/2635 [==============================] - 0s 78us/sample - loss: 0.4113 - accuracy: 0.8197\n",
      "Epoch 73/100\n",
      "2635/2635 [==============================] - 0s 94us/sample - loss: 0.4072 - accuracy: 0.8235\n",
      "Epoch 74/100\n",
      "2635/2635 [==============================] - 0s 101us/sample - loss: 0.4068 - accuracy: 0.8205\n",
      "Epoch 75/100\n"
     ]
    },
    {
     "name": "stdout",
     "output_type": "stream",
     "text": [
      "2635/2635 [==============================] - 0s 101us/sample - loss: 0.4076 - accuracy: 0.8213\n",
      "Epoch 76/100\n",
      "2635/2635 [==============================] - 0s 96us/sample - loss: 0.4064 - accuracy: 0.8209\n",
      "Epoch 77/100\n",
      "2635/2635 [==============================] - 0s 92us/sample - loss: 0.4058 - accuracy: 0.8247\n",
      "Epoch 78/100\n",
      "2635/2635 [==============================] - 0s 99us/sample - loss: 0.4054 - accuracy: 0.8231\n",
      "Epoch 79/100\n",
      "2635/2635 [==============================] - 0s 111us/sample - loss: 0.4053 - accuracy: 0.8235\n",
      "Epoch 80/100\n",
      "2635/2635 [==============================] - 0s 94us/sample - loss: 0.4050 - accuracy: 0.8243\n",
      "Epoch 81/100\n",
      "2635/2635 [==============================] - 0s 95us/sample - loss: 0.4032 - accuracy: 0.8243\n",
      "Epoch 82/100\n",
      "2635/2635 [==============================] - 0s 99us/sample - loss: 0.4032 - accuracy: 0.8205\n",
      "Epoch 83/100\n",
      "2635/2635 [==============================] - 0s 90us/sample - loss: 0.4028 - accuracy: 0.8239\n",
      "Epoch 84/100\n",
      "2635/2635 [==============================] - 0s 78us/sample - loss: 0.4023 - accuracy: 0.8250\n",
      "Epoch 85/100\n",
      "2635/2635 [==============================] - 0s 74us/sample - loss: 0.4017 - accuracy: 0.8292\n",
      "Epoch 86/100\n",
      "2635/2635 [==============================] - 0s 78us/sample - loss: 0.4031 - accuracy: 0.8220\n",
      "Epoch 87/100\n",
      "2635/2635 [==============================] - 0s 102us/sample - loss: 0.4028 - accuracy: 0.8288\n",
      "Epoch 88/100\n",
      "2635/2635 [==============================] - 0s 101us/sample - loss: 0.4002 - accuracy: 0.8285\n",
      "Epoch 89/100\n",
      "2635/2635 [==============================] - 0s 81us/sample - loss: 0.4015 - accuracy: 0.8224\n",
      "Epoch 90/100\n",
      "2635/2635 [==============================] - 0s 76us/sample - loss: 0.3999 - accuracy: 0.8235\n",
      "Epoch 91/100\n",
      "2635/2635 [==============================] - 0s 81us/sample - loss: 0.3987 - accuracy: 0.8266\n",
      "Epoch 92/100\n",
      "2635/2635 [==============================] - 0s 78us/sample - loss: 0.3997 - accuracy: 0.8235\n",
      "Epoch 93/100\n",
      "2635/2635 [==============================] - 0s 94us/sample - loss: 0.3982 - accuracy: 0.8258\n",
      "Epoch 94/100\n",
      "2635/2635 [==============================] - 0s 103us/sample - loss: 0.4013 - accuracy: 0.8194\n",
      "Epoch 95/100\n",
      "2635/2635 [==============================] - 0s 98us/sample - loss: 0.3976 - accuracy: 0.8273\n",
      "Epoch 96/100\n",
      "2635/2635 [==============================] - 0s 94us/sample - loss: 0.3959 - accuracy: 0.8281\n",
      "Epoch 97/100\n",
      "2635/2635 [==============================] - 0s 95us/sample - loss: 0.3950 - accuracy: 0.8235\n",
      "Epoch 98/100\n",
      "2635/2635 [==============================] - 0s 99us/sample - loss: 0.3953 - accuracy: 0.8311\n",
      "Epoch 99/100\n",
      "2635/2635 [==============================] - 0s 94us/sample - loss: 0.3959 - accuracy: 0.8304\n",
      "Epoch 100/100\n",
      "2635/2635 [==============================] - 0s 93us/sample - loss: 0.3943 - accuracy: 0.8231\n",
      "WARNING:tensorflow:Falling back from v2 loop because of error: Failed to find data adapter that can handle input: <class 'pandas.core.frame.DataFrame'>, <class 'NoneType'>\n",
      "              precision    recall  f1-score   support\n",
      "\n",
      "           0       0.90      0.66      0.76      1033\n",
      "           1       0.46      0.79      0.58       374\n",
      "\n",
      "    accuracy                           0.70      1407\n",
      "   macro avg       0.68      0.73      0.67      1407\n",
      "weighted avg       0.78      0.70      0.72      1407\n",
      "\n"
     ]
    }
   ],
   "source": [
    "model_ensemble_3=keras.Sequential([\n",
    "    keras.layers.Dense(20,input_dim=23,activation='relu'),\n",
    "    keras.layers.Dense(15,activation='relu'),\n",
    "    keras.layers.Dense(1,activation='sigmoid')\n",
    "])\n",
    "model_ensemble_3.compile(optimizer='adam',loss='binary_crossentropy', metrics=['accuracy'])\n",
    "model_ensemble_3.fit(ensemble_x3, ensemble_y3,epochs=100)\n",
    "y_pred_ensemble3=model_ensemble_3.predict(X_test)\n",
    "y_pred_ensemble3=y_pred_ensemble3.round()\n",
    "print(classification_report(y_test, y_pred_ensemble3))"
   ]
  },
  {
   "cell_type": "code",
   "execution_count": 164,
   "metadata": {
    "ExecuteTime": {
     "end_time": "2020-10-18T12:36:11.998277Z",
     "start_time": "2020-10-18T12:36:11.985317Z"
    }
   },
   "outputs": [
    {
     "data": {
      "text/plain": [
       "0"
      ]
     },
     "execution_count": 164,
     "metadata": {},
     "output_type": "execute_result"
    }
   ],
   "source": [
    "# Lets see how to calculate the vote majority. Suppose vote_1, vote_2 and vote_3 be the predicted outputs\n",
    "vote_1=0\n",
    "vote_2=0\n",
    "vote_3=0\n",
    "vote_1+vote_2+vote_3"
   ]
  },
  {
   "cell_type": "code",
   "execution_count": 165,
   "metadata": {
    "ExecuteTime": {
     "end_time": "2020-10-18T12:36:20.293185Z",
     "start_time": "2020-10-18T12:36:20.281203Z"
    }
   },
   "outputs": [
    {
     "data": {
      "text/plain": [
       "1"
      ]
     },
     "execution_count": 165,
     "metadata": {},
     "output_type": "execute_result"
    }
   ],
   "source": [
    "vote_1=1\n",
    "vote_2=0\n",
    "vote_3=0\n",
    "vote_1+vote_2+vote_3"
   ]
  },
  {
   "cell_type": "code",
   "execution_count": 166,
   "metadata": {
    "ExecuteTime": {
     "end_time": "2020-10-18T12:36:25.693620Z",
     "start_time": "2020-10-18T12:36:25.687637Z"
    }
   },
   "outputs": [
    {
     "data": {
      "text/plain": [
       "2"
      ]
     },
     "execution_count": 166,
     "metadata": {},
     "output_type": "execute_result"
    }
   ],
   "source": [
    "vote_1=1\n",
    "vote_2=1\n",
    "vote_3=0\n",
    "vote_1+vote_2+vote_3"
   ]
  },
  {
   "cell_type": "code",
   "execution_count": 167,
   "metadata": {
    "ExecuteTime": {
     "end_time": "2020-10-18T12:36:31.387491Z",
     "start_time": "2020-10-18T12:36:31.373509Z"
    }
   },
   "outputs": [
    {
     "data": {
      "text/plain": [
       "3"
      ]
     },
     "execution_count": 167,
     "metadata": {},
     "output_type": "execute_result"
    }
   ],
   "source": [
    "vote_1=1\n",
    "vote_2=1\n",
    "vote_3=1\n",
    "vote_1+vote_2+vote_3"
   ]
  },
  {
   "cell_type": "code",
   "execution_count": 168,
   "metadata": {
    "ExecuteTime": {
     "end_time": "2020-10-18T12:37:07.325805Z",
     "start_time": "2020-10-18T12:37:07.310830Z"
    }
   },
   "outputs": [],
   "source": [
    "# You can see that if the sum of the votes is greater than 1 then our majority is 1 otherwise zero"
   ]
  },
  {
   "cell_type": "code",
   "execution_count": 169,
   "metadata": {
    "ExecuteTime": {
     "end_time": "2020-10-18T12:37:32.045502Z",
     "start_time": "2020-10-18T12:37:32.036076Z"
    }
   },
   "outputs": [
    {
     "data": {
      "text/plain": [
       "((1407, 1), (1407, 1), (1407, 1))"
      ]
     },
     "execution_count": 169,
     "metadata": {},
     "output_type": "execute_result"
    }
   ],
   "source": [
    "y_pred_ensemble1.shape,y_pred_ensemble2.shape,y_pred_ensemble3.shape"
   ]
  },
  {
   "cell_type": "code",
   "execution_count": 172,
   "metadata": {
    "ExecuteTime": {
     "end_time": "2020-10-18T12:40:17.179968Z",
     "start_time": "2020-10-18T12:40:17.175981Z"
    }
   },
   "outputs": [],
   "source": [
    "y_pred_ensemble_final=y_pred_ensemble1+y_pred_ensemble2+y_pred_ensemble3"
   ]
  },
  {
   "cell_type": "code",
   "execution_count": 176,
   "metadata": {
    "ExecuteTime": {
     "end_time": "2020-10-18T12:42:04.960524Z",
     "start_time": "2020-10-18T12:42:04.942552Z"
    }
   },
   "outputs": [],
   "source": [
    "for i in y_pred_ensemble_final:\n",
    "   # print(i[0])\n",
    "    if i[0]>1:\n",
    "        i[0]=1\n",
    "    else:\n",
    "        i[0]=0"
   ]
  },
  {
   "cell_type": "code",
   "execution_count": 177,
   "metadata": {
    "ExecuteTime": {
     "end_time": "2020-10-18T12:42:09.920173Z",
     "start_time": "2020-10-18T12:42:09.900198Z"
    }
   },
   "outputs": [
    {
     "data": {
      "text/plain": [
       "array([[0.],\n",
       "       [0.],\n",
       "       [0.],\n",
       "       ...,\n",
       "       [0.],\n",
       "       [1.],\n",
       "       [1.]], dtype=float32)"
      ]
     },
     "execution_count": 177,
     "metadata": {},
     "output_type": "execute_result"
    }
   ],
   "source": [
    "y_pred_ensemble_final"
   ]
  },
  {
   "cell_type": "code",
   "execution_count": 178,
   "metadata": {
    "ExecuteTime": {
     "end_time": "2020-10-18T12:42:36.122995Z",
     "start_time": "2020-10-18T12:42:36.110738Z"
    }
   },
   "outputs": [
    {
     "name": "stdout",
     "output_type": "stream",
     "text": [
      "              precision    recall  f1-score   support\n",
      "\n",
      "           0       0.90      0.70      0.79      1033\n",
      "           1       0.49      0.79      0.60       374\n",
      "\n",
      "    accuracy                           0.72      1407\n",
      "   macro avg       0.69      0.74      0.69      1407\n",
      "weighted avg       0.79      0.72      0.74      1407\n",
      "\n"
     ]
    }
   ],
   "source": [
    "print(classification_report(y_test,y_pred_ensemble_final))"
   ]
  },
  {
   "cell_type": "code",
   "execution_count": null,
   "metadata": {},
   "outputs": [],
   "source": []
  }
 ],
 "metadata": {
  "kernelspec": {
   "display_name": "Python 3",
   "language": "python",
   "name": "python3"
  },
  "language_info": {
   "codemirror_mode": {
    "name": "ipython",
    "version": 3
   },
   "file_extension": ".py",
   "mimetype": "text/x-python",
   "name": "python",
   "nbconvert_exporter": "python",
   "pygments_lexer": "ipython3",
   "version": "3.7.7"
  }
 },
 "nbformat": 4,
 "nbformat_minor": 4
}
