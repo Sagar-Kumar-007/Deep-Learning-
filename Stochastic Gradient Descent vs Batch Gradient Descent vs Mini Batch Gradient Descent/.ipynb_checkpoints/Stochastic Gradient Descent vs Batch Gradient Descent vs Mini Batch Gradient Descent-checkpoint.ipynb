{
 "cells": [
  {
   "cell_type": "markdown",
   "metadata": {},
   "source": [
    "***Batch Gradient Descent:***<br>\n",
    "In Batch Gradient Descent, we go through all the training samples and predict the outcomes. Then we find the **cumulative error** i.e., we find individual losses and then take a mean of it. After this we **back propagate and adjust our weights and bias such that after the next epoch we get a loss which is less than the previous loss**. We adjust our weights by subtracting it with a derivative of the cost function with respect to the weights multiplied with a learning rate (generally 0.01)."
   ]
  },
  {
   "cell_type": "markdown",
   "metadata": {},
   "source": [
    "***Stochastic Gradient Descent:***<br>\n",
    "In Batch Gradient Descent, we go through all the training samples and even find their derivatives. Now suppose that we have a large training sample. Since the training sample is large, finding its derivative values will also become tedious. Not only that, if we had more number of features, it will also effect the computation power. Hence, to avoid this, we came up with Stochastic Gradient Descent. In Stochastic Gradient Descent, we take each training sample and find the predicted outcome. Then we find its loss and according to that we back propagate and adjust the weights. **Here, we are not finding the cumulative error rather we are just taking a random sample and then finding its loss and adjusting the weights and then repeating the whole process.**"
   ]
  },
  {
   "cell_type": "markdown",
   "metadata": {},
   "source": [
    "<img src=\"sgdvsbgd.jpg\">"
   ]
  },
  {
   "cell_type": "markdown",
   "metadata": {},
   "source": [
    "From the graph we can conclude that Batch Gradient Descent is better when compared to Stochastic Gradient Descent when there is no constrained Computation power but if your computation power has limits, you can go with stochastic gradient descent."
   ]
  },
  {
   "cell_type": "markdown",
   "metadata": {},
   "source": [
    "***Mini Batch Gradient Descent:***<br>\n",
    "Mini Batch Gradient Descent is similar to Stochastic Gradient Descent (SGD). Here, instead of choosing one random sample, we choose a batch of randomly picked training samples. Example: Consider we have 20 training samples. We randomly pick 5 training samples and then find the cumulative error for those 5 and then back propagate and adjust the weights/bias. We repeat this process till our loss becomes very small."
   ]
  },
  {
   "cell_type": "markdown",
   "metadata": {},
   "source": [
    "<img src=\"summary.jpg\">"
   ]
  },
  {
   "cell_type": "code",
   "execution_count": 1,
   "metadata": {
    "ExecuteTime": {
     "end_time": "2020-10-09T09:39:14.831549Z",
     "start_time": "2020-10-09T09:39:13.949350Z"
    }
   },
   "outputs": [],
   "source": [
    "import pandas as pd\n",
    "import numpy as np"
   ]
  },
  {
   "cell_type": "code",
   "execution_count": 2,
   "metadata": {
    "ExecuteTime": {
     "end_time": "2020-10-09T09:39:14.876944Z",
     "start_time": "2020-10-09T09:39:14.835414Z"
    }
   },
   "outputs": [
    {
     "data": {
      "text/html": [
       "<div>\n",
       "<style scoped>\n",
       "    .dataframe tbody tr th:only-of-type {\n",
       "        vertical-align: middle;\n",
       "    }\n",
       "\n",
       "    .dataframe tbody tr th {\n",
       "        vertical-align: top;\n",
       "    }\n",
       "\n",
       "    .dataframe thead th {\n",
       "        text-align: right;\n",
       "    }\n",
       "</style>\n",
       "<table border=\"1\" class=\"dataframe\">\n",
       "  <thead>\n",
       "    <tr style=\"text-align: right;\">\n",
       "      <th></th>\n",
       "      <th>area</th>\n",
       "      <th>bedrooms</th>\n",
       "      <th>price</th>\n",
       "    </tr>\n",
       "  </thead>\n",
       "  <tbody>\n",
       "    <tr>\n",
       "      <th>0</th>\n",
       "      <td>1056</td>\n",
       "      <td>2</td>\n",
       "      <td>39.07</td>\n",
       "    </tr>\n",
       "    <tr>\n",
       "      <th>1</th>\n",
       "      <td>2600</td>\n",
       "      <td>4</td>\n",
       "      <td>120.00</td>\n",
       "    </tr>\n",
       "    <tr>\n",
       "      <th>2</th>\n",
       "      <td>1440</td>\n",
       "      <td>3</td>\n",
       "      <td>62.00</td>\n",
       "    </tr>\n",
       "    <tr>\n",
       "      <th>3</th>\n",
       "      <td>1521</td>\n",
       "      <td>3</td>\n",
       "      <td>75.00</td>\n",
       "    </tr>\n",
       "    <tr>\n",
       "      <th>4</th>\n",
       "      <td>1200</td>\n",
       "      <td>2</td>\n",
       "      <td>51.00</td>\n",
       "    </tr>\n",
       "  </tbody>\n",
       "</table>\n",
       "</div>"
      ],
      "text/plain": [
       "   area  bedrooms   price\n",
       "0  1056         2   39.07\n",
       "1  2600         4  120.00\n",
       "2  1440         3   62.00\n",
       "3  1521         3   75.00\n",
       "4  1200         2   51.00"
      ]
     },
     "execution_count": 2,
     "metadata": {},
     "output_type": "execute_result"
    }
   ],
   "source": [
    "df=pd.read_csv('homeprices_banglore.csv')\n",
    "df.head()"
   ]
  },
  {
   "cell_type": "code",
   "execution_count": 3,
   "metadata": {
    "ExecuteTime": {
     "end_time": "2020-10-09T09:39:14.907861Z",
     "start_time": "2020-10-09T09:39:14.887160Z"
    }
   },
   "outputs": [],
   "source": [
    "X=df.drop(columns='price')\n",
    "y=df['price']"
   ]
  },
  {
   "cell_type": "code",
   "execution_count": 4,
   "metadata": {
    "ExecuteTime": {
     "end_time": "2020-10-09T09:39:15.762313Z",
     "start_time": "2020-10-09T09:39:14.911850Z"
    }
   },
   "outputs": [],
   "source": [
    "from sklearn.preprocessing import MinMaxScaler"
   ]
  },
  {
   "cell_type": "code",
   "execution_count": 5,
   "metadata": {
    "ExecuteTime": {
     "end_time": "2020-10-09T09:39:15.777484Z",
     "start_time": "2020-10-09T09:39:15.765269Z"
    }
   },
   "outputs": [],
   "source": [
    "scale_x=MinMaxScaler()"
   ]
  },
  {
   "cell_type": "code",
   "execution_count": 6,
   "metadata": {
    "ExecuteTime": {
     "end_time": "2020-10-09T09:39:15.823411Z",
     "start_time": "2020-10-09T09:39:15.781507Z"
    }
   },
   "outputs": [
    {
     "data": {
      "text/plain": [
       "array([[0.08827586, 0.25      ],\n",
       "       [0.62068966, 0.75      ],\n",
       "       [0.22068966, 0.5       ],\n",
       "       [0.24862069, 0.5       ],\n",
       "       [0.13793103, 0.25      ],\n",
       "       [0.12758621, 0.25      ],\n",
       "       [0.6662069 , 0.75      ],\n",
       "       [0.86206897, 0.75      ],\n",
       "       [0.17586207, 0.5       ],\n",
       "       [1.        , 1.        ],\n",
       "       [0.34482759, 0.5       ],\n",
       "       [0.68448276, 0.75      ],\n",
       "       [0.06896552, 0.25      ],\n",
       "       [0.10344828, 0.25      ],\n",
       "       [0.5       , 0.5       ],\n",
       "       [0.12931034, 0.25      ],\n",
       "       [0.13103448, 0.5       ],\n",
       "       [0.25517241, 0.5       ],\n",
       "       [0.67931034, 0.5       ],\n",
       "       [0.        , 0.        ]])"
      ]
     },
     "execution_count": 6,
     "metadata": {},
     "output_type": "execute_result"
    }
   ],
   "source": [
    "X_scaled=scale_x.fit_transform(X)\n",
    "X_scaled"
   ]
  },
  {
   "cell_type": "code",
   "execution_count": 7,
   "metadata": {
    "ExecuteTime": {
     "end_time": "2020-10-09T09:39:15.838357Z",
     "start_time": "2020-10-09T09:39:15.828847Z"
    }
   },
   "outputs": [
    {
     "data": {
      "text/plain": [
       "(20, 3)"
      ]
     },
     "execution_count": 7,
     "metadata": {},
     "output_type": "execute_result"
    }
   ],
   "source": [
    "df.shape"
   ]
  },
  {
   "cell_type": "code",
   "execution_count": 8,
   "metadata": {
    "ExecuteTime": {
     "end_time": "2020-10-09T09:39:15.868242Z",
     "start_time": "2020-10-09T09:39:15.842311Z"
    }
   },
   "outputs": [
    {
     "data": {
      "text/plain": [
       "0      39.07\n",
       "1     120.00\n",
       "2      62.00\n",
       "3      75.00\n",
       "4      51.00\n",
       "5      38.00\n",
       "6     135.00\n",
       "7     155.00\n",
       "8      50.00\n",
       "9     167.00\n",
       "10     82.00\n",
       "11    140.00\n",
       "12     38.00\n",
       "13     40.00\n",
       "14    101.00\n",
       "15     42.00\n",
       "16     48.00\n",
       "17     60.00\n",
       "18    102.00\n",
       "19     32.00\n",
       "Name: price, dtype: float64"
      ]
     },
     "execution_count": 8,
     "metadata": {},
     "output_type": "execute_result"
    }
   ],
   "source": [
    "y"
   ]
  },
  {
   "cell_type": "code",
   "execution_count": 9,
   "metadata": {
    "ExecuteTime": {
     "end_time": "2020-10-09T09:39:15.899159Z",
     "start_time": "2020-10-09T09:39:15.871235Z"
    }
   },
   "outputs": [
    {
     "data": {
      "text/plain": [
       "array([ 39.07, 120.  ,  62.  ,  75.  ,  51.  ,  38.  , 135.  , 155.  ,\n",
       "        50.  , 167.  ,  82.  , 140.  ,  38.  ,  40.  , 101.  ,  42.  ,\n",
       "        48.  ,  60.  , 102.  ,  32.  ])"
      ]
     },
     "execution_count": 9,
     "metadata": {},
     "output_type": "execute_result"
    }
   ],
   "source": [
    "y.values"
   ]
  },
  {
   "cell_type": "code",
   "execution_count": 10,
   "metadata": {
    "ExecuteTime": {
     "end_time": "2020-10-09T09:39:15.929141Z",
     "start_time": "2020-10-09T09:39:15.903369Z"
    }
   },
   "outputs": [
    {
     "data": {
      "text/plain": [
       "array([[0.05237037],\n",
       "       [0.65185185],\n",
       "       [0.22222222],\n",
       "       [0.31851852],\n",
       "       [0.14074074],\n",
       "       [0.04444444],\n",
       "       [0.76296296],\n",
       "       [0.91111111],\n",
       "       [0.13333333],\n",
       "       [1.        ],\n",
       "       [0.37037037],\n",
       "       [0.8       ],\n",
       "       [0.04444444],\n",
       "       [0.05925926],\n",
       "       [0.51111111],\n",
       "       [0.07407407],\n",
       "       [0.11851852],\n",
       "       [0.20740741],\n",
       "       [0.51851852],\n",
       "       [0.        ]])"
      ]
     },
     "execution_count": 10,
     "metadata": {},
     "output_type": "execute_result"
    }
   ],
   "source": [
    "scale_y=MinMaxScaler()\n",
    "y_scaled=scale_y.fit_transform(y.values.reshape(20,1)) # We took values because it is of array type and reshape works on an array\n",
    "y_scaled"
   ]
  },
  {
   "cell_type": "code",
   "execution_count": 11,
   "metadata": {
    "ExecuteTime": {
     "end_time": "2020-10-09T09:39:15.958999Z",
     "start_time": "2020-10-09T09:39:15.934097Z"
    }
   },
   "outputs": [],
   "source": [
    "# Implementing Batch gradient descent from scratch with multiple features\n",
    "def batch_gradient_descent(X,y_true,epochs,learning_rate=0.01):\n",
    "    # Initializing the weights and bias\n",
    "    w=np.ones(shape=X.shape[1]) # We are initializing the weights to ones. Here the weights is  an array of the size of the features.\n",
    "    bias=0\n",
    "    total_samples=X.shape[0]\n",
    "    # We will be storing the values of every 10th epoch and cost in order to draw its graph\n",
    "    cost_list=[]\n",
    "    epoch_list=[]\n",
    "    \n",
    "    for i in range(epochs):\n",
    "        y_pred=np.dot(w,X.T)+bias # i.e., w1*x1+w2*x2+... # X.T ==> X transpose\n",
    "        # Lets find its cost\n",
    "        # For this problem, we are using MSE as our cost function\n",
    "        cost=np.mean(np.square(y_true-y_pred))\n",
    "        \n",
    "        # Now find the derivatives so that we can find the new weights and bias\n",
    "        w_derivative=-(2/total_samples)*(np.dot(X.T,(y_true-y_pred)))\n",
    "        bias_derivative=-(2/total_samples)*(np.sum(y_true-y_pred))\n",
    "        \n",
    "        w=w-learning_rate*w_derivative\n",
    "        bias=bias-learning_rate*bias_derivative\n",
    "        \n",
    "        if i%10==0:\n",
    "            cost_list.append(cost)\n",
    "            epoch_list.append(i)\n",
    "    \n",
    "    return w, bias, cost, epoch_list, cost_list"
   ]
  },
  {
   "cell_type": "code",
   "execution_count": 12,
   "metadata": {
    "ExecuteTime": {
     "end_time": "2020-10-09T09:39:15.989952Z",
     "start_time": "2020-10-09T09:39:15.963986Z"
    }
   },
   "outputs": [
    {
     "data": {
      "text/plain": [
       "(20, 1)"
      ]
     },
     "execution_count": 12,
     "metadata": {},
     "output_type": "execute_result"
    }
   ],
   "source": [
    "y_scaled.shape # We need to convert it into 1D array"
   ]
  },
  {
   "cell_type": "code",
   "execution_count": 13,
   "metadata": {
    "ExecuteTime": {
     "end_time": "2020-10-09T09:39:16.004911Z",
     "start_time": "2020-10-09T09:39:15.992912Z"
    }
   },
   "outputs": [
    {
     "data": {
      "text/plain": [
       "array([0.05237037, 0.65185185, 0.22222222, 0.31851852, 0.14074074,\n",
       "       0.04444444, 0.76296296, 0.91111111, 0.13333333, 1.        ,\n",
       "       0.37037037, 0.8       , 0.04444444, 0.05925926, 0.51111111,\n",
       "       0.07407407, 0.11851852, 0.20740741, 0.51851852, 0.        ])"
      ]
     },
     "execution_count": 13,
     "metadata": {},
     "output_type": "execute_result"
    }
   ],
   "source": [
    "y_scaled.reshape(20)"
   ]
  },
  {
   "cell_type": "code",
   "execution_count": 14,
   "metadata": {
    "ExecuteTime": {
     "end_time": "2020-10-09T09:39:16.081892Z",
     "start_time": "2020-10-09T09:39:16.008867Z"
    }
   },
   "outputs": [],
   "source": [
    "w,bias,cost,epoch_list,cost_list=batch_gradient_descent(X_scaled,y_scaled.reshape(20),500)"
   ]
  },
  {
   "cell_type": "code",
   "execution_count": 15,
   "metadata": {
    "ExecuteTime": {
     "end_time": "2020-10-09T09:39:16.112640Z",
     "start_time": "2020-10-09T09:39:16.086980Z"
    }
   },
   "outputs": [
    {
     "data": {
      "text/plain": [
       "(array([0.70712464, 0.67456527]), -0.23034857438407427, 0.0068641890429808105)"
      ]
     },
     "execution_count": 15,
     "metadata": {},
     "output_type": "execute_result"
    }
   ],
   "source": [
    "w,bias,cost"
   ]
  },
  {
   "cell_type": "code",
   "execution_count": 16,
   "metadata": {
    "ExecuteTime": {
     "end_time": "2020-10-09T09:39:16.701395Z",
     "start_time": "2020-10-09T09:39:16.119049Z"
    }
   },
   "outputs": [],
   "source": [
    "import matplotlib.pyplot as plt"
   ]
  },
  {
   "cell_type": "code",
   "execution_count": 17,
   "metadata": {
    "ExecuteTime": {
     "end_time": "2020-10-09T09:39:16.965818Z",
     "start_time": "2020-10-09T09:39:16.705298Z"
    }
   },
   "outputs": [
    {
     "data": {
      "image/png": "[encoded data removed]",
      "text/plain": [
       "<Figure size 432x288 with 1 Axes>"
      ]
     },
     "metadata": {
      "needs_background": "light"
     },
     "output_type": "display_data"
    }
   ],
   "source": [
    "plt.plot(epoch_list,cost_list)\n",
    "plt.xlabel(\"Epoch\")\n",
    "plt.ylabel(\"Cost\")\n",
    "plt.show()"
   ]
  },
  {
   "cell_type": "code",
   "execution_count": 18,
   "metadata": {
    "ExecuteTime": {
     "end_time": "2020-10-09T09:39:16.980485Z",
     "start_time": "2020-10-09T09:39:16.966786Z"
    }
   },
   "outputs": [],
   "source": [
    "# We use fit_transform in minmax scaler to fit the object and then transform it to a df. Similarly transform is used to transform\n",
    "# data and inverse_tranform is used to convert the transformed data into original data."
   ]
  },
  {
   "cell_type": "code",
   "execution_count": 19,
   "metadata": {
    "ExecuteTime": {
     "end_time": "2020-10-09T09:39:16.995579Z",
     "start_time": "2020-10-09T09:39:16.982483Z"
    }
   },
   "outputs": [],
   "source": [
    "# You can see that the curve appears to be smooth and there is very small difference in the cost when iterations are large."
   ]
  },
  {
   "cell_type": "code",
   "execution_count": 20,
   "metadata": {
    "ExecuteTime": {
     "end_time": "2020-10-09T09:39:17.011374Z",
     "start_time": "2020-10-09T09:39:16.998429Z"
    }
   },
   "outputs": [],
   "source": [
    "# Now lets build the predict function\n",
    "def predict(area,bedroom,w,bias):\n",
    "    # Values are taken from the batch gradient descent.\n",
    "    # Since the area and the bedroom are not scaled, we are going to use our objects that were created to scale the training data\n",
    "    x=scale_x.transform([[area,bedroom]])\n",
    "    price=w[0]*x[0][0]+w[1]*x[0][1]+bias\n",
    "    return scale_y.inverse_transform([[price]])[0][0]"
   ]
  },
  {
   "cell_type": "code",
   "execution_count": 21,
   "metadata": {
    "ExecuteTime": {
     "end_time": "2020-10-09T09:39:17.026824Z",
     "start_time": "2020-10-09T09:39:17.013371Z"
    }
   },
   "outputs": [
    {
     "data": {
      "text/plain": [
       "128.45484403267596"
      ]
     },
     "execution_count": 21,
     "metadata": {},
     "output_type": "execute_result"
    }
   ],
   "source": [
    "predict(2600,4,w,bias)"
   ]
  },
  {
   "cell_type": "code",
   "execution_count": 22,
   "metadata": {
    "ExecuteTime": {
     "end_time": "2020-10-09T09:39:17.042322Z",
     "start_time": "2020-10-09T09:39:17.032320Z"
    }
   },
   "outputs": [],
   "source": [
    "# Now lets implement stochastic gradient descent\n",
    "# Code remains almost the same but here instead of all the samples we pick random individual sample and train\n",
    "def stochastic_gradient_descent(X,y_true,epochs,learning_rate=0.01):\n",
    "    # Initializing the weights and bias\n",
    "    w=np.ones(shape=X.shape[1]) # We are initializing the weights to ones. Here the weights is  an array of the size of the features.\n",
    "    bias=0\n",
    "    total_samples=X.shape[0]\n",
    "    # We will be storing the values of every 10th epoch and cost in order to draw its graph\n",
    "    cost_list=[]\n",
    "    epoch_list=[]\n",
    "    \n",
    "    for i in range(epochs):\n",
    "        # Taking a random index and considering that sample for training\n",
    "        index=np.random.randint(0,total_samples-1)\n",
    "        sample_X=X[index]\n",
    "        sample_y=y_true[index]\n",
    "        y_pred=np.dot(w,sample_X.T)+bias # i.e., w1*x1+w2*x2+... # X.T ==> X transpose\n",
    "        # Lets find its cost\n",
    "        # For this problem, we are using MSE as our cost function\n",
    "        cost=np.mean(np.square(sample_y-y_pred))\n",
    "        \n",
    "        # Now find the derivatives so that we can find the new weights and bias\n",
    "        w_derivative=-(2/total_samples)*(np.dot(sample_X.T,(sample_y-y_pred)))\n",
    "        bias_derivative=-(2/total_samples)*(np.sum(sample_y-y_pred))\n",
    "        \n",
    "        w=w-learning_rate*w_derivative\n",
    "        bias=bias-learning_rate*bias_derivative\n",
    "        if i%10==0:\n",
    "            cost_list.append(cost)\n",
    "            epoch_list.append(i)\n",
    "    \n",
    "    return w, bias, cost, epoch_list, cost_list"
   ]
  },
  {
   "cell_type": "code",
   "execution_count": 23,
   "metadata": {
    "ExecuteTime": {
     "end_time": "2020-10-09T09:39:17.435415Z",
     "start_time": "2020-10-09T09:39:17.045283Z"
    }
   },
   "outputs": [],
   "source": [
    "w_sgd,bias_sgd,cost_sgd,epoch_list_sgd,cost_list_sgd=stochastic_gradient_descent(X_scaled,y_scaled.reshape(20),10000)"
   ]
  },
  {
   "cell_type": "code",
   "execution_count": 24,
   "metadata": {
    "ExecuteTime": {
     "end_time": "2020-10-09T09:39:17.588628Z",
     "start_time": "2020-10-09T09:39:17.437441Z"
    }
   },
   "outputs": [
    {
     "data": {
      "image/png": "[encoded data removed]",
      "text/plain": [
       "<Figure size 432x288 with 1 Axes>"
      ]
     },
     "metadata": {
      "needs_background": "light"
     },
     "output_type": "display_data"
    }
   ],
   "source": [
    "plt.plot(epoch_list_sgd,cost_list_sgd)\n",
    "plt.xlabel(\"Epoch\")\n",
    "plt.ylabel(\"Cost\")\n",
    "plt.show()"
   ]
  },
  {
   "cell_type": "code",
   "execution_count": 25,
   "metadata": {
    "ExecuteTime": {
     "end_time": "2020-10-09T09:39:17.604195Z",
     "start_time": "2020-10-09T09:39:17.589745Z"
    }
   },
   "outputs": [],
   "source": [
    "# Generally we use more epochs while using SGD."
   ]
  },
  {
   "cell_type": "code",
   "execution_count": 26,
   "metadata": {
    "ExecuteTime": {
     "end_time": "2020-10-09T09:39:17.620124Z",
     "start_time": "2020-10-09T09:39:17.606132Z"
    }
   },
   "outputs": [
    {
     "data": {
      "text/plain": [
       "128.890163191849"
      ]
     },
     "execution_count": 26,
     "metadata": {},
     "output_type": "execute_result"
    }
   ],
   "source": [
    "predict(2600,4,w_sgd,bias_sgd)"
   ]
  },
  {
   "cell_type": "code",
   "execution_count": 27,
   "metadata": {
    "ExecuteTime": {
     "end_time": "2020-10-09T09:39:17.636051Z",
     "start_time": "2020-10-09T09:39:17.622090Z"
    }
   },
   "outputs": [],
   "source": [
    "# You can see that both SGD and BGD is giving almost same value"
   ]
  },
  {
   "cell_type": "code",
   "execution_count": 28,
   "metadata": {
    "ExecuteTime": {
     "end_time": "2020-10-09T09:39:17.667200Z",
     "start_time": "2020-10-09T09:39:17.638048Z"
    }
   },
   "outputs": [],
   "source": [
    "# Mini Batch Gradient"
   ]
  },
  {
   "cell_type": "code",
   "execution_count": 33,
   "metadata": {
    "ExecuteTime": {
     "end_time": "2020-10-09T09:39:28.983449Z",
     "start_time": "2020-10-09T09:39:28.951840Z"
    }
   },
   "outputs": [],
   "source": [
    "def mini_batch_gradient(X,y_true,epochs=100,batch_size=5,learning_rate=0.01):\n",
    "    w=np.ones(X.shape[1])\n",
    "    bias=0\n",
    "    cost_list=[]\n",
    "    epochs_list=[]\n",
    "    total_samples=X.shape[0]\n",
    "    \n",
    "    if batch_size>total_samples:\n",
    "        batch_size=total_samples\n",
    "    \n",
    "    for i in range(epochs):\n",
    "        permutated_indeces=np.random.permutation(total_samples)  # Permuting the indeces to shuffle the samples.\n",
    "        X_permutated=X[permutated_indeces]\n",
    "        y_permutated=y_true[permutated_indeces]\n",
    "        \n",
    "        for j in range(0,total_samples,batch_size):   # After shuffling the X and y, we make batches out of it.\n",
    "            X_batch=X_permutated[j:j+batch_size]\n",
    "            y_batch=y_permutated[j:j+batch_size]\n",
    "        \n",
    "            y_pred=np.dot(w,X_batch.T)+bias\n",
    "        \n",
    "            cost=np.mean(np.square(y_pred-y_batch))\n",
    "        \n",
    "            # Now find the derivatives so that we can find the new weights and bias\n",
    "            w_derivative=-(2/len(X_batch))*(np.dot(X_batch.T,(y_batch-y_pred)))\n",
    "            bias_derivative=-(2/len(X_batch))*(np.sum(y_batch-y_pred))\n",
    "        \n",
    "            w=w-learning_rate*w_derivative\n",
    "            bias=bias-learning_rate*bias_derivative\n",
    "        \n",
    "        if i%10==0:\n",
    "            cost_list.append(cost)\n",
    "            epochs_list.append(i)\n",
    "    return w,bias,epochs_list, cost_list,cost"
   ]
  },
  {
   "cell_type": "code",
   "execution_count": 58,
   "metadata": {
    "ExecuteTime": {
     "end_time": "2020-10-09T09:44:18.091654Z",
     "start_time": "2020-10-09T09:44:17.015899Z"
    }
   },
   "outputs": [],
   "source": [
    "w_mbgd,bias_mbgd,epoch_list_mbgd,cost_list_mbgd,cost_mbgd=mini_batch_gradient(X_scaled,y_scaled.reshape(20),10000,50)"
   ]
  },
  {
   "cell_type": "code",
   "execution_count": 59,
   "metadata": {
    "ExecuteTime": {
     "end_time": "2020-10-09T09:44:18.107069Z",
     "start_time": "2020-10-09T09:44:18.093547Z"
    }
   },
   "outputs": [
    {
     "data": {
      "text/plain": [
       "(1000, 1000)"
      ]
     },
     "execution_count": 59,
     "metadata": {},
     "output_type": "execute_result"
    }
   ],
   "source": [
    "len(epoch_list_mbgd),len(cost_list_mbgd)"
   ]
  },
  {
   "cell_type": "code",
   "execution_count": 60,
   "metadata": {
    "ExecuteTime": {
     "end_time": "2020-10-09T09:44:20.545763Z",
     "start_time": "2020-10-09T09:44:20.309574Z"
    }
   },
   "outputs": [
    {
     "data": {
      "image/png": "[encoded data removed]",
      "text/plain": [
       "<Figure size 432x288 with 1 Axes>"
      ]
     },
     "metadata": {
      "needs_background": "light"
     },
     "output_type": "display_data"
    }
   ],
   "source": [
    "plt.plot(epoch_list_mbgd,cost_list_mbgd)\n",
    "plt.xlabel(\"Epoch\")\n",
    "plt.ylabel(\"Cost\")\n",
    "plt.show()"
   ]
  },
  {
   "cell_type": "code",
   "execution_count": 61,
   "metadata": {
    "ExecuteTime": {
     "end_time": "2020-10-09T09:44:21.743856Z",
     "start_time": "2020-10-09T09:44:21.730778Z"
    }
   },
   "outputs": [],
   "source": [
    "# You can see that we do not get a smooth curve for small iterations and a smooth curve for large iterations."
   ]
  },
  {
   "cell_type": "code",
   "execution_count": 62,
   "metadata": {
    "ExecuteTime": {
     "end_time": "2020-10-09T09:44:22.097889Z",
     "start_time": "2020-10-09T09:44:22.081712Z"
    }
   },
   "outputs": [
    {
     "data": {
      "text/plain": [
       "120.69441413246746"
      ]
     },
     "execution_count": 62,
     "metadata": {},
     "output_type": "execute_result"
    }
   ],
   "source": [
    "predict(2600,4,w_mbgd,bias_mbgd)"
   ]
  },
  {
   "cell_type": "code",
   "execution_count": null,
   "metadata": {},
   "outputs": [],
   "source": [
    "# This value is closest to the original value."
   ]
  }
 ],
 "metadata": {
  "kernelspec": {
   "display_name": "Python 3",
   "language": "python",
   "name": "python3"
  },
  "language_info": {
   "codemirror_mode": {
    "name": "ipython",
    "version": 3
   },
   "file_extension": ".py",
   "mimetype": "text/x-python",
   "name": "python",
   "nbconvert_exporter": "python",
   "pygments_lexer": "ipython3",
   "version": "3.7.7"
  }
 },
 "nbformat": 4,
 "nbformat_minor": 4
}
