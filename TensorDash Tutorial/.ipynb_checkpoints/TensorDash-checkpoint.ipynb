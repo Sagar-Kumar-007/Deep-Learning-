{
 "cells": [
  {
   "cell_type": "code",
   "execution_count": 1,
   "metadata": {
    "ExecuteTime": {
     "end_time": "2020-10-27T09:12:28.600455Z",
     "start_time": "2020-10-27T09:12:22.040417Z"
    }
   },
   "outputs": [],
   "source": [
    "import tensorflow as tf\n",
    "from tensorflow import keras\n",
    "import numpy as np\n",
    "import matplotlib.pyplot as plt"
   ]
  },
  {
   "cell_type": "code",
   "execution_count": 2,
   "metadata": {
    "ExecuteTime": {
     "end_time": "2020-10-27T09:12:29.261507Z",
     "start_time": "2020-10-27T09:12:28.604299Z"
    }
   },
   "outputs": [],
   "source": [
    "(x_train, y_train),(x_test, y_test)=keras.datasets.mnist.load_data()"
   ]
  },
  {
   "cell_type": "code",
   "execution_count": 3,
   "metadata": {
    "ExecuteTime": {
     "end_time": "2020-10-27T09:12:29.290991Z",
     "start_time": "2020-10-27T09:12:29.271485Z"
    }
   },
   "outputs": [
    {
     "data": {
      "text/plain": [
       "(60000, 28, 28)"
      ]
     },
     "execution_count": 3,
     "metadata": {},
     "output_type": "execute_result"
    }
   ],
   "source": [
    "x_train.shape"
   ]
  },
  {
   "cell_type": "code",
   "execution_count": 4,
   "metadata": {
    "ExecuteTime": {
     "end_time": "2020-10-27T09:12:29.322316Z",
     "start_time": "2020-10-27T09:12:29.293501Z"
    }
   },
   "outputs": [
    {
     "data": {
      "text/plain": [
       "(60000,)"
      ]
     },
     "execution_count": 4,
     "metadata": {},
     "output_type": "execute_result"
    }
   ],
   "source": [
    "y_train.shape"
   ]
  },
  {
   "cell_type": "code",
   "execution_count": 5,
   "metadata": {
    "ExecuteTime": {
     "end_time": "2020-10-27T09:12:29.335669Z",
     "start_time": "2020-10-27T09:12:29.327192Z"
    }
   },
   "outputs": [],
   "source": [
    "x_train=x_train.reshape(x_train.shape+(1,))"
   ]
  },
  {
   "cell_type": "code",
   "execution_count": 6,
   "metadata": {
    "ExecuteTime": {
     "end_time": "2020-10-27T09:12:29.364978Z",
     "start_time": "2020-10-27T09:12:29.339933Z"
    }
   },
   "outputs": [
    {
     "data": {
      "text/plain": [
       "(60000, 28, 28, 1)"
      ]
     },
     "execution_count": 6,
     "metadata": {},
     "output_type": "execute_result"
    }
   ],
   "source": [
    "x_train.shape"
   ]
  },
  {
   "cell_type": "code",
   "execution_count": 7,
   "metadata": {
    "ExecuteTime": {
     "end_time": "2020-10-27T09:12:29.390518Z",
     "start_time": "2020-10-27T09:12:29.371566Z"
    }
   },
   "outputs": [],
   "source": [
    "x_test=x_test.reshape(x_test.shape+(1,))"
   ]
  },
  {
   "cell_type": "code",
   "execution_count": 8,
   "metadata": {
    "ExecuteTime": {
     "end_time": "2020-10-27T09:12:29.422118Z",
     "start_time": "2020-10-27T09:12:29.395539Z"
    }
   },
   "outputs": [
    {
     "data": {
      "text/plain": [
       "(10000, 28, 28, 1)"
      ]
     },
     "execution_count": 8,
     "metadata": {},
     "output_type": "execute_result"
    }
   ],
   "source": [
    "x_test.shape"
   ]
  },
  {
   "cell_type": "code",
   "execution_count": 9,
   "metadata": {
    "ExecuteTime": {
     "end_time": "2020-10-27T09:12:29.452421Z",
     "start_time": "2020-10-27T09:12:29.425693Z"
    }
   },
   "outputs": [],
   "source": [
    "# Importing TensorDash\n",
    "from tensordash.tensordash import Tensordash"
   ]
  },
  {
   "cell_type": "code",
   "execution_count": 10,
   "metadata": {
    "ExecuteTime": {
     "end_time": "2020-10-27T09:12:33.188345Z",
     "start_time": "2020-10-27T09:12:29.457611Z"
    }
   },
   "outputs": [
    {
     "name": "stdout",
     "output_type": "stream",
     "text": [
      "Enter Tensordash Password :········\n"
     ]
    }
   ],
   "source": [
    "# Give the details to a variable which will later be called in the neural network so that we get the updates through the\n",
    "# TensorDash app in our cell phones\n",
    "histories= Tensordash(ModelName='Testing_TensorDash',\n",
    "                     email='sk8814594@gmail.com')"
   ]
  },
  {
   "cell_type": "code",
   "execution_count": 11,
   "metadata": {
    "ExecuteTime": {
     "end_time": "2020-10-27T09:12:36.291034Z",
     "start_time": "2020-10-27T09:12:33.192232Z"
    }
   },
   "outputs": [],
   "source": [
    "model=keras.Sequential([\n",
    "    # padding='valid' ==> no padding, 'same' ==> padding is present\n",
    "    keras.layers.Conv2D(filters=32,kernel_size=3,padding='same',activation='relu',input_shape=(28,28,1)),\n",
    "    keras.layers.Conv2D(filters=32,kernel_size=3,padding='same',activation='relu'),\n",
    "    keras.layers.MaxPooling2D(),\n",
    "    \n",
    "    keras.layers.Flatten(),\n",
    "    keras.layers.Dense(30,activation='relu'),\n",
    "    keras.layers.Dense(10,activation='softmax')\n",
    "])\n",
    "model.compile(optimizer='adam',loss='sparse_categorical_crossentropy',metrics=['accuracy'])"
   ]
  },
  {
   "cell_type": "code",
   "execution_count": 12,
   "metadata": {
    "ExecuteTime": {
     "end_time": "2020-10-27T09:13:31.567144Z",
     "start_time": "2020-10-27T09:12:36.294994Z"
    }
   },
   "outputs": [
    {
     "name": "stdout",
     "output_type": "stream",
     "text": [
      "Train on 60000 samples, validate on 10000 samples\n",
      "Epoch 1/2\n",
      "60000/60000 [==============================] - 24s 404us/sample - loss: 0.4908 - accuracy: 0.8588 - val_loss: 0.0886 - val_accuracy: 0.9755\n",
      "Epoch 2/2\n",
      "60000/60000 [==============================] - 23s 389us/sample - loss: 0.0739 - accuracy: 0.9786 - val_loss: 0.0759 - val_accuracy: 0.9780\n"
     ]
    },
    {
     "data": {
      "text/plain": [
       "<tensorflow.python.keras.callbacks.History at 0x1800481c3c8>"
      ]
     },
     "execution_count": 12,
     "metadata": {},
     "output_type": "execute_result"
    }
   ],
   "source": [
    "# Here, you must pass the histories variable\n",
    "model.fit(x_train,y_train,epochs=2,validation_data=(x_test,y_test),callbacks=[histories])"
   ]
  },
  {
   "cell_type": "code",
   "execution_count": null,
   "metadata": {},
   "outputs": [],
   "source": []
  }
 ],
 "metadata": {
  "kernelspec": {
   "display_name": "Python 3",
   "language": "python",
   "name": "python3"
  },
  "language_info": {
   "codemirror_mode": {
    "name": "ipython",
    "version": 3
   },
   "file_extension": ".py",
   "mimetype": "text/x-python",
   "name": "python",
   "nbconvert_exporter": "python",
   "pygments_lexer": "ipython3",
   "version": "3.7.7"
  }
 },
 "nbformat": 4,
 "nbformat_minor": 4
}
