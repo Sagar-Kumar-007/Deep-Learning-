{
 "cells": [
  {
   "cell_type": "markdown",
   "metadata": {},
   "source": [
    "[***LSTM Explaination***](https://colah.github.io/posts/2015-08-Understanding-LSTMs/)"
   ]
  },
  {
   "cell_type": "markdown",
   "metadata": {},
   "source": [
    "***RNN:***<br>\n",
    "<img src='rnn_1.png' width=500><br>\n",
    "***LSTM RNN:***<br>\n",
    "<img src='lstm.png'><br>\n",
    "Where<br>\n",
    "<img src='c.png'>"
   ]
  },
  {
   "cell_type": "markdown",
   "metadata": {},
   "source": [
    "***LSTM consists of four cells:***\n",
    "1. Memory Cell (M.C)\n",
    "2. Forget Gate (F.C)\n",
    "3. Input layer (IN)\n",
    "4. Output layer (OUT)"
   ]
  },
  {
   "cell_type": "markdown",
   "metadata": {},
   "source": [
    "<img src='b.jpg'>"
   ]
  },
  {
   "cell_type": "markdown",
   "metadata": {},
   "source": [
    "***Memory Cell:***<br>\n",
    "Memory cell is used to remember and forget things based on the context of the input. Ex: My name is Sagar and I am 18 years old. My brother name is Shashank and he is 23 years old. For the first sentence, the model will be remember things like my name and the age. Now when the second sentence is added, it must also remember that my name was Sagar and then it must also remember that my brother name is Shashank. For some sentences, which does not have meanings that are of much importance, it can forget them.<br>\n",
    "<img src='d.png'><br>\n",
    "The output of the previous neuron Ct-1 and the new input (all the inputs are in the form of matrix) is sent to the memory cell and then through pointwise multiplication operation, these both are multiplied (it is multiplied in the following way: aij*bij and not like the general matrix multiplication) and you get the result as a vector. If the vector contains numbers like zero, then it means to forget that particular word or information. Since, it forgets some information, we can add new information in that place and that is done when you go through the pointwise addition operation."
   ]
  },
  {
   "cell_type": "markdown",
   "metadata": {},
   "source": [
    "***Forget Gate:***<br>\n",
    "<img src='e.png'>\n",
    "The input ht-1 is the vector of the previous output and the xi is the new input. Both the inputs are concatenated forming a function which is similar to that of y=mx+c, and then the result after concatenation (result is in the form of a vector) is passed to the sigmoid function. If the previous output and the new input are similar in context, then the sigmoid will give it a value one or else it will become zero. Hence, when this vector is passed to the memory cell, if the value is zero, the information is forgotten or else the information is stored. Everything will not be forgotten (if the context is different) but some of the information will be forgotten. This whole thing is called Cell State."
   ]
  },
  {
   "cell_type": "markdown",
   "metadata": {},
   "source": [
    "***Input Layer:***<br>\n",
    "<img src='f.png'><br>\n",
    "Now the function with the concatenated input and the previous output is passed to the sigmoid and tanh function. The value of the sigmoid function will be between 0 and 1 and that of tanh is between -1 and +1. Hence, using pointwise multiplication operation creates a vector with information which are related to one another i.e., value is not zero and then passed to the pointwise addition operation of the memory cell. Here, ***the information is being added.***"
   ]
  },
  {
   "cell_type": "markdown",
   "metadata": {},
   "source": [
    "***Output Layer:***<br>\n",
    "<img src='g.png'><br>\n",
    "Here, the concatenated information (after applying sigmoid function) and the information from the memory cell (after applying tanh function) is multiplied using the pointwise multiplication operator. Then it is sent to the output."
   ]
  }
 ],
 "metadata": {
  "kernelspec": {
   "display_name": "Python 3",
   "language": "python",
   "name": "python3"
  },
  "language_info": {
   "codemirror_mode": {
    "name": "ipython",
    "version": 3
   },
   "file_extension": ".py",
   "mimetype": "text/x-python",
   "name": "python",
   "nbconvert_exporter": "python",
   "pygments_lexer": "ipython3",
   "version": "3.7.7"
  }
 },
 "nbformat": 4,
 "nbformat_minor": 4
}
