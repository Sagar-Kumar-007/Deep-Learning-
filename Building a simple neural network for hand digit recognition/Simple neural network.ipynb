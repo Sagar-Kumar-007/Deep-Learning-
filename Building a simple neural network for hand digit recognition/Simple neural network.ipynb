{
 "cells": [
  {
   "cell_type": "markdown",
   "metadata": {},
   "source": [
    "[Difference between Deep learning and Neural Networks](https://bernardmarr.com/default.asp?contentID=1789)"
   ]
  },
  {
   "cell_type": "markdown",
   "metadata": {},
   "source": [
    "***Example of a nerual network:***\n",
    "<br><br><img src=\"example.png\" width=500>"
   ]
  },
  {
   "cell_type": "markdown",
   "metadata": {},
   "source": [
    "You may observe that every neuron is connected with every other neuron (even if it is not related with it) and hence is called ***Dense Layer of neural network.***"
   ]
  },
  {
   "cell_type": "markdown",
   "metadata": {},
   "source": [
    "***Hand Written Digits:***\n",
    "Lets have a look on our hand written digits dataset where the digits are in 2D matrix format. Since, our layers are in 1D array format we convert this 2D matrix into a single dimension array. To do this we reshape it or use flatten. Our output layer will have 10 neurons because our output will digits from 0-9. We will be using sigmoid function as the activation function in this case and hence our output will be in between 0 to 1.\n",
    "<br><br><img src=\"digits_nn.jpg\" width=500>\n",
    "<br>"
   ]
  },
  {
   "cell_type": "markdown",
   "metadata": {},
   "source": [
    "The output with highest score will fire i.e., it will be our final score."
   ]
  },
  {
   "cell_type": "markdown",
   "metadata": {},
   "source": [
    "You may also observe that our input is a 28*28 grid matrix. We first convert it into a 1D matrix of 784 blocks (since 28*28=784) and then it is sent to training. Similarly we need to convert our test data into 1D array before prediction."
   ]
  },
  {
   "cell_type": "markdown",
   "metadata": {},
   "source": [
    "Since our input data is an image we convert it into 1D matrix. If it was a column of data say age, then there is no need to convert it into something (say 1D array) because it is already an 1D array."
   ]
  },
  {
   "cell_type": "code",
   "execution_count": 1,
   "metadata": {
    "ExecuteTime": {
     "end_time": "2020-10-04T05:55:17.050865Z",
     "start_time": "2020-10-04T05:55:16.307323Z"
    }
   },
   "outputs": [],
   "source": [
    "import tensorflow as tf\n",
    "from tensorflow import keras\n",
    "import numpy as np\n",
    "import matplotlib.pyplot as plt"
   ]
  },
  {
   "cell_type": "code",
   "execution_count": 2,
   "metadata": {
    "ExecuteTime": {
     "end_time": "2020-10-04T05:56:03.520528Z",
     "start_time": "2020-10-04T05:56:03.511274Z"
    }
   },
   "outputs": [],
   "source": [
    "# Importing hand written digits dataset from keras datasets"
   ]
  },
  {
   "cell_type": "code",
   "execution_count": 3,
   "metadata": {
    "ExecuteTime": {
     "end_time": "2020-10-04T05:57:35.015422Z",
     "start_time": "2020-10-04T05:57:29.871852Z"
    }
   },
   "outputs": [
    {
     "name": "stdout",
     "output_type": "stream",
     "text": [
      "Downloading data from https://storage.googleapis.com/tensorflow/tf-keras-datasets/mnist.npz\n",
      "11493376/11490434 [==============================] - 3s 0us/step\n"
     ]
    }
   ],
   "source": [
    "(x_train, y_train),(x_test, y_test)=keras.datasets.mnist.load_data()"
   ]
  },
  {
   "cell_type": "code",
   "execution_count": 5,
   "metadata": {
    "ExecuteTime": {
     "end_time": "2020-10-04T05:58:41.167273Z",
     "start_time": "2020-10-04T05:58:41.159664Z"
    }
   },
   "outputs": [
    {
     "data": {
      "text/plain": [
       "(60000, 28, 28)"
      ]
     },
     "execution_count": 5,
     "metadata": {},
     "output_type": "execute_result"
    }
   ],
   "source": [
    "# Lets see the size of train and test data\n",
    "x_train.shape"
   ]
  },
  {
   "cell_type": "code",
   "execution_count": 6,
   "metadata": {
    "ExecuteTime": {
     "end_time": "2020-10-04T05:58:50.059786Z",
     "start_time": "2020-10-04T05:58:50.051465Z"
    }
   },
   "outputs": [
    {
     "data": {
      "text/plain": [
       "(10000, 28, 28)"
      ]
     },
     "execution_count": 6,
     "metadata": {},
     "output_type": "execute_result"
    }
   ],
   "source": [
    "x_test.shape"
   ]
  },
  {
   "cell_type": "code",
   "execution_count": 7,
   "metadata": {
    "ExecuteTime": {
     "end_time": "2020-10-04T06:00:18.649475Z",
     "start_time": "2020-10-04T06:00:18.646483Z"
    }
   },
   "outputs": [],
   "source": [
    "# You can see that there are 60 thousand samples of digits with each having a 28*28 grid of numbers that represent the number\n",
    "# Note that the number defines the illuminance 0 ==> black and 255 ==> white."
   ]
  },
  {
   "cell_type": "code",
   "execution_count": 9,
   "metadata": {
    "ExecuteTime": {
     "end_time": "2020-10-04T06:00:39.685932Z",
     "start_time": "2020-10-04T06:00:39.496600Z"
    }
   },
   "outputs": [
    {
     "data": {
      "text/plain": [
       "<matplotlib.image.AxesImage at 0x22eede3b948>"
      ]
     },
     "execution_count": 9,
     "metadata": {},
     "output_type": "execute_result"
    },
    {
     "data": {
      "image/png": "[encoded data removed]",
      "text/plain": [
       "<Figure size 288x288 with 1 Axes>"
      ]
     },
     "metadata": {
      "needs_background": "light"
     },
     "output_type": "display_data"
    }
   ],
   "source": [
    "plt.matshow(x_train[1])"
   ]
  },
  {
   "cell_type": "code",
   "execution_count": 10,
   "metadata": {
    "ExecuteTime": {
     "end_time": "2020-10-04T06:00:50.564412Z",
     "start_time": "2020-10-04T06:00:50.554608Z"
    }
   },
   "outputs": [
    {
     "data": {
      "text/plain": [
       "0"
      ]
     },
     "execution_count": 10,
     "metadata": {},
     "output_type": "execute_result"
    }
   ],
   "source": [
    "y_train[1]"
   ]
  },
  {
   "cell_type": "code",
   "execution_count": 11,
   "metadata": {
    "ExecuteTime": {
     "end_time": "2020-10-04T06:02:14.242932Z",
     "start_time": "2020-10-04T06:02:14.231142Z"
    }
   },
   "outputs": [
    {
     "data": {
      "text/plain": [
       "array([[[0, 0, 0, ..., 0, 0, 0],\n",
       "        [0, 0, 0, ..., 0, 0, 0],\n",
       "        [0, 0, 0, ..., 0, 0, 0],\n",
       "        ...,\n",
       "        [0, 0, 0, ..., 0, 0, 0],\n",
       "        [0, 0, 0, ..., 0, 0, 0],\n",
       "        [0, 0, 0, ..., 0, 0, 0]],\n",
       "\n",
       "       [[0, 0, 0, ..., 0, 0, 0],\n",
       "        [0, 0, 0, ..., 0, 0, 0],\n",
       "        [0, 0, 0, ..., 0, 0, 0],\n",
       "        ...,\n",
       "        [0, 0, 0, ..., 0, 0, 0],\n",
       "        [0, 0, 0, ..., 0, 0, 0],\n",
       "        [0, 0, 0, ..., 0, 0, 0]],\n",
       "\n",
       "       [[0, 0, 0, ..., 0, 0, 0],\n",
       "        [0, 0, 0, ..., 0, 0, 0],\n",
       "        [0, 0, 0, ..., 0, 0, 0],\n",
       "        ...,\n",
       "        [0, 0, 0, ..., 0, 0, 0],\n",
       "        [0, 0, 0, ..., 0, 0, 0],\n",
       "        [0, 0, 0, ..., 0, 0, 0]],\n",
       "\n",
       "       ...,\n",
       "\n",
       "       [[0, 0, 0, ..., 0, 0, 0],\n",
       "        [0, 0, 0, ..., 0, 0, 0],\n",
       "        [0, 0, 0, ..., 0, 0, 0],\n",
       "        ...,\n",
       "        [0, 0, 0, ..., 0, 0, 0],\n",
       "        [0, 0, 0, ..., 0, 0, 0],\n",
       "        [0, 0, 0, ..., 0, 0, 0]],\n",
       "\n",
       "       [[0, 0, 0, ..., 0, 0, 0],\n",
       "        [0, 0, 0, ..., 0, 0, 0],\n",
       "        [0, 0, 0, ..., 0, 0, 0],\n",
       "        ...,\n",
       "        [0, 0, 0, ..., 0, 0, 0],\n",
       "        [0, 0, 0, ..., 0, 0, 0],\n",
       "        [0, 0, 0, ..., 0, 0, 0]],\n",
       "\n",
       "       [[0, 0, 0, ..., 0, 0, 0],\n",
       "        [0, 0, 0, ..., 0, 0, 0],\n",
       "        [0, 0, 0, ..., 0, 0, 0],\n",
       "        ...,\n",
       "        [0, 0, 0, ..., 0, 0, 0],\n",
       "        [0, 0, 0, ..., 0, 0, 0],\n",
       "        [0, 0, 0, ..., 0, 0, 0]]], dtype=uint8)"
      ]
     },
     "execution_count": 11,
     "metadata": {},
     "output_type": "execute_result"
    }
   ],
   "source": [
    "x_train"
   ]
  },
  {
   "cell_type": "code",
   "execution_count": 12,
   "metadata": {
    "ExecuteTime": {
     "end_time": "2020-10-04T06:02:17.295359Z",
     "start_time": "2020-10-04T06:02:17.276790Z"
    }
   },
   "outputs": [
    {
     "data": {
      "text/plain": [
       "array([5, 0, 4, ..., 5, 6, 8], dtype=uint8)"
      ]
     },
     "execution_count": 12,
     "metadata": {},
     "output_type": "execute_result"
    }
   ],
   "source": [
    "y_train"
   ]
  },
  {
   "cell_type": "code",
   "execution_count": 13,
   "metadata": {
    "ExecuteTime": {
     "end_time": "2020-10-04T06:02:55.548808Z",
     "start_time": "2020-10-04T06:02:55.535760Z"
    }
   },
   "outputs": [],
   "source": [
    "# You can see that y_train contains numbers between 0 and 1 whereas the x_train contains all the digits."
   ]
  },
  {
   "cell_type": "code",
   "execution_count": 20,
   "metadata": {
    "ExecuteTime": {
     "end_time": "2020-10-04T06:07:20.779370Z",
     "start_time": "2020-10-04T06:07:20.764246Z"
    }
   },
   "outputs": [],
   "source": [
    "# Now we flatten the x_train array:\n",
    "x_train_flattened=x_train.reshape(x_train.shape[0],784)\n",
    "x_test_flattened=x_test.reshape(x_test.shape[0],784)"
   ]
  },
  {
   "cell_type": "code",
   "execution_count": 21,
   "metadata": {
    "ExecuteTime": {
     "end_time": "2020-10-04T06:07:29.356712Z",
     "start_time": "2020-10-04T06:07:29.338655Z"
    }
   },
   "outputs": [
    {
     "data": {
      "text/plain": [
       "((60000, 784), (10000, 784))"
      ]
     },
     "execution_count": 21,
     "metadata": {},
     "output_type": "execute_result"
    }
   ],
   "source": [
    "x_train_flattened.shape,x_test_flattened.shape"
   ]
  },
  {
   "cell_type": "code",
   "execution_count": 22,
   "metadata": {
    "ExecuteTime": {
     "end_time": "2020-10-04T06:09:40.125688Z",
     "start_time": "2020-10-04T06:09:40.122230Z"
    }
   },
   "outputs": [],
   "source": [
    "# Now we will create a simple neural network with no hidden layers."
   ]
  },
  {
   "cell_type": "code",
   "execution_count": 25,
   "metadata": {
    "ExecuteTime": {
     "end_time": "2020-10-04T06:17:32.809932Z",
     "start_time": "2020-10-04T06:17:32.478218Z"
    }
   },
   "outputs": [],
   "source": [
    "# We train a neural network sequentially i.e., first the input layer then the hidden layer1, hidden layer2,... and then the \n",
    "# output layer. Since we are using dense layers each time we will use keras.layers.Dense(output, input_shape(number,))\n",
    "# Note: \",\" is used within the input_shape(number,) otherwise it would flash an error.\n",
    "model=keras.Sequential([\n",
    "    # input layer to output layer:\n",
    "    keras.layers.Dense(10,input_shape=(784,),activation=\"sigmoid\")\n",
    "])"
   ]
  },
  {
   "cell_type": "code",
   "execution_count": 26,
   "metadata": {
    "ExecuteTime": {
     "end_time": "2020-10-04T06:22:18.330651Z",
     "start_time": "2020-10-04T06:22:18.316659Z"
    }
   },
   "outputs": [],
   "source": [
    "# Now we compile the model where we pass various parameters like optimizers, loss. Optimizers are used to train efficiently. When\n",
    "# training and during Backward Error Propagation, it helps in reaching global optima in efficient way."
   ]
  },
  {
   "cell_type": "code",
   "execution_count": 28,
   "metadata": {
    "ExecuteTime": {
     "end_time": "2020-10-04T06:31:42.929508Z",
     "start_time": "2020-10-04T06:31:42.903681Z"
    }
   },
   "outputs": [],
   "source": [
    "model.compile(\n",
    "    optimizer='adam',\n",
    "    loss='sparse_categorical_crossentropy', # categorical_crossentropy means using category as output and since our output is \n",
    "    # in 0-9 we are using sparse. If our output were to be one-hot encoded, we would use categorical_crossentropy.\n",
    "    metrics=['accuracy'] # When model is training, our goalis to make it more accurate.\n",
    ")"
   ]
  },
  {
   "cell_type": "code",
   "execution_count": 29,
   "metadata": {
    "ExecuteTime": {
     "end_time": "2020-10-04T06:33:53.650564Z",
     "start_time": "2020-10-04T06:33:30.787126Z"
    }
   },
   "outputs": [
    {
     "name": "stdout",
     "output_type": "stream",
     "text": [
      "Epoch 1/5\n",
      "1875/1875 [==============================] - 5s 2ms/step - loss: 2.6926 - accuracy: 0.4647\n",
      "Epoch 2/5\n",
      "1875/1875 [==============================] - 3s 2ms/step - loss: 1.3295 - accuracy: 0.6147\n",
      "Epoch 3/5\n",
      "1875/1875 [==============================] - 5s 3ms/step - loss: 1.2220 - accuracy: 0.6619\n",
      "Epoch 4/5\n",
      "1875/1875 [==============================] - 4s 2ms/step - loss: 1.1668 - accuracy: 0.6428\n",
      "Epoch 5/5\n",
      "1875/1875 [==============================] - 5s 3ms/step - loss: 1.1432 - accuracy: 0.6510\n"
     ]
    },
    {
     "data": {
      "text/plain": [
       "<tensorflow.python.keras.callbacks.History at 0x22ef7b3f548>"
      ]
     },
     "execution_count": 29,
     "metadata": {},
     "output_type": "execute_result"
    }
   ],
   "source": [
    "# Now we fit our model\n",
    "model.fit(x_train_flattened,y_train,epochs=5) # epochs is the number of iterations that happen during training the model."
   ]
  },
  {
   "cell_type": "code",
   "execution_count": 30,
   "metadata": {
    "ExecuteTime": {
     "end_time": "2020-10-04T06:35:14.180363Z",
     "start_time": "2020-10-04T06:35:14.172673Z"
    }
   },
   "outputs": [],
   "source": [
    "# You may observe that though neural networks is used for training our accuracy is not upto the mark. This is because\n",
    "# we have not feature scaled our data. Now we feature scale our data and then check for accuracy. Note that we have not\n",
    "# introduced any hidden layer to it."
   ]
  },
  {
   "cell_type": "code",
   "execution_count": 31,
   "metadata": {
    "ExecuteTime": {
     "end_time": "2020-10-04T06:37:34.370104Z",
     "start_time": "2020-10-04T06:37:34.119865Z"
    }
   },
   "outputs": [],
   "source": [
    "# We know that the value ranges from 0 to 255 in our dataset. So lets divide everything with 255 to get a scaled data.\n",
    "x_train_flattened=x_train_flattened/255"
   ]
  },
  {
   "cell_type": "code",
   "execution_count": 39,
   "metadata": {
    "ExecuteTime": {
     "end_time": "2020-10-04T06:38:28.541156Z",
     "start_time": "2020-10-04T06:38:28.376276Z"
    }
   },
   "outputs": [
    {
     "data": {
      "text/plain": [
       "0.1306604762738429"
      ]
     },
     "execution_count": 39,
     "metadata": {},
     "output_type": "execute_result"
    }
   ],
   "source": [
    "x_train_flattened.mean()"
   ]
  },
  {
   "cell_type": "code",
   "execution_count": 40,
   "metadata": {
    "ExecuteTime": {
     "end_time": "2020-10-04T06:38:47.979711Z",
     "start_time": "2020-10-04T06:38:47.969572Z"
    }
   },
   "outputs": [],
   "source": [
    "# You can see that the values are between 0 and 1"
   ]
  },
  {
   "cell_type": "code",
   "execution_count": 41,
   "metadata": {
    "ExecuteTime": {
     "end_time": "2020-10-04T06:39:15.593280Z",
     "start_time": "2020-10-04T06:39:15.511496Z"
    }
   },
   "outputs": [],
   "source": [
    "# Similarly we do this to test data,\n",
    "x_test_flattened=x_test_flattened/255"
   ]
  },
  {
   "cell_type": "code",
   "execution_count": 44,
   "metadata": {
    "ExecuteTime": {
     "end_time": "2020-10-04T06:43:47.118514Z",
     "start_time": "2020-10-04T06:43:24.825312Z"
    }
   },
   "outputs": [
    {
     "name": "stdout",
     "output_type": "stream",
     "text": [
      "Epoch 1/5\n",
      "1875/1875 [==============================] - 4s 2ms/step - loss: 0.4836 - accuracy: 0.8806\n",
      "Epoch 2/5\n",
      "1875/1875 [==============================] - 4s 2ms/step - loss: 0.3061 - accuracy: 0.9146\n",
      "Epoch 3/5\n",
      "1875/1875 [==============================] - 5s 3ms/step - loss: 0.2857 - accuracy: 0.9212\n",
      "Epoch 4/5\n",
      "1875/1875 [==============================] - 4s 2ms/step - loss: 0.2748 - accuracy: 0.9238\n",
      "Epoch 5/5\n",
      "1875/1875 [==============================] - 5s 2ms/step - loss: 0.2681 - accuracy: 0.9262\n"
     ]
    },
    {
     "data": {
      "text/plain": [
       "<tensorflow.python.keras.callbacks.History at 0x22ef7d0e308>"
      ]
     },
     "execution_count": 44,
     "metadata": {},
     "output_type": "execute_result"
    }
   ],
   "source": [
    "# Now we construct the neural network for input and output layer with no hidden layers.\n",
    "model=keras.Sequential([\n",
    "    keras.layers.Dense(10,input_shape=(784,),activation=\"sigmoid\")\n",
    "])\n",
    "model.compile(optimizer='adam',loss='sparse_categorical_crossentropy',metrics=['accuracy'])\n",
    "model.fit(x_train_flattened,y_train,epochs=5)"
   ]
  },
  {
   "cell_type": "code",
   "execution_count": 45,
   "metadata": {
    "ExecuteTime": {
     "end_time": "2020-10-04T06:44:16.885426Z",
     "start_time": "2020-10-04T06:44:16.874017Z"
    }
   },
   "outputs": [],
   "source": [
    "# You can see that feature scaling our data has increased its accuracy."
   ]
  },
  {
   "cell_type": "code",
   "execution_count": 46,
   "metadata": {
    "ExecuteTime": {
     "end_time": "2020-10-04T06:45:40.883207Z",
     "start_time": "2020-10-04T06:45:40.119536Z"
    }
   },
   "outputs": [
    {
     "name": "stdout",
     "output_type": "stream",
     "text": [
      "313/313 [==============================] - 0s 1ms/step - loss: 0.2720 - accuracy: 0.9230\n"
     ]
    },
    {
     "data": {
      "text/plain": [
       "[0.2720035910606384, 0.9229999780654907]"
      ]
     },
     "execution_count": 46,
     "metadata": {},
     "output_type": "execute_result"
    }
   ],
   "source": [
    "# Now lets evaluate the accuracy on the test dataset,\n",
    "model.evaluate(x_test_flattened,y_test)"
   ]
  },
  {
   "cell_type": "code",
   "execution_count": 47,
   "metadata": {
    "ExecuteTime": {
     "end_time": "2020-10-04T06:46:12.347110Z",
     "start_time": "2020-10-04T06:46:12.330658Z"
    }
   },
   "outputs": [],
   "source": [
    "# You can see that our model performs well on the test dataset with 92.3% accuracy."
   ]
  },
  {
   "cell_type": "code",
   "execution_count": 48,
   "metadata": {
    "ExecuteTime": {
     "end_time": "2020-10-04T06:48:18.824452Z",
     "start_time": "2020-10-04T06:48:18.306006Z"
    }
   },
   "outputs": [],
   "source": [
    "# Lets predict some values,\n",
    "y_pred=model.predict(x_test_flattened)"
   ]
  },
  {
   "cell_type": "code",
   "execution_count": 51,
   "metadata": {
    "ExecuteTime": {
     "end_time": "2020-10-04T06:49:05.337222Z",
     "start_time": "2020-10-04T06:49:05.112016Z"
    }
   },
   "outputs": [
    {
     "data": {
      "text/plain": [
       "<matplotlib.image.AxesImage at 0x22ef7d58888>"
      ]
     },
     "execution_count": 51,
     "metadata": {},
     "output_type": "execute_result"
    },
    {
     "data": {
      "image/png": "[encoded data removed]",
      "text/plain": [
       "<Figure size 288x288 with 1 Axes>"
      ]
     },
     "metadata": {
      "needs_background": "light"
     },
     "output_type": "display_data"
    }
   ],
   "source": [
    "plt.matshow(x_test[0])"
   ]
  },
  {
   "cell_type": "code",
   "execution_count": 52,
   "metadata": {
    "ExecuteTime": {
     "end_time": "2020-10-04T06:49:09.673456Z",
     "start_time": "2020-10-04T06:49:09.652069Z"
    }
   },
   "outputs": [
    {
     "data": {
      "text/plain": [
       "array([1.5603726e-05, 1.3970071e-10, 5.0321287e-05, 7.6182485e-03,\n",
       "       8.8221486e-07, 7.5137839e-05, 1.7055133e-09, 7.8846866e-01,\n",
       "       6.6355031e-05, 1.4660358e-03], dtype=float32)"
      ]
     },
     "execution_count": 52,
     "metadata": {},
     "output_type": "execute_result"
    }
   ],
   "source": [
    "y_pred[0]"
   ]
  },
  {
   "cell_type": "code",
   "execution_count": 53,
   "metadata": {
    "ExecuteTime": {
     "end_time": "2020-10-04T06:50:18.113829Z",
     "start_time": "2020-10-04T06:50:18.099954Z"
    }
   },
   "outputs": [
    {
     "data": {
      "text/plain": [
       "7"
      ]
     },
     "execution_count": 53,
     "metadata": {},
     "output_type": "execute_result"
    }
   ],
   "source": [
    "np.argmax(y_pred[0])"
   ]
  },
  {
   "cell_type": "code",
   "execution_count": 54,
   "metadata": {
    "ExecuteTime": {
     "end_time": "2020-10-04T06:52:03.847380Z",
     "start_time": "2020-10-04T06:52:03.837765Z"
    }
   },
   "outputs": [],
   "source": [
    "# Since the output is the scores of the each value that can be predicted (0-9), we check for the max score and that will be\n",
    "# the prediction. To get the max score's index, we use np.argmax()"
   ]
  },
  {
   "cell_type": "code",
   "execution_count": 55,
   "metadata": {
    "ExecuteTime": {
     "end_time": "2020-10-04T06:54:41.453159Z",
     "start_time": "2020-10-04T06:54:41.441885Z"
    }
   },
   "outputs": [],
   "source": [
    "# Lets have a look at the confusion matrix to see number of false positives and other stuff"
   ]
  },
  {
   "cell_type": "code",
   "execution_count": 57,
   "metadata": {
    "ExecuteTime": {
     "end_time": "2020-10-04T06:57:45.130123Z",
     "start_time": "2020-10-04T06:57:45.088814Z"
    }
   },
   "outputs": [],
   "source": [
    "# In order to use a confusion matrix, we need to convert the predicted array into predicted values since this array contains\n",
    "# the prediction scores.\n",
    "y_pred=[np.argmax(i) for i in y_pred]"
   ]
  },
  {
   "cell_type": "code",
   "execution_count": 59,
   "metadata": {
    "ExecuteTime": {
     "end_time": "2020-10-04T06:58:01.067492Z",
     "start_time": "2020-10-04T06:58:01.035937Z"
    }
   },
   "outputs": [
    {
     "data": {
      "text/plain": [
       "<tf.Tensor: shape=(10, 10), dtype=int32, numpy=\n",
       "array([[ 963,    0,    1,    2,    0,    5,    6,    2,    1,    0],\n",
       "       [   0, 1118,    3,    2,    0,    1,    4,    2,    5,    0],\n",
       "       [   7,   10,  930,   16,    7,    2,   12,   11,   32,    5],\n",
       "       [   3,    0,   21,  925,    0,   20,    2,   12,   11,   16],\n",
       "       [   2,    2,    2,    1,  894,    0,   12,    4,    5,   60],\n",
       "       [   9,    2,    2,   40,    9,  769,   17,    8,   25,   11],\n",
       "       [  11,    3,    7,    1,    7,   13,  913,    2,    1,    0],\n",
       "       [   1,    6,   22,    6,    4,    0,    0,  943,    0,   46],\n",
       "       [   8,   12,    8,   26,    9,   34,   10,   11,  828,   28],\n",
       "       [  11,    6,    1,    8,   13,    4,    0,   17,    2,  947]])>"
      ]
     },
     "execution_count": 59,
     "metadata": {},
     "output_type": "execute_result"
    }
   ],
   "source": [
    "tf.math.confusion_matrix(labels=y_test,predictions=y_pred)"
   ]
  },
  {
   "cell_type": "code",
   "execution_count": 62,
   "metadata": {
    "ExecuteTime": {
     "end_time": "2020-10-04T07:00:39.952836Z",
     "start_time": "2020-10-04T07:00:38.951839Z"
    }
   },
   "outputs": [
    {
     "data": {
      "text/plain": [
       "Text(114.0, 0.5, 'Actual')"
      ]
     },
     "execution_count": 62,
     "metadata": {},
     "output_type": "execute_result"
    },
    {
     "data": {
      "image/png": "[encoded data removed]",
      "text/plain": [
       "<Figure size 1080x1080 with 2 Axes>"
      ]
     },
     "metadata": {
      "needs_background": "light"
     },
     "output_type": "display_data"
    }
   ],
   "source": [
    "import seaborn as sns\n",
    "plt.figure(figsize=[15,15])\n",
    "sns.heatmap(tf.math.confusion_matrix(labels=y_test,predictions=y_pred),annot=True)\n",
    "plt.xlabel(\"Predicted\")\n",
    "plt.ylabel(\"Actual\")"
   ]
  },
  {
   "cell_type": "code",
   "execution_count": 63,
   "metadata": {
    "ExecuteTime": {
     "end_time": "2020-10-04T07:04:06.624631Z",
     "start_time": "2020-10-04T07:04:06.617368Z"
    }
   },
   "outputs": [],
   "source": [
    "# Now we will introduce a hidden layer in between the input and outpu layers"
   ]
  },
  {
   "cell_type": "code",
   "execution_count": 66,
   "metadata": {
    "ExecuteTime": {
     "end_time": "2020-10-04T07:08:23.738436Z",
     "start_time": "2020-10-04T07:07:55.204857Z"
    }
   },
   "outputs": [
    {
     "name": "stdout",
     "output_type": "stream",
     "text": [
      "Epoch 1/5\n",
      "1875/1875 [==============================] - 4s 2ms/step - loss: 0.2920 - accuracy: 0.9189\n",
      "Epoch 2/5\n",
      "1875/1875 [==============================] - 6s 3ms/step - loss: 0.1347 - accuracy: 0.9602\n",
      "Epoch 3/5\n",
      "1875/1875 [==============================] - 5s 3ms/step - loss: 0.0948 - accuracy: 0.9721\n",
      "Epoch 4/5\n",
      "1875/1875 [==============================] - 7s 4ms/step - loss: 0.0748 - accuracy: 0.9779\n",
      "Epoch 5/5\n",
      "1875/1875 [==============================] - 6s 3ms/step - loss: 0.0616 - accuracy: 0.9814\n"
     ]
    },
    {
     "data": {
      "text/plain": [
       "<tensorflow.python.keras.callbacks.History at 0x22ea22a0788>"
      ]
     },
     "execution_count": 66,
     "metadata": {},
     "output_type": "execute_result"
    }
   ],
   "source": [
    "model=keras.Sequential([\n",
    "    # Input to hidden layer\n",
    "    keras.layers.Dense(100, input_shape=(784,),activation='relu'),\n",
    "    # hidden to output layer\n",
    "    keras.layers.Dense(10,activation='sigmoid') # Here input is not needed because it automatically detects it\n",
    "])\n",
    "model.compile(optimizer='adam', loss='sparse_categorical_crossentropy',metrics=['accuracy'])\n",
    "model.fit(x_train_flattened,y_train,epochs=5)"
   ]
  },
  {
   "cell_type": "code",
   "execution_count": 67,
   "metadata": {
    "ExecuteTime": {
     "end_time": "2020-10-04T07:09:02.064819Z",
     "start_time": "2020-10-04T07:09:02.054612Z"
    }
   },
   "outputs": [],
   "source": [
    "# You can see that our accuracy has been increased to a large extent after introducing a new hidden layer."
   ]
  },
  {
   "cell_type": "code",
   "execution_count": 68,
   "metadata": {
    "ExecuteTime": {
     "end_time": "2020-10-04T07:10:06.981397Z",
     "start_time": "2020-10-04T07:10:06.246684Z"
    }
   },
   "outputs": [
    {
     "name": "stdout",
     "output_type": "stream",
     "text": [
      "313/313 [==============================] - 1s 2ms/step - loss: 0.0921 - accuracy: 0.9733\n"
     ]
    },
    {
     "data": {
      "text/plain": [
       "[0.09211964905261993, 0.9732999801635742]"
      ]
     },
     "execution_count": 68,
     "metadata": {},
     "output_type": "execute_result"
    }
   ],
   "source": [
    "# Lets evaluate the model performance on the test data\n",
    "model.evaluate(x_test_flattened,y_test)"
   ]
  },
  {
   "cell_type": "code",
   "execution_count": 69,
   "metadata": {
    "ExecuteTime": {
     "end_time": "2020-10-04T07:10:56.458489Z",
     "start_time": "2020-10-04T07:10:56.444106Z"
    }
   },
   "outputs": [],
   "source": [
    "# You can see that our test score is 97.3% accurate."
   ]
  },
  {
   "cell_type": "code",
   "execution_count": 70,
   "metadata": {
    "ExecuteTime": {
     "end_time": "2020-10-04T07:11:08.820371Z",
     "start_time": "2020-10-04T07:11:08.802421Z"
    }
   },
   "outputs": [],
   "source": [
    "# Now lets check the confusion_matrix"
   ]
  },
  {
   "cell_type": "code",
   "execution_count": 72,
   "metadata": {
    "ExecuteTime": {
     "end_time": "2020-10-04T07:13:37.828376Z",
     "start_time": "2020-10-04T07:13:36.325743Z"
    }
   },
   "outputs": [
    {
     "data": {
      "text/plain": [
       "Text(69.0, 0.5, 'Prediction')"
      ]
     },
     "execution_count": 72,
     "metadata": {},
     "output_type": "execute_result"
    },
    {
     "data": {
      "image/png": "[encoded data removed]",
      "text/plain": [
       "<Figure size 720x720 with 2 Axes>"
      ]
     },
     "metadata": {
      "needs_background": "light"
     },
     "output_type": "display_data"
    }
   ],
   "source": [
    "y_pred=model.predict(x_test_flattened)\n",
    "y_pred=[np.argmax(i) for i in y_pred]\n",
    "plt.figure(figsize=[10,10])\n",
    "sns.heatmap(tf.math.confusion_matrix(labels=y_test,predictions=y_pred),annot=True)\n",
    "plt.xlabel(\"Truth\")\n",
    "plt.ylabel(\"Prediction\")"
   ]
  },
  {
   "cell_type": "code",
   "execution_count": 73,
   "metadata": {
    "ExecuteTime": {
     "end_time": "2020-10-04T07:13:51.333379Z",
     "start_time": "2020-10-04T07:13:51.317457Z"
    }
   },
   "outputs": [],
   "source": [
    "# You can see that our accuracy has been increased and the number of false positives has been decreased."
   ]
  },
  {
   "cell_type": "code",
   "execution_count": 74,
   "metadata": {
    "ExecuteTime": {
     "end_time": "2020-10-04T07:17:25.605280Z",
     "start_time": "2020-10-04T07:16:57.811927Z"
    }
   },
   "outputs": [
    {
     "name": "stdout",
     "output_type": "stream",
     "text": [
      "Epoch 1/5\n",
      "1875/1875 [==============================] - 3s 2ms/step - loss: 0.3061 - accuracy: 0.9151\n",
      "Epoch 2/5\n",
      "1875/1875 [==============================] - 5s 2ms/step - loss: 0.1480 - accuracy: 0.9572\n",
      "Epoch 3/5\n",
      "1875/1875 [==============================] - 7s 4ms/step - loss: 0.1060 - accuracy: 0.9692\n",
      "Epoch 4/5\n",
      "1875/1875 [==============================] - 6s 3ms/step - loss: 0.0815 - accuracy: 0.9756\n",
      "Epoch 5/5\n",
      "1875/1875 [==============================] - 6s 3ms/step - loss: 0.0656 - accuracy: 0.9798\n"
     ]
    },
    {
     "data": {
      "text/plain": [
       "<tensorflow.python.keras.callbacks.History at 0x22ea23a9b48>"
      ]
     },
     "execution_count": 74,
     "metadata": {},
     "output_type": "execute_result"
    }
   ],
   "source": [
    "# If you do not want to flatten the array manually, you can use keras.layers.Flatten instead.\n",
    "model=keras.Sequential([\n",
    "    # flatten the array\n",
    "    keras.layers.Flatten(input_shape=(28,28)),\n",
    "    # Input to hidden layer\n",
    "    keras.layers.Dense(100,activation='relu'),\n",
    "    # hidden to output layer\n",
    "    keras.layers.Dense(10,activation='sigmoid') # Here input is not needed because it automatically detects it\n",
    "])\n",
    "model.compile(optimizer='adam', loss='sparse_categorical_crossentropy',metrics=['accuracy'])\n",
    "model.fit(x_train/255,y_train,epochs=5)"
   ]
  },
  {
   "cell_type": "code",
   "execution_count": null,
   "metadata": {},
   "outputs": [],
   "source": []
  }
 ],
 "metadata": {
  "kernelspec": {
   "display_name": "Python 3",
   "language": "python",
   "name": "python3"
  },
  "language_info": {
   "codemirror_mode": {
    "name": "ipython",
    "version": 3
   },
   "file_extension": ".py",
   "mimetype": "text/x-python",
   "name": "python",
   "nbconvert_exporter": "python",
   "pygments_lexer": "ipython3",
   "version": "3.7.7"
  },
  "toc": {
   "base_numbering": 1,
   "nav_menu": {},
   "number_sections": true,
   "sideBar": true,
   "skip_h1_title": false,
   "title_cell": "Table of Contents",
   "title_sidebar": "Contents",
   "toc_cell": false,
   "toc_position": {},
   "toc_section_display": true,
   "toc_window_display": false
  }
 },
 "nbformat": 4,
 "nbformat_minor": 4
}
